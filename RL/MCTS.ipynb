{
 "cells": [
  {
   "cell_type": "markdown",
   "id": "e0852e39-35b5-426e-8a73-bb8740ba9768",
   "metadata": {},
   "source": [
    "# Solving the game of Nim using Monte Carlo / Monte Carlo Tree Search\n",
    "\n",
    "Nim\n",
    "- You have N matchsticks\n",
    "- Each turn, player will take from 1 - K matchsticks\n",
    "- Player which takes the last matchstick loses"
   ]
  },
  {
   "cell_type": "markdown",
   "id": "deab20b5-edca-4ddf-b4b0-e041597d65d1",
   "metadata": {},
   "source": [
    "# Game Coding"
   ]
  },
  {
   "cell_type": "code",
   "execution_count": 1,
   "id": "3daa4896-42ab-47da-b341-b7cfc6c1f6dd",
   "metadata": {},
   "outputs": [],
   "source": [
    "import numpy as np\n",
    "class Nim:\n",
    "    def __init__(self, N=21, K=3):\n",
    "        self.N = N\n",
    "        self.K = K\n",
    "        self.reset()\n",
    "        \n",
    "    def move(self, num):\n",
    "        if 1 <= num <= self.K:\n",
    "            # remove matchstick\n",
    "            self.matchstick -= num\n",
    "            # swap player's turn (1 for Player 1, 2 for Player 2)\n",
    "            self.turn = 3 - self.turn\n",
    "            \n",
    "            # if win, then end the game\n",
    "            if self.lose():\n",
    "                self.done = 1\n",
    "                self.reward = 1 if self.turn == 1 else -1\n",
    "                \n",
    "            return (self.matchstick, self.turn, self.reward, self.done)\n",
    "                \n",
    "        else:\n",
    "            print(f\"{num}: Invalid move\")\n",
    "            return None, None, None, None\n",
    "            \n",
    "    def lose(self):\n",
    "        ''' You lose when you take the last matchstick '''\n",
    "        return self.matchstick == 0\n",
    "    \n",
    "    def validmoves(self):\n",
    "        return list(range(1, min(self.K, self.matchstick)+1))\n",
    "    \n",
    "    def sample(self):\n",
    "        ''' Returns a random move '''\n",
    "        return np.random.choice(self.validmoves())\n",
    "        \n",
    "    def reset(self):\n",
    "        self.matchstick = self.N\n",
    "        self.turn = 1\n",
    "        self.done = 0\n",
    "        self.reward = 0\n",
    "        "
   ]
  },
  {
   "cell_type": "code",
   "execution_count": 2,
   "id": "3570d19a-1a44-46f0-a646-b2be1059d6da",
   "metadata": {},
   "outputs": [],
   "source": [
    "def Game(Agent1, Agent2, N, K, verbose = True):\n",
    "    ''' This plays a game with Agent1 and Agent 2 \n",
    "    Inputs: Agent 1 - Program to make move for player 1\n",
    "            Agent 2 - Program to make move for player 2\n",
    "            N - number of matchsticks at beginning\n",
    "            K - number of matchsticks (upper limit) to remove each turn\n",
    "            verbose - whether to print out the game\n",
    "    '''\n",
    "\n",
    "    env = Nim(N, K)\n",
    "    while not env.done:\n",
    "        if env.turn == 1:\n",
    "            move = Agent1(env.matchstick, K, env.validmoves())\n",
    "        else:\n",
    "            move = Agent2(env.matchstick, K, env.validmoves())\n",
    "        # move = env.sample()\n",
    "        matchstick, turn, reward, done = env.move(move)\n",
    "        if verbose:\n",
    "            print(f'Player {3-turn} takes {move} matchstick(s). There are {matchstick} matchstick(s) remaining.')\n",
    "\n",
    "    playerwin = 1 if env.reward == 1 else 2\n",
    "    if verbose:\n",
    "        print(f'Player {playerwin} wins!')\n",
    "    return env.reward"
   ]
  },
  {
   "cell_type": "code",
   "execution_count": 3,
   "id": "4995f92d-89bb-4bb4-8897-305061ec50e4",
   "metadata": {},
   "outputs": [],
   "source": [
    "# Run the game with random agents 100 times to see outcome\n",
    "def Tournament(numgames, Agent1, Agent2, N, K):\n",
    "    ''' This plays a tournament with Agent1 and Agent 2 \n",
    "    Inputs: numgames - Number of games for the tournament\n",
    "            Agent 1 - Program to make move for player 1\n",
    "            Agent 2 - Program to make move for player 2\n",
    "            N - number of matchsticks at beginning\n",
    "            K - number of matchsticks (upper limit) to remove each turn\n",
    "    '''\n",
    "    p1win, p2win = 0, 0\n",
    "    for gamenum in range(numgames):\n",
    "        reward = Game(Agent1, Agent2, N, K, verbose = False)\n",
    "        if reward == 1: p1win+=1\n",
    "        else: p2win+=1\n",
    "        \n",
    "    print(f'Player 1 wins {p1win} games. Player 2 wins {p2win} games.')"
   ]
  },
  {
   "cell_type": "markdown",
   "id": "6eebf8e1-1b6a-4925-8bdc-af6ef630c3c1",
   "metadata": {},
   "source": [
    "# Sample Agents"
   ]
  },
  {
   "cell_type": "code",
   "execution_count": 4,
   "id": "954f0156-e246-4660-8975-705b9fc96215",
   "metadata": {},
   "outputs": [],
   "source": [
    "def RandomAgent(N, K, validmoves):\n",
    "    ''' Returns a random move '''\n",
    "    return np.random.choice(validmoves)"
   ]
  },
  {
   "cell_type": "code",
   "execution_count": 5,
   "id": "cf64e230-265d-4393-ae80-a180b55d6011",
   "metadata": {},
   "outputs": [],
   "source": [
    "def PerfectAgent(N, K, validmoves):\n",
    "    # if can make it 1 mod (K+1), then do so\n",
    "    # doing so can ensure that we match the opponent's move to make it sum of (K+1), then the remainder of 1 will always be the opponent\n",
    "    # the opponent will eventually be forced to take the last matchstick after (K+1) blocks are used up\n",
    "    for move in validmoves:\n",
    "        if (N-move) % (K+1)==1:\n",
    "            return move\n",
    "\n",
    "    # otherwise just choose a random amount\n",
    "    return np.random.choice(validmoves)"
   ]
  },
  {
   "cell_type": "markdown",
   "id": "2b6be1e5-d308-479b-8086-2def5964b2e4",
   "metadata": {
    "tags": []
   },
   "source": [
    "# Run Some Trial Games\n",
    "- RandomAgent vs RandomAgent should win about the same number of times each\n",
    "- PerfectAgent should win almost all games"
   ]
  },
  {
   "cell_type": "code",
   "execution_count": 6,
   "id": "04c13833-8999-48f9-bdb7-b87a534a28d2",
   "metadata": {},
   "outputs": [
    {
     "name": "stdout",
     "output_type": "stream",
     "text": [
      "Player 1 takes 3 matchstick(s). There are 18 matchstick(s) remaining.\n",
      "Player 2 takes 1 matchstick(s). There are 17 matchstick(s) remaining.\n",
      "Player 1 takes 2 matchstick(s). There are 15 matchstick(s) remaining.\n",
      "Player 2 takes 2 matchstick(s). There are 13 matchstick(s) remaining.\n",
      "Player 1 takes 3 matchstick(s). There are 10 matchstick(s) remaining.\n",
      "Player 2 takes 1 matchstick(s). There are 9 matchstick(s) remaining.\n",
      "Player 1 takes 2 matchstick(s). There are 7 matchstick(s) remaining.\n",
      "Player 2 takes 2 matchstick(s). There are 5 matchstick(s) remaining.\n",
      "Player 1 takes 1 matchstick(s). There are 4 matchstick(s) remaining.\n",
      "Player 2 takes 3 matchstick(s). There are 1 matchstick(s) remaining.\n",
      "Player 1 takes 1 matchstick(s). There are 0 matchstick(s) remaining.\n",
      "Player 2 wins!\n"
     ]
    },
    {
     "data": {
      "text/plain": [
       "-1"
      ]
     },
     "execution_count": 6,
     "metadata": {},
     "output_type": "execute_result"
    }
   ],
   "source": [
    "Game(RandomAgent, PerfectAgent, 21, 3)"
   ]
  },
  {
   "cell_type": "code",
   "execution_count": 7,
   "id": "1a9d2a6c-2d0a-419b-8ec0-4580eb2f8f45",
   "metadata": {},
   "outputs": [
    {
     "name": "stdout",
     "output_type": "stream",
     "text": [
      "Player 1 takes 3 matchstick(s). There are 18 matchstick(s) remaining.\n",
      "Player 2 takes 1 matchstick(s). There are 17 matchstick(s) remaining.\n",
      "Player 1 takes 3 matchstick(s). There are 14 matchstick(s) remaining.\n",
      "Player 2 takes 2 matchstick(s). There are 12 matchstick(s) remaining.\n",
      "Player 1 takes 3 matchstick(s). There are 9 matchstick(s) remaining.\n",
      "Player 2 takes 2 matchstick(s). There are 7 matchstick(s) remaining.\n",
      "Player 1 takes 2 matchstick(s). There are 5 matchstick(s) remaining.\n",
      "Player 2 takes 2 matchstick(s). There are 3 matchstick(s) remaining.\n",
      "Player 1 takes 2 matchstick(s). There are 1 matchstick(s) remaining.\n",
      "Player 2 takes 1 matchstick(s). There are 0 matchstick(s) remaining.\n",
      "Player 1 wins!\n"
     ]
    },
    {
     "data": {
      "text/plain": [
       "1"
      ]
     },
     "execution_count": 7,
     "metadata": {},
     "output_type": "execute_result"
    }
   ],
   "source": [
    "Game(PerfectAgent, RandomAgent, 21, 3)"
   ]
  },
  {
   "cell_type": "code",
   "execution_count": 8,
   "id": "b08e0f62-e131-4abd-9853-f78e5f48a6ad",
   "metadata": {},
   "outputs": [
    {
     "name": "stdout",
     "output_type": "stream",
     "text": [
      "Player 1 wins 47 games. Player 2 wins 53 games.\n"
     ]
    }
   ],
   "source": [
    "Tournament(100, RandomAgent, RandomAgent, 21, 3)"
   ]
  },
  {
   "cell_type": "code",
   "execution_count": 9,
   "id": "c62ce455-970b-4995-a962-61a3b3e2946a",
   "metadata": {},
   "outputs": [
    {
     "name": "stdout",
     "output_type": "stream",
     "text": [
      "Player 1 wins 0 games. Player 2 wins 100 games.\n"
     ]
    }
   ],
   "source": [
    "Tournament(100, RandomAgent, PerfectAgent, 21, 3)"
   ]
  },
  {
   "cell_type": "code",
   "execution_count": 10,
   "id": "bd91385d-ba63-485d-8c19-9cb321e4ba8a",
   "metadata": {},
   "outputs": [
    {
     "name": "stdout",
     "output_type": "stream",
     "text": [
      "Player 1 wins 99 games. Player 2 wins 1 games.\n"
     ]
    }
   ],
   "source": [
    "Tournament(100, PerfectAgent, RandomAgent, 21, 3)"
   ]
  },
  {
   "cell_type": "code",
   "execution_count": 11,
   "id": "b1c2b3c6-cb75-40de-b612-abd22ce96f60",
   "metadata": {},
   "outputs": [
    {
     "name": "stdout",
     "output_type": "stream",
     "text": [
      "Player 1 wins 0 games. Player 2 wins 100 games.\n"
     ]
    }
   ],
   "source": [
    "Tournament(100, PerfectAgent, PerfectAgent, 21, 3)"
   ]
  },
  {
   "cell_type": "code",
   "execution_count": 12,
   "id": "f973f091-3a44-4c2c-b3c2-cd81eaee13b7",
   "metadata": {},
   "outputs": [
    {
     "name": "stdout",
     "output_type": "stream",
     "text": [
      "Player 1 wins 100 games. Player 2 wins 0 games.\n"
     ]
    }
   ],
   "source": [
    "Tournament(100, PerfectAgent, PerfectAgent, 22, 3)"
   ]
  },
  {
   "cell_type": "markdown",
   "id": "113b86dc-a911-4896-bdb2-fb700880a7d9",
   "metadata": {},
   "source": [
    "# Monte Carlo\n",
    "\n",
    "- This agent will do each possible move and then randomly playout the rest of the game\n",
    "- The move with the highest average value will be chosen"
   ]
  },
  {
   "cell_type": "code",
   "execution_count": 13,
   "id": "e8ba4d07-b0b2-49f4-afb2-4e503dfbfc58",
   "metadata": {},
   "outputs": [],
   "source": [
    "def randomrollout(N, K):\n",
    "    ''' Returns the reward of a random playthrough '''\n",
    "    if N==0:\n",
    "        return 1\n",
    "    elif N==1:\n",
    "        return -1\n",
    "    else:\n",
    "        return Game(RandomAgent, RandomAgent, N, K, verbose = False)"
   ]
  },
  {
   "cell_type": "code",
   "execution_count": 14,
   "id": "13c3e241-588e-49cb-aa3a-678c092cf7c9",
   "metadata": {},
   "outputs": [],
   "source": [
    "def MonteCarloAgent(N, K, validmoves):\n",
    "    rollouts = 1000\n",
    "    bestmove = 0\n",
    "    bestvalue = -10000\n",
    "    for move in validmoves:\n",
    "        totalreward = 0\n",
    "        for _ in range(rollouts):\n",
    "            totalreward -= randomrollout(N - move, K)\n",
    "        totalreward = totalreward/rollouts\n",
    "        if totalreward > bestvalue:\n",
    "            bestvalue = totalreward\n",
    "            bestmove = move\n",
    "        # print(f'Move {move}: {totalreward}')\n",
    "            \n",
    "    return bestmove"
   ]
  },
  {
   "cell_type": "code",
   "execution_count": 15,
   "id": "dc5a34ca-8d9e-4e7a-91c7-0d50b7907b4a",
   "metadata": {
    "tags": []
   },
   "outputs": [
    {
     "name": "stdout",
     "output_type": "stream",
     "text": [
      "Player 1 wins 3 games. Player 2 wins 1 games.\n"
     ]
    }
   ],
   "source": [
    "Tournament(4, MonteCarloAgent, MonteCarloAgent, 21, 3)"
   ]
  },
  {
   "cell_type": "code",
   "execution_count": 16,
   "id": "4cf6594e-ce31-4470-b55e-d3fec4f75060",
   "metadata": {},
   "outputs": [
    {
     "name": "stdout",
     "output_type": "stream",
     "text": [
      "Player 1 wins 1 games. Player 2 wins 9 games.\n"
     ]
    }
   ],
   "source": [
    "Tournament(10, RandomAgent, MonteCarloAgent, 21, 3)"
   ]
  },
  {
   "cell_type": "code",
   "execution_count": 17,
   "id": "80e58045-24b1-4214-95f1-80b7b28eb4ed",
   "metadata": {},
   "outputs": [
    {
     "name": "stdout",
     "output_type": "stream",
     "text": [
      "Player 1 wins 9 games. Player 2 wins 1 games.\n"
     ]
    }
   ],
   "source": [
    "Tournament(10, MonteCarloAgent, RandomAgent, 21, 3)"
   ]
  },
  {
   "cell_type": "code",
   "execution_count": 18,
   "id": "7686a790-2d5e-420f-abd4-2c31e581b62a",
   "metadata": {},
   "outputs": [
    {
     "name": "stdout",
     "output_type": "stream",
     "text": [
      "Player 1 wins 10 games. Player 2 wins 0 games.\n"
     ]
    }
   ],
   "source": [
    "Tournament(10, PerfectAgent, MonteCarloAgent, 21, 3)"
   ]
  },
  {
   "cell_type": "code",
   "execution_count": 19,
   "id": "c87e94ca-7edc-48b3-ad4d-d48226777e73",
   "metadata": {},
   "outputs": [
    {
     "name": "stdout",
     "output_type": "stream",
     "text": [
      "Player 1 wins 0 games. Player 2 wins 10 games.\n"
     ]
    }
   ],
   "source": [
    "Tournament(10, MonteCarloAgent, PerfectAgent, 21, 3)"
   ]
  },
  {
   "cell_type": "markdown",
   "id": "45100fa1-f4cc-4e0c-9af3-ce4bfc165fae",
   "metadata": {
    "tags": []
   },
   "source": [
    "# Monte Carlo with Perfect Play by opponent\n",
    "\n",
    "We can see that Monte Carlo alone may not win a lot of games, especially against Perfect Agent.\n",
    "This is because Monte Carlo can actually predict the wrong game outcome if the opponent is playing randomly.\n",
    "E.g. \n",
    "- You have 6 matchsticks left, ideal move is to take 1 matchstick and get 5 (1 mod 4).\n",
    "- Random agent may pick a bad move, making taking 2 or 3 matchsticks (to get 4 or 3 matchsticks remaining respectively) a good move\n",
    "- This can make the value estimate of a state messy\n",
    "\n",
    "We can improve naive Monte Carlo with perfect rollouts by the opponent player (best is perfect by both players, but it defeats the point of Monte Carlo)\n",
    "\n",
    "The game then becomes closer to a single player variant whereby the environment includes the opponent player and responds perfectly"
   ]
  },
  {
   "cell_type": "code",
   "execution_count": 20,
   "id": "70781cb0-8983-4eb5-993a-3ae346403ab6",
   "metadata": {},
   "outputs": [],
   "source": [
    "def perfectrollout(N, K):\n",
    "    ''' Returns the reward of a random playthrough '''\n",
    "    if N==0:\n",
    "        return 1\n",
    "    elif N==1:\n",
    "        return -1\n",
    "    else:\n",
    "        return Game(PerfectAgent, RandomAgent, N, K, verbose = False)"
   ]
  },
  {
   "cell_type": "code",
   "execution_count": 21,
   "id": "6b211b36-1c8f-42cb-9264-b4c3be744dbc",
   "metadata": {},
   "outputs": [],
   "source": [
    "def MonteCarloPerfectOppAgent(N, K, validmoves):\n",
    "    rollouts = 1000\n",
    "    bestmove = 0\n",
    "    bestvalue = -10000\n",
    "    for move in validmoves:\n",
    "        totalreward = 0\n",
    "        for _ in range(rollouts):\n",
    "            totalreward -= perfectrollout(N - move, K)\n",
    "        totalreward = totalreward/rollouts\n",
    "        if totalreward > bestvalue:\n",
    "            bestvalue = totalreward\n",
    "            bestmove = move\n",
    "        # print(f'Move {move}: {totalreward}')\n",
    "            \n",
    "    return bestmove"
   ]
  },
  {
   "cell_type": "code",
   "execution_count": 145,
   "id": "7b8d4d0a-c9fa-4509-9f43-34d27cb1eeb5",
   "metadata": {},
   "outputs": [
    {
     "name": "stdout",
     "output_type": "stream",
     "text": [
      "Player 1 wins 0 games. Player 2 wins 10 games.\n"
     ]
    }
   ],
   "source": [
    "Tournament(10, RandomAgent, MonteCarloPerfectOppAgent, 21, 3)"
   ]
  },
  {
   "cell_type": "code",
   "execution_count": 146,
   "id": "e7658ac6-2489-4330-8456-6cd953b70dfb",
   "metadata": {},
   "outputs": [
    {
     "name": "stdout",
     "output_type": "stream",
     "text": [
      "Player 1 wins 10 games. Player 2 wins 0 games.\n"
     ]
    }
   ],
   "source": [
    "Tournament(10, MonteCarloPerfectOppAgent, RandomAgent, 21, 3)"
   ]
  },
  {
   "cell_type": "code",
   "execution_count": 147,
   "id": "ff9231f6-09d6-4aa3-a879-2bbca27f5bcf",
   "metadata": {},
   "outputs": [
    {
     "name": "stdout",
     "output_type": "stream",
     "text": [
      "Player 1 wins 0 games. Player 2 wins 10 games.\n"
     ]
    }
   ],
   "source": [
    "Tournament(10, PerfectAgent, MonteCarloPerfectOppAgent, 21, 3)"
   ]
  },
  {
   "cell_type": "code",
   "execution_count": 148,
   "id": "0f8df6d4-49ec-4443-a301-171df00b7095",
   "metadata": {},
   "outputs": [
    {
     "name": "stdout",
     "output_type": "stream",
     "text": [
      "Player 1 wins 0 games. Player 2 wins 10 games.\n"
     ]
    }
   ],
   "source": [
    "Tournament(10, MonteCarloPerfectOppAgent, PerfectAgent, 21, 3)"
   ]
  },
  {
   "cell_type": "markdown",
   "id": "fc6d69ef-1941-427c-8d90-bbaaa7a2c6fc",
   "metadata": {},
   "source": [
    "# Monte Carlo Tree Search\n",
    "\n",
    "- One way to make the opponent play closer to perfect play is to look in perspective of each player\n",
    "- Each player seeks to choose their move to maximize their reward (P1 maximizes, P2 minimizes)\n",
    "- Moves explored are balanced by the explore-exploit tradeoff\n",
    "- Move selected will be the root move wihich is explored the most"
   ]
  },
  {
   "cell_type": "code",
   "execution_count": 22,
   "id": "6df5695e-689d-44c8-89bd-f3b440c69dc2",
   "metadata": {},
   "outputs": [
    {
     "data": {
      "text/html": [
       "<img src=\"https://media.geeksforgeeks.org/wp-content/uploads/mcts_own.png\"/>"
      ],
      "text/plain": [
       "<IPython.core.display.Image object>"
      ]
     },
     "execution_count": 22,
     "metadata": {},
     "output_type": "execute_result"
    }
   ],
   "source": [
    "from IPython.display import Image\n",
    "Image(url = \"https://media.geeksforgeeks.org/wp-content/uploads/mcts_own.png\")"
   ]
  },
  {
   "cell_type": "code",
   "execution_count": 23,
   "id": "5d8b8780-59c3-4949-9474-030d3956dbaf",
   "metadata": {},
   "outputs": [
    {
     "name": "stdout",
     "output_type": "stream",
     "text": [
      "UCB algorithm:\n"
     ]
    },
    {
     "data": {
      "text/html": [
       "<img src=\"https://www.cs.swarthmore.edu/~mitchell/classes/cs63/f20/reading/ucb-1.png\"/>"
      ],
      "text/plain": [
       "<IPython.core.display.Image object>"
      ]
     },
     "execution_count": 23,
     "metadata": {},
     "output_type": "execute_result"
    }
   ],
   "source": [
    "print(\"UCB algorithm:\")\n",
    "Image(url = \"https://www.cs.swarthmore.edu/~mitchell/classes/cs63/f20/reading/ucb-1.png\")"
   ]
  },
  {
   "cell_type": "code",
   "execution_count": 44,
   "id": "5215f073-76d9-4b1d-8a3c-a97ff644fb3d",
   "metadata": {},
   "outputs": [],
   "source": [
    "class Node:\n",
    "    def __init__(self, parent, N, K, move):\n",
    "        self.value = 0\n",
    "        self.numselected = 0\n",
    "        self.N = N\n",
    "        self.K = K\n",
    "        self.move = move # the move required to reach this node\n",
    "        self.validmoves = Nim(N, K).validmoves() # the remaining moves that you can take to go to the next child; change the environment for different moves\n",
    "        self.child = []\n",
    "        self.parent = parent"
   ]
  },
  {
   "cell_type": "code",
   "execution_count": 45,
   "id": "8a186f6e-fef6-49a8-b39d-ff99dc5af437",
   "metadata": {},
   "outputs": [],
   "source": [
    "class MonteCarloTreeSearch:\n",
    "    def __init__(self, rootnode, rollout, c=1):\n",
    "        self.root = rootnode\n",
    "        self.rollout = rollout\n",
    "        self.explore = 1\n",
    "        \n",
    "    def run(self):\n",
    "        # Start from root node\n",
    "        node = self.root\n",
    "        # Do selection till last node\n",
    "        done = False\n",
    "        while not done:\n",
    "            node, done = self.select(node)\n",
    "        # Evaluate the node's value with rollout\n",
    "        value = -self.rollout(node.N, node.K)\n",
    "        # Backpropagate values upwards\n",
    "        factor = 1\n",
    "        while True:\n",
    "            node.numselected += 1\n",
    "            node.value += value * factor\n",
    "            factor *= -1\n",
    "            # move to the parent node\n",
    "            node = node.parent\n",
    "            if node == None: break\n",
    "        \n",
    "    def select(self, curnode):\n",
    "        # apply UCB algorithm to choose the next node based on explore-exploit\n",
    "\n",
    "        # if we do not have all children, then expand and return the next one\n",
    "        if len(curnode.validmoves) > 0:\n",
    "            nextmove = curnode.validmoves.pop(0)\n",
    "            return self.expand(curnode, nextmove), True\n",
    "        \n",
    "        # if this node of end of the game, simply return this node\n",
    "        if len(curnode.validmoves) == 0 and len(curnode.child) == 0:\n",
    "            return curnode, True\n",
    "            \n",
    "        # otherwise we will do the UCB algorithm to choose the best node\n",
    "        maxnode = self.ucb(curnode)\n",
    "        return maxnode, False\n",
    "    \n",
    "    def ucb(self, node):   \n",
    "        maxvalue = -10000\n",
    "        maxnode = None\n",
    "        for child in node.child:\n",
    "            ucb = child.value/child.numselected + self.explore * np.sqrt(np.log(self.root.numselected)/(child.numselected+1e-9))\n",
    "            if ucb > maxvalue:\n",
    "                maxvalue = ucb\n",
    "                maxnode = child\n",
    "        return maxnode\n",
    "    \n",
    "    def expand(self, curnode, nextmove):\n",
    "        ''' Expands the node with the next move '''\n",
    "        newchild = Node(curnode, curnode.N - nextmove, curnode.K, nextmove)\n",
    "        curnode.child.append(newchild)\n",
    "        return newchild\n",
    "    \n",
    "    def getbestmove(self):\n",
    "        bestchild = None\n",
    "        maxselected = 0\n",
    "        for child in self.root.child:\n",
    "            if child.numselected > maxselected:\n",
    "                maxselected = child.numselected\n",
    "                bestchild = child\n",
    "        return bestchild.move"
   ]
  },
  {
   "cell_type": "code",
   "execution_count": 46,
   "id": "330ae241-b16e-4d4c-974e-e89d2622cc0f",
   "metadata": {},
   "outputs": [],
   "source": [
    "def MCTSAgent(N, K, validmoves):\n",
    "    ''' Returns the best move determined by MCTS '''\n",
    "    \n",
    "    rootnode = Node(None, N, K, None)\n",
    "    mcts = MonteCarloTreeSearch(rootnode, randomrollout)\n",
    "    # Run the MCTS search\n",
    "    for i in range(500):\n",
    "        mcts.run()\n",
    "    # Select the best move\n",
    "    bestmove = mcts.getbestmove()\n",
    "    return bestmove"
   ]
  },
  {
   "cell_type": "code",
   "execution_count": 47,
   "id": "5e13a958-c75f-4a44-8c88-47cbd7237f20",
   "metadata": {},
   "outputs": [
    {
     "name": "stdout",
     "output_type": "stream",
     "text": [
      "Player 1 wins 0 games. Player 2 wins 10 games.\n"
     ]
    }
   ],
   "source": [
    "Tournament(10, RandomAgent, MCTSAgent, 21, 3)"
   ]
  },
  {
   "cell_type": "code",
   "execution_count": 48,
   "id": "1a69f971-12e4-49f6-93b5-b3b00d248cd4",
   "metadata": {},
   "outputs": [
    {
     "name": "stdout",
     "output_type": "stream",
     "text": [
      "Player 1 wins 10 games. Player 2 wins 0 games.\n"
     ]
    }
   ],
   "source": [
    "Tournament(10, MCTSAgent, RandomAgent, 21, 3)"
   ]
  },
  {
   "cell_type": "code",
   "execution_count": 49,
   "id": "24d53363-ace9-4cca-8be8-b115af9783c0",
   "metadata": {},
   "outputs": [
    {
     "name": "stdout",
     "output_type": "stream",
     "text": [
      "Player 1 wins 5 games. Player 2 wins 5 games.\n"
     ]
    }
   ],
   "source": [
    "Tournament(10, MCTSAgent, MCTSAgent, 21, 3)"
   ]
  },
  {
   "cell_type": "code",
   "execution_count": 50,
   "id": "865e85a0-0290-44c2-8133-82ec8dab75a0",
   "metadata": {},
   "outputs": [
    {
     "name": "stdout",
     "output_type": "stream",
     "text": [
      "Player 1 wins 9 games. Player 2 wins 1 games.\n"
     ]
    }
   ],
   "source": [
    "Tournament(10, PerfectAgent, MCTSAgent, 21, 3)"
   ]
  },
  {
   "cell_type": "code",
   "execution_count": 231,
   "id": "d4a185b6-0581-4536-ba3a-858188f8fa07",
   "metadata": {},
   "outputs": [
    {
     "name": "stdout",
     "output_type": "stream",
     "text": [
      "Player 1 wins 0 games. Player 2 wins 10 games.\n"
     ]
    }
   ],
   "source": [
    "Tournament(10, MCTSAgent, PerfectAgent, 21, 3)"
   ]
  },
  {
   "cell_type": "code",
   "execution_count": 232,
   "id": "3a1be744-a613-4471-97e2-16d150636c4a",
   "metadata": {},
   "outputs": [
    {
     "name": "stdout",
     "output_type": "stream",
     "text": [
      "Player 1 wins 0 games. Player 2 wins 10 games.\n"
     ]
    }
   ],
   "source": [
    "Tournament(10, MonteCarloAgent, MCTSAgent, 21, 3)"
   ]
  },
  {
   "cell_type": "code",
   "execution_count": 233,
   "id": "8ecfbeab-cd39-4d5d-92a2-cc43eb55fad2",
   "metadata": {},
   "outputs": [
    {
     "name": "stdout",
     "output_type": "stream",
     "text": [
      "Player 1 wins 10 games. Player 2 wins 0 games.\n"
     ]
    }
   ],
   "source": [
    "Tournament(10, MCTSAgent, MonteCarloAgent, 21, 3)"
   ]
  },
  {
   "cell_type": "code",
   "execution_count": 234,
   "id": "bbbfe147-1eb4-462e-ab32-dad06999837c",
   "metadata": {},
   "outputs": [
    {
     "name": "stdout",
     "output_type": "stream",
     "text": [
      "Player 1 wins 9 games. Player 2 wins 1 games.\n"
     ]
    }
   ],
   "source": [
    "Tournament(10, MonteCarloPerfectOppAgent, MCTSAgent, 21, 3)"
   ]
  },
  {
   "cell_type": "code",
   "execution_count": 239,
   "id": "27c2a441-30cd-4452-a0d1-668438948d03",
   "metadata": {},
   "outputs": [
    {
     "name": "stdout",
     "output_type": "stream",
     "text": [
      "Player 1 takes 1 matchstick(s). There are 20 matchstick(s) remaining.\n",
      "Player 2 takes 3 matchstick(s). There are 17 matchstick(s) remaining.\n",
      "Player 1 takes 1 matchstick(s). There are 16 matchstick(s) remaining.\n",
      "Player 2 takes 2 matchstick(s). There are 14 matchstick(s) remaining.\n",
      "Player 1 takes 1 matchstick(s). There are 13 matchstick(s) remaining.\n",
      "Player 2 takes 2 matchstick(s). There are 11 matchstick(s) remaining.\n",
      "Player 1 takes 2 matchstick(s). There are 9 matchstick(s) remaining.\n",
      "Player 2 takes 2 matchstick(s). There are 7 matchstick(s) remaining.\n",
      "Player 1 takes 2 matchstick(s). There are 5 matchstick(s) remaining.\n",
      "Player 2 takes 1 matchstick(s). There are 4 matchstick(s) remaining.\n",
      "Player 1 takes 3 matchstick(s). There are 1 matchstick(s) remaining.\n",
      "Player 2 takes 1 matchstick(s). There are 0 matchstick(s) remaining.\n",
      "Player 1 wins!\n"
     ]
    },
    {
     "data": {
      "text/plain": [
       "1"
      ]
     },
     "execution_count": 239,
     "metadata": {},
     "output_type": "execute_result"
    }
   ],
   "source": [
    "Game(MonteCarloPerfectOppAgent, MCTSAgent, 21, 3)"
   ]
  },
  {
   "cell_type": "code",
   "execution_count": 236,
   "id": "19cd43dc-ab25-4c16-9dc9-ae900dac8c06",
   "metadata": {},
   "outputs": [
    {
     "name": "stdout",
     "output_type": "stream",
     "text": [
      "Player 1 wins 0 games. Player 2 wins 10 games.\n"
     ]
    }
   ],
   "source": [
    "Tournament(10, MCTSAgent, MonteCarloPerfectOppAgent, 21, 3)"
   ]
  },
  {
   "cell_type": "markdown",
   "id": "64723599-cf0e-4704-a830-4e94602f12f1",
   "metadata": {},
   "source": [
    "# Using Value estimates of a state for planning\n",
    "\n",
    "- Give each state a value\n",
    "- Value of each state will be the maximum value you can attain taking a one-step action from that state\n",
    "- Start from value of the end state (0) and give it 1 point, and a state of 1 give it -1 points\n",
    "- Based on each state, we choose the move that gives it the least negative value of the next state (other player has opposite reward fun)"
   ]
  },
  {
   "cell_type": "code",
   "execution_count": 177,
   "id": "eca60665-ec21-463e-a3da-21c7bcb42ce0",
   "metadata": {},
   "outputs": [],
   "source": [
    "def train(N, K):\n",
    "    ''' Train the value network based on the inputs N and K\n",
    "    Inputs:\n",
    "    N - total number of matchsticks\n",
    "    K - total moves\n",
    "    '''\n",
    "    V = [-10 for _ in range(N+1)]\n",
    "    \n",
    "    # 0 is lose state, 1 is win state\n",
    "    # no matchsticks is a winning state\n",
    "    # having one matchstick is a losing state\n",
    "    V[0] = 1\n",
    "    if N > 0: V[1] = -1\n",
    "    \n",
    "    # update the values from starting state to ending state\n",
    "    for j in range(2, N+1):\n",
    "        for move in range(1, K+1):\n",
    "            # only when valid move, update the value estimate with the highest possible value\n",
    "            if j-move >= 0:\n",
    "                V[j] = max(V[j], -V[j-move])\n",
    "                    \n",
    "    return V"
   ]
  },
  {
   "cell_type": "code",
   "execution_count": 178,
   "id": "56a10c13-1013-493e-be25-6669697af90e",
   "metadata": {},
   "outputs": [],
   "source": [
    "def ValueAgent(N, K, validmoves):\n",
    "    # choose the move which gives the highest value based on one-step lookahead update of value state\n",
    "    V = train(N, K)\n",
    "    bestmove = None\n",
    "    bestvalue = -10000\n",
    "    for move in validmoves:\n",
    "        if -V[N-move] > bestvalue:\n",
    "            bestvalue = -V[N-move]\n",
    "            bestmove = move\n",
    "    return bestmove"
   ]
  },
  {
   "cell_type": "code",
   "execution_count": 179,
   "id": "a391460f-803e-400b-9622-6a2b83058780",
   "metadata": {},
   "outputs": [
    {
     "name": "stdout",
     "output_type": "stream",
     "text": [
      "Player 1 wins 0 games. Player 2 wins 10 games.\n"
     ]
    }
   ],
   "source": [
    "Tournament(10, RandomAgent, ValueAgent, 21, 3)"
   ]
  },
  {
   "cell_type": "code",
   "execution_count": 180,
   "id": "34a91723-787b-4b4a-988a-28173e4a501e",
   "metadata": {},
   "outputs": [
    {
     "name": "stdout",
     "output_type": "stream",
     "text": [
      "Player 1 wins 0 games. Player 2 wins 10 games.\n"
     ]
    }
   ],
   "source": [
    "Tournament(10, RandomAgent, ValueAgent, 21, 3)"
   ]
  },
  {
   "cell_type": "code",
   "execution_count": 181,
   "id": "545a9c03-380b-4e44-8a80-43b935b52edf",
   "metadata": {},
   "outputs": [
    {
     "name": "stdout",
     "output_type": "stream",
     "text": [
      "Player 1 wins 0 games. Player 2 wins 10 games.\n"
     ]
    }
   ],
   "source": [
    "Tournament(10, PerfectAgent, ValueAgent, 21, 3)"
   ]
  },
  {
   "cell_type": "code",
   "execution_count": 182,
   "id": "07e48741-f457-494a-9328-0c10b6b0ebf2",
   "metadata": {},
   "outputs": [
    {
     "name": "stdout",
     "output_type": "stream",
     "text": [
      "Player 1 wins 0 games. Player 2 wins 10 games.\n"
     ]
    }
   ],
   "source": [
    "Tournament(10, ValueAgent, PerfectAgent, 21, 3)"
   ]
  }
 ],
 "metadata": {
  "kernelspec": {
   "display_name": "Python 3 (ipykernel)",
   "language": "python",
   "name": "python3"
  },
  "language_info": {
   "codemirror_mode": {
    "name": "ipython",
    "version": 3
   },
   "file_extension": ".py",
   "mimetype": "text/x-python",
   "name": "python",
   "nbconvert_exporter": "python",
   "pygments_lexer": "ipython3",
   "version": "3.7.7"
  }
 },
 "nbformat": 4,
 "nbformat_minor": 5
}
