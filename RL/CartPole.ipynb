{
  "nbformat": 4,
  "nbformat_minor": 0,
  "metadata": {
    "kernelspec": {
      "display_name": "Python 3",
      "language": "python",
      "name": "python3"
    },
    "language_info": {
      "codemirror_mode": {
        "name": "ipython",
        "version": 3
      },
      "file_extension": ".py",
      "mimetype": "text/x-python",
      "name": "python",
      "nbconvert_exporter": "python",
      "pygments_lexer": "ipython3",
      "version": "3.7.6"
    },
    "colab": {
      "name": "CartPole.ipynb",
      "provenance": [],
      "collapsed_sections": []
    },
    "gpuClass": "standard"
  },
  "cells": [
    {
      "cell_type": "markdown",
      "metadata": {
        "id": "9DRkH9PbygJO"
      },
      "source": [
        "## The Cart Pole"
      ]
    },
    {
      "cell_type": "markdown",
      "metadata": {
        "id": "mkJv5bqsV9qK"
      },
      "source": [
        "\n",
        "This problem requires balancing a pole up on a cart for as long as possible.\n",
        "\n",
        "### State: \n",
        "\n",
        "(0) Cart Position (-2.4 to 2.4)\n",
        "\n",
        "(1) Cart Velocity (-infinity to infinity)\n",
        "\n",
        "(2) Pole Angle (-41.8 to 41.8)\n",
        "\n",
        "(3) Pole Velocity at Tip (-infinity to infinity)\n",
        "\n",
        "### Actions: \n",
        "\n",
        "Left or Right (Force of -1 or +1 to the cart)\n",
        "\n",
        "### Reward: \n",
        "\n",
        "For each second the pole is upright, reward + 1\n",
        "\n",
        "Max reward: 500 (+1 for a total of 200 time steps)\n",
        "\n",
        "### Starting State:\n",
        "\n",
        "All state variables assigned a uniform random value, magnitude less than 0.05\n",
        "\n",
        "### Termination:\n",
        "\n",
        "The episode ends when:\n",
        "\n",
        "(1) The pole is more than 12 degrees from vertical\n",
        "\n",
        "(2) The cart moves more than 2.4 units from the center\n",
        "\n",
        "(3) Episode length greater than 500"
      ]
    },
    {
      "cell_type": "markdown",
      "metadata": {
        "id": "qY4xctIIBxaG"
      },
      "source": [
        "# Install Pre-requisites/Dependencies\n",
        "\n",
        "The following dependencies are required to get the gym environment working and also to display the gym environment as a video"
      ]
    },
    {
      "cell_type": "code",
      "metadata": {
        "id": "88geA5rdAA_k"
      },
      "source": [
        "#remove \" > /dev/null 2>&1\" to see what is going on under the hood\n",
        "!pip install gym pyvirtualdisplay > /dev/null 2>&1\n",
        "!apt-get install -y xvfb python-opengl ffmpeg > /dev/null 2>&1"
      ],
      "execution_count": 1,
      "outputs": []
    },
    {
      "cell_type": "code",
      "metadata": {
        "id": "PJNU9nV5AlPv",
        "colab": {
          "base_uri": "https://localhost:8080/",
          "height": 357
        },
        "outputId": "b2ca6d44-5db8-47d2-c464-331a6e8d6d54"
      },
      "source": [
        "!apt-get update > /dev/null 2>&1\n",
        "!apt-get install cmake > /dev/null 2>&1\n",
        "!pip install --upgrade setuptools 2>&1\n",
        "!pip install ez_setup > /dev/null 2>&1\n",
        "!pip install gym > /dev/null 2>&1"
      ],
      "execution_count": 2,
      "outputs": [
        {
          "output_type": "stream",
          "name": "stdout",
          "text": [
            "Looking in indexes: https://pypi.org/simple, https://us-python.pkg.dev/colab-wheels/public/simple/\n",
            "Requirement already satisfied: setuptools in /usr/local/lib/python3.7/dist-packages (57.4.0)\n",
            "Collecting setuptools\n",
            "  Downloading setuptools-63.0.0-py3-none-any.whl (1.2 MB)\n",
            "\u001b[K     |████████████████████████████████| 1.2 MB 3.4 MB/s \n",
            "\u001b[?25hInstalling collected packages: setuptools\n",
            "  Attempting uninstall: setuptools\n",
            "    Found existing installation: setuptools 57.4.0\n",
            "    Uninstalling setuptools-57.4.0:\n",
            "      Successfully uninstalled setuptools-57.4.0\n",
            "\u001b[31mERROR: pip's dependency resolver does not currently take into account all the packages that are installed. This behaviour is the source of the following dependency conflicts.\n",
            "datascience 0.10.6 requires folium==0.2.1, but you have folium 0.8.3 which is incompatible.\u001b[0m\n",
            "Successfully installed setuptools-63.0.0\n"
          ]
        },
        {
          "output_type": "display_data",
          "data": {
            "application/vnd.colab-display-data+json": {
              "pip_warning": {
                "packages": [
                  "pkg_resources"
                ]
              }
            }
          },
          "metadata": {}
        }
      ]
    },
    {
      "cell_type": "markdown",
      "metadata": {
        "id": "59z1uNHhBSyb"
      },
      "source": [
        "# Configure Colab to display video of our agent!\n",
        "\n",
        "The code below simply configures Colab to display a video of the environment for us to visualize."
      ]
    },
    {
      "cell_type": "code",
      "metadata": {
        "id": "GSnZsMBt_vkJ",
        "colab": {
          "base_uri": "https://localhost:8080/"
        },
        "outputId": "ba273d24-5922-4603-abb9-533dba6de842"
      },
      "source": [
        "import gym\n",
        "from gym import logger as gymlogger\n",
        "from gym.wrappers import Monitor\n",
        "import matplotlib.pyplot as plt\n",
        "%matplotlib inline\n",
        "import glob\n",
        "import io\n",
        "import base64\n",
        "import numpy as np\n",
        "from IPython.display import HTML\n",
        "from IPython import display as ipythondisplay\n",
        "\n",
        "from pyvirtualdisplay import Display\n",
        "display = Display(visible=0, size=(1400, 900))\n",
        "display.start()"
      ],
      "execution_count": 3,
      "outputs": [
        {
          "output_type": "execute_result",
          "data": {
            "text/plain": [
              "<pyvirtualdisplay.display.Display at 0x7f47c5560d90>"
            ]
          },
          "metadata": {},
          "execution_count": 3
        }
      ]
    },
    {
      "cell_type": "code",
      "metadata": {
        "id": "_GOz9bH_-9zY"
      },
      "source": [
        "\"\"\"\n",
        "Utility functions to enable video recording of gym environment and displaying it\n",
        "To enable video, just do \"env = wrap_env(env)\"\"\n",
        "\"\"\"\n",
        "def show_video():\n",
        "  mp4list = glob.glob('video/*.mp4')\n",
        "  if len(mp4list) > 0:\n",
        "    mp4 = mp4list[0]\n",
        "    video = io.open(mp4, 'r+b').read()\n",
        "    encoded = base64.b64encode(video)\n",
        "    ipythondisplay.display(HTML(data='''<video alt=\"test\" autoplay \n",
        "                loop controls style=\"height: 400px;\">\n",
        "                <source src=\"data:video/mp4;base64,{0}\" type=\"video/mp4\" />\n",
        "             </video>'''.format(encoded.decode('ascii'))))\n",
        "  else: \n",
        "    print(\"Could not find video\")\n",
        "def wrap_env(env):\n",
        "  env = Monitor(env, './video', force=True)\n",
        "  return env"
      ],
      "execution_count": 4,
      "outputs": []
    },
    {
      "cell_type": "markdown",
      "metadata": {
        "id": "xCMc6oW2ygJT"
      },
      "source": [
        "# Environment Visualization"
      ]
    },
    {
      "cell_type": "markdown",
      "metadata": {
        "id": "EEJoYAdBygJU"
      },
      "source": [
        "Gym is a very useful package by OpenAI (https://gym.openai.com/) that comes built in with many environments to train our agents on.\n",
        "\n",
        "Here, we will use the CartPole environment using:\n",
        "\n",
        "*env = gym.make('CartPole-v0')*\n",
        "\n",
        "We reset the environment to its initial state using:\n",
        "\n",
        "*env.reset()*\n",
        "\n",
        "We visualize the environment using:\n",
        "\n",
        "*env.render()*\n",
        "\n",
        "We take an action in the environment using:\n",
        "\n",
        "*env.step(action)*\n",
        "\n",
        "We create a function \"visualize\" that lets us visualize the actions of an agent using decision_function to choose the actions."
      ]
    },
    {
      "cell_type": "code",
      "metadata": {
        "id": "OPmdfB7tygJU"
      },
      "source": [
        " env_name = 'CartPole-v1'\n",
        " env = wrap_env(gym.make(env_name))\n",
        " \n",
        " def visualize(decision_function):\n",
        "  env = wrap_env(gym.make(env_name))\n",
        "  state = env.reset()\n",
        "  totalreward = 0\n",
        "  for t in range(200):\n",
        "      env.render()\n",
        "      action = decision_function(state)\n",
        "      state, reward, done, _ = env.step(action)\n",
        "      totalreward += reward\n",
        "      if done:\n",
        "          break\n",
        "  print(\"Episode finished after {} timesteps with reward {}\".format(t+1, totalreward))\n",
        "  env.close()\n",
        "  show_video()"
      ],
      "execution_count": 5,
      "outputs": []
    },
    {
      "cell_type": "markdown",
      "metadata": {
        "id": "HlIz6-jJUiyK"
      },
      "source": [
        "We visualize the actions of a random agent:"
      ]
    },
    {
      "cell_type": "code",
      "metadata": {
        "id": "GPdQ1ZUzUHKu"
      },
      "source": [
        "def random_action(state):\n",
        "  return env.action_space.sample()"
      ],
      "execution_count": 6,
      "outputs": []
    },
    {
      "cell_type": "code",
      "metadata": {
        "id": "hwyWAi-4VWVy",
        "colab": {
          "base_uri": "https://localhost:8080/",
          "height": 439
        },
        "outputId": "4d616a4d-5a36-4b95-d95f-9acfb33ee222"
      },
      "source": [
        "visualize(random_action)"
      ],
      "execution_count": 7,
      "outputs": [
        {
          "output_type": "stream",
          "name": "stdout",
          "text": [
            "Episode finished after 27 timesteps with reward 27.0\n"
          ]
        },
        {
          "output_type": "display_data",
          "data": {
            "text/plain": [
              "<IPython.core.display.HTML object>"
            ],
            "text/html": [
              "<video alt=\"test\" autoplay \n",
              "                loop controls style=\"height: 400px;\">\n",
              "                <source src=\"data:video/mp4;base64,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\" type=\"video/mp4\" />\n",
              "             </video>"
            ]
          },
          "metadata": {}
        }
      ]
    },
    {
      "cell_type": "markdown",
      "metadata": {
        "id": "7QLXPbY7ygJX"
      },
      "source": [
        "# Check out the actions"
      ]
    },
    {
      "cell_type": "code",
      "metadata": {
        "id": "qeWvHpDlygJX",
        "colab": {
          "base_uri": "https://localhost:8080/"
        },
        "outputId": "e8cab27b-ab00-4211-d1a8-a4520e338cea"
      },
      "source": [
        "print('Number of actions:', env.action_space.n)"
      ],
      "execution_count": 8,
      "outputs": [
        {
          "output_type": "stream",
          "name": "stdout",
          "text": [
            "Number of actions: 2\n"
          ]
        }
      ]
    },
    {
      "cell_type": "code",
      "metadata": {
        "id": "hEqTaowBygJY",
        "colab": {
          "base_uri": "https://localhost:8080/"
        },
        "outputId": "1a33d1a2-17c2-4e92-acde-d3eabb320433"
      },
      "source": [
        "# Run this cell many times and see what is output\n",
        "print('A random action is:', env.action_space.sample())"
      ],
      "execution_count": 9,
      "outputs": [
        {
          "output_type": "stream",
          "name": "stdout",
          "text": [
            "A random action is: 1\n"
          ]
        }
      ]
    },
    {
      "cell_type": "markdown",
      "metadata": {
        "id": "NpOXzVqhygJY"
      },
      "source": [
        "# Check out the observations"
      ]
    },
    {
      "cell_type": "code",
      "metadata": {
        "id": "oSA4r1ezygJZ",
        "colab": {
          "base_uri": "https://localhost:8080/"
        },
        "outputId": "71a3b9a6-25f4-4c3c-dfc0-745ee765d343"
      },
      "source": [
        "env.reset()\n",
        "state, reward, done, info = env.step(0)\n",
        "print('State:', state)\n",
        "print('Reward:', reward)\n",
        "print('Done:', done)\n",
        "print('Info:', info)"
      ],
      "execution_count": 10,
      "outputs": [
        {
          "output_type": "stream",
          "name": "stdout",
          "text": [
            "State: [-0.01353116 -0.21281848 -0.02305998  0.32917221]\n",
            "Reward: 1.0\n",
            "Done: False\n",
            "Info: {}\n"
          ]
        }
      ]
    },
    {
      "cell_type": "markdown",
      "metadata": {
        "id": "zf7dIklUygJb"
      },
      "source": [
        "# Agent 1: Human-expertise guided approach (Heuristics)"
      ]
    },
    {
      "cell_type": "markdown",
      "metadata": {
        "id": "HxWNUdnlygJb"
      },
      "source": [
        "One way to solve cart pole is to just use simple heuristics (some external knowledge about what is good and bad) to determine the action.\n",
        "\n",
        "One way is to say that when the pole angle is negative (pole tilted to the left), then we move the cart to the left (action 0) so as to try to regain balance.\n",
        "\n",
        "Otherwise, we move it to the right (action 1)"
      ]
    },
    {
      "cell_type": "code",
      "metadata": {
        "id": "EOTpqMSCygJb"
      },
      "source": [
        "def select_action_good(state):\n",
        "    cart_pos, cart_vel, pole_ang, pole_vel = state\n",
        "    if pole_ang < 0:\n",
        "        return 0\n",
        "    else:\n",
        "        return 1"
      ],
      "execution_count": 11,
      "outputs": []
    },
    {
      "cell_type": "code",
      "metadata": {
        "id": "ks5CHik9ygJb",
        "colab": {
          "base_uri": "https://localhost:8080/",
          "height": 439
        },
        "outputId": "db9f63e0-2b44-430b-c6f6-af9f2a5bb0b0"
      },
      "source": [
        "visualize(select_action_good)"
      ],
      "execution_count": 12,
      "outputs": [
        {
          "output_type": "stream",
          "name": "stdout",
          "text": [
            "Episode finished after 49 timesteps with reward 49.0\n"
          ]
        },
        {
          "output_type": "display_data",
          "data": {
            "text/plain": [
              "<IPython.core.display.HTML object>"
            ],
            "text/html": [
              "<video alt=\"test\" autoplay \n",
              "                loop controls style=\"height: 400px;\">\n",
              "                <source src=\"data:video/mp4;base64,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\" type=\"video/mp4\" />\n",
              "             </video>"
            ]
          },
          "metadata": {}
        }
      ]
    },
    {
      "cell_type": "markdown",
      "metadata": {
        "id": "lilNQX93ygJc"
      },
      "source": [
        "# Can we do better by taking into account other factors like the pole velocity?"
      ]
    },
    {
      "cell_type": "markdown",
      "metadata": {
        "id": "yo56Sx_PygJc"
      },
      "source": [
        "### Individual exercise / discussion\n",
        "\n",
        "Try to configure the code below using if else statements, and try to get the pole to consistently reach **timestep 200** if possible!\n",
        "\n",
        "Note:\n",
        "\n",
        "- Action value of 0 represents moving the cart to the left\n",
        "- Action value of 1 represents moving the cart to the right\n",
        "- Negative angles/position/velocity represent towards the left\n",
        "- Positive angles/position/velocity represent towards the right"
      ]
    },
    {
      "cell_type": "code",
      "metadata": {
        "id": "DZX403CoygJd"
      },
      "source": [
        "def select_action_better(state):\n",
        "    cart_pos, cart_vel, pole_ang, pole_vel = state\n",
        "    if pole_vel < 0:\n",
        "        return 0\n",
        "    elif pole_ang < 0:\n",
        "        return 0\n",
        "#     elif cart_pos < 0:\n",
        "#         return 0\n",
        "#     elif cart_vel < 0:\n",
        "#         return 0\n",
        "    else:\n",
        "        return 1"
      ],
      "execution_count": 13,
      "outputs": []
    },
    {
      "cell_type": "code",
      "metadata": {
        "id": "453zQz5bygJd",
        "colab": {
          "base_uri": "https://localhost:8080/",
          "height": 439
        },
        "outputId": "695eb3fc-5476-4c07-a177-6aeff2190a1d"
      },
      "source": [
        "visualize(select_action_better)"
      ],
      "execution_count": 14,
      "outputs": [
        {
          "output_type": "stream",
          "name": "stdout",
          "text": [
            "Episode finished after 189 timesteps with reward 189.0\n"
          ]
        },
        {
          "output_type": "display_data",
          "data": {
            "text/plain": [
              "<IPython.core.display.HTML object>"
            ],
            "text/html": [
              "<video alt=\"test\" autoplay \n",
              "                loop controls style=\"height: 400px;\">\n",
              "                <source src=\"data:video/mp4;base64,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\" type=\"video/mp4\" />\n",
              "             </video>"
            ]
          },
          "metadata": {}
        }
      ]
    },
    {
      "cell_type": "markdown",
      "metadata": {
        "id": "2X4fdnR8ygJd"
      },
      "source": [
        "# Agent 2: Doing it without human expertise - Deep Q-Network (DQN) [Advanced]\n",
        "\n",
        "We simply train a single neural network that takes in the state space as input, and outputs two values:\n",
        "\n",
        "- Q-value for Action 0\n",
        "- Q-value for Action 1\n",
        "\n",
        "The chosen action will then be whichever action gives the highest Q-value. \n",
        "\n",
        "You can treat the Q-value as the proxy for the total accumulated future reward that you can get from a state if you choose an action."
      ]
    },
    {
      "cell_type": "markdown",
      "metadata": {
        "id": "1Prq30xVygJd"
      },
      "source": [
        "# Additional Concepts (Optional)"
      ]
    },
    {
      "cell_type": "markdown",
      "metadata": {
        "id": "y1jUOrBwygJd"
      },
      "source": [
        "### Compute Q-learning Temporal Difference error:\n",
        "\n",
        "(This is equivalent to the difference between what the expected reward of what the current step predicts, compared to what the next step predicts\n",
        "\n",
        "-> Think of it as the further you go into time, the more accurate your prediction of the outcome because there is less uncertainty \n",
        "\n",
        "-> Hence if we try to match current step prediction with the next step prediction's values, we will be more and more accurate at predicting the future)\n",
        "\n",
        "\n",
        "The loss $L$ which we use to train the neural network is defined as:\n",
        "\n",
        "$$ L = { 1 \\over N} \\sum_i [ Q_{\\theta}(s,a) - Q_{reference}(s,a) ] ^2 $$\n",
        "\n",
        "with $Q_{reference}$ defined as:\n",
        "\n",
        "$$ Q_{reference}(s,a) = r(s,a) + \\gamma \\cdot max_{a'} Q_{target}(s', a') $$\n",
        "\n",
        "Where\n",
        "* $Q_{target}(s',a')$ denotes q-value of next state and next action predicted by __target_network__\n",
        "* $Q_{\\theta}(s,a)$ denotes q-value of current state and action predicted by __policy_network__\n",
        "* $s, a, r, s'$ are current state, action, reward and next state respectively\n",
        "* $\\gamma$ is a discount factor to discount future rewards\n",
        "* $N$ is the number of experiences sampled from the replay buffer\n",
        "\n",
        "### Replay Buffer \n",
        "In order to prevent high correlation between the input samples, we store our accumulated experience into a replay buffer, and then sample randomly from it to learn. \n",
        "\n",
        "A human analog is that we replay our experiences in the day in our dreams, and learn from our dreams at night."
      ]
    },
    {
      "cell_type": "markdown",
      "metadata": {
        "id": "F31GHq1AygJe"
      },
      "source": [
        "# The Code"
      ]
    },
    {
      "cell_type": "markdown",
      "metadata": {
        "id": "5uAliG1KygJe"
      },
      "source": [
        "Since we use a neural network, we import tensorflow/keras (https://keras.io/) for the neural network training.\n",
        "\n",
        "We also import random (https://docs.python.org/3/library/random.html) so that we can randomly sample our replay buffer."
      ]
    },
    {
      "cell_type": "code",
      "metadata": {
        "id": "K12LTd4QygJe"
      },
      "source": [
        "from tensorflow.keras.models import Sequential\n",
        "from tensorflow.keras.layers import Dense, Input, BatchNormalization\n",
        "from tensorflow.keras.optimizers import Adam, SGD\n",
        "import tensorflow as tf\n",
        "\n",
        "import random\n",
        "import os"
      ],
      "execution_count": 112,
      "outputs": []
    },
    {
      "cell_type": "markdown",
      "metadata": {
        "id": "oHaCru1kygJe"
      },
      "source": [
        "We set certain hyperparameters (= not trained within the model) in order to influence the way the agent learns.\n",
        "\n",
        "When you are more familiar with deep learning/reinforcement learning, you can adjust this, but for now, this has been tuned and you should just use this."
      ]
    },
    {
      "cell_type": "code",
      "metadata": {
        "id": "bAH46tneygJe"
      },
      "source": [
        "## HYPERPARAMETERS\n",
        "# These can be modified for you to understand the importance of these values\n",
        "GAMMA = 0.95 # Discounted value of future rewards: Between 0 and 1\n",
        "LEARNING_RATE = 0.01 # How fast you want the neural network to learn: Between 0 and 1\n",
        "MEMORY_SIZE = 10000 # Number of memories the replay buffer can store: Positive Integer\n",
        "BATCH_SIZE = 128 # Number of samples to learn from replay buffer: Positive Integer, lower than MEMORY_SIZE\n",
        "EPSILON = 0.95 # Decay factor for exploration: Between 0 and 1\n",
        "MODEL_UPDATE = 2 # how many runs to update the model\n",
        "MEMORY_PER_RUN = 1 # number of memory updates required per run"
      ],
      "execution_count": 113,
      "outputs": []
    },
    {
      "cell_type": "markdown",
      "metadata": {
        "id": "DcbzdTRRygJf"
      },
      "source": [
        "DQNSolver is a class that uses DQN in order to solve the Cart Pole problem\n",
        "\n",
        "It has:\n",
        "- an __init__ function, which initializes the solver. If there is an existing weights file 'cartpole_dqn_weights.h5', it initializes to that set of weights\n",
        "- a getmodel function, which creates the neural network\n",
        "- an updateweights function, which updates the target network to the policy's networks weights, and saves a copy of the weights to 'cartpole_dqn_weights.h5'\n",
        "- a remember function, in order to store memory into the replay buffer\n",
        "- an act function, which selects an action randomly a fraction **exploration_rate** of the time, and otherwise selects the best action (greedy selection)\n",
        "- an experience_replay function, which samples memories to learn from the replay buffer"
      ]
    },
    {
      "cell_type": "code",
      "source": [
        "def rewardshape(done, step, reward):\n",
        "  ''' Modifies the reward to make it easier to learn '''\n",
        "  if done:\n",
        "    return -1\n",
        "  else:\n",
        "    return 1/250"
      ],
      "metadata": {
        "id": "pNVrYjYWekLn"
      },
      "execution_count": 114,
      "outputs": []
    },
    {
      "cell_type": "code",
      "metadata": {
        "id": "pp9BZ4tmygJf"
      },
      "source": [
        "class DQNSolver:\n",
        "    def __init__(self, observation_space, action_space):\n",
        "        self.memory = []\n",
        "        self.exploration_rate = 1.0\n",
        "        self.observation_space = observation_space\n",
        "        self.action_space = action_space\n",
        "        self.policynetwork = self.getmodel()\n",
        "        self.targetnetwork = self.getmodel()\n",
        "        self.loss_function = tf.keras.losses.Huber()\n",
        "        self.optimizer = Adam(lr = LEARNING_RATE)\n",
        "        # check if there is already a saved model, then load it\n",
        "        if os.path.exists('cartpole_dqn_weights.h5'):\n",
        "            self.policynetwork.load_weights('cartpole_dqn_weights.h5')\n",
        "            self.targetnetwork.load_weights('cartpole_dqn_weights.h5')\n",
        "\n",
        "    def getmodel(self):\n",
        "        model = Sequential()\n",
        "        model.add(Input(shape = (self.observation_space,))) # Input layer with observation_space number of nodes to represent state space\n",
        "        # model.add(BatchNormalization()) # make the input normalized for better backprop training\n",
        "        model.add(Dense(128, activation=\"relu\")) # Hidden layer for better representation ability\n",
        "        # model.add(BatchNormalization()) # make the hidden output normalized for better backprop training\n",
        "        model.add(Dense(self.action_space, activation=\"linear\"))  # Output layer: Must have self.action_space number of nodes\n",
        "        # model.compile(loss=\"huber\", optimizer=Adam(lr=LEARNING_RATE))\n",
        "        return model\n",
        "\n",
        "    def updateweights(self):\n",
        "        self.policynetwork.save_weights('cartpole_dqn_weights.h5')\n",
        "        self.targetnetwork.load_weights('cartpole_dqn_weights.h5')\n",
        "\n",
        "    def remember(self, state, action, reward, next_state, done):\n",
        "        # add a memory to the replay buffer\n",
        "        self.memory.append((state, action, reward, next_state, done))\n",
        "        # only keep the most recent MEMORY_SIZE number of memories\n",
        "        self.memory =  self.memory[-MEMORY_SIZE:]\n",
        "\n",
        "    def act(self, state, greedy = False):\n",
        "        # Only explore if less than exploration rate\n",
        "        if np.random.rand() < self.exploration_rate and not greedy:\n",
        "            return env.action_space.sample()\n",
        "        # Otherwise, choose the best action\n",
        "        state = state.reshape(observation_space)\n",
        "        q_values = self.policynetwork.predict(tf.expand_dims(state, 0))\n",
        "        return np.argmax(q_values[0])\n",
        "\n",
        "    def experience_replay(self):\n",
        "        # only start sampling the replay buffer when there is enough memory\n",
        "        if len(self.memory) < BATCH_SIZE:\n",
        "            return\n",
        "\n",
        "        # Get indices of samples for replay buffer\n",
        "        indices = np.random.choice(range(len(self.memory)), size=BATCH_SIZE)\n",
        "\n",
        "        # Using list comprehension to sample from replay buffer\n",
        "        state_sample = np.array([self.memory[i][0] for i in indices])\n",
        "        action_sample = [self.memory[i][1] for i in indices]\n",
        "        rewards_sample = [self.memory[i][2] for i in indices]\n",
        "        state_next_sample = np.array([self.memory[i][3] for i in indices])\n",
        "        done_sample = tf.convert_to_tensor(\n",
        "            [float(self.memory[i][4]) for i in indices]\n",
        "        )\n",
        "\n",
        "        # Build the updated Q-values for the sampled future states\n",
        "        # Use the target model for stability\n",
        "        future_rewards = self.targetnetwork.predict(state_next_sample)\n",
        "\n",
        "        # Q value = reward + discount factor * expected future reward (if not done)\n",
        "        # Q value = reward (if done)\n",
        "        updated_q_values = rewards_sample + (1.0 - done_sample)*(GAMMA * tf.reduce_max(\n",
        "            future_rewards, axis=1\n",
        "        ))\n",
        "\n",
        "        # Create a mask so we only calculate loss on the updated Q-values\n",
        "        masks = tf.one_hot(action_sample, self.action_space)\n",
        "\n",
        "        with tf.GradientTape() as tape:\n",
        "            # Train the model on the states and updated Q-values\n",
        "            q_values = self.policynetwork(state_sample)\n",
        "\n",
        "            # Apply the masks to the Q-values to get the Q-value for action taken\n",
        "            q_action = tf.reduce_sum(tf.multiply(q_values, masks), axis=1)\n",
        "\n",
        "            # Calculate loss between new Q-value and old Q-value\n",
        "            loss = self.loss_function(updated_q_values, q_action)\n",
        "\n",
        "        # Backpropagation\n",
        "        grads = tape.gradient(loss, self.policynetwork.trainable_variables)\n",
        "        self.optimizer.apply_gradients(zip(grads, self.policynetwork.trainable_variables))\n",
        "            \n",
        "        # Explore less next run by decaying exploration rate (minium 0.1)\n",
        "        self.exploration_rate = max(0.1, self.exploration_rate*EPSILON)"
      ],
      "execution_count": 122,
      "outputs": []
    },
    {
      "cell_type": "markdown",
      "metadata": {
        "id": "RheyGQ8fygJf"
      },
      "source": [
        "Now we run the environment and let the DQN algorithm learn:\n",
        "\n",
        "If the agent does not perform well, run the code again.\n",
        "\n",
        "This is because the rate of learning in DQN is highly dependent on the starting configuration, so a good starting state will enable it to learn much better.\n",
        "\n",
        "Keep running this cell to make the agent perform better, as the DQNSolver will retrain from existing \"my_model_weights.h5\" weights to improve upon it."
      ]
    },
    {
      "cell_type": "code",
      "metadata": {
        "id": "mTfxdgxgygJf",
        "colab": {
          "base_uri": "https://localhost:8080/"
        },
        "outputId": "6f17419a-b4bf-4fa7-80b9-e35817706f27"
      },
      "source": [
        "env = gym.make('CartPole-v1')\n",
        "observation_space = env.observation_space.shape[0]\n",
        "action_space = env.action_space.n\n",
        "dqn_solver = DQNSolver(observation_space, action_space)\n",
        "\n",
        "stephistory = []\n",
        "for run in range(50):\n",
        "    # give some time for buffer to fill up\n",
        "    if len(dqn_solver.memory) > BATCH_SIZE and run >= 10:\n",
        "        dqn_solver.experience_replay()\n",
        "    newmemory = 0\n",
        "    while newmemory < MEMORY_PER_RUN:\n",
        "        state = env.reset()\n",
        "        state = state.reshape(observation_space)\n",
        "        for step in range(500):\n",
        "            action = dqn_solver.act(state)\n",
        "            state_next, reward, done, info = env.step(action)\n",
        "            reward = rewardshape(done, step, reward)\n",
        "            state_next = state_next.reshape(observation_space)\n",
        "            dqn_solver.remember(state, action, reward, state_next, done)\n",
        "            state = state_next\n",
        "            if done:\n",
        "                print (\"Run: \" + str(run+1) + \", exploration_rate: \" + str(dqn_solver.exploration_rate) + \", score: \" + str(step))\n",
        "                newmemory += step\n",
        "                stephistory.append(step)\n",
        "                break\n",
        "                \n",
        "        # terminate early if bad start\n",
        "        if run==20 and np.mean(stephistory)<20: break\n",
        "          \n",
        "    # update target network after every MODEL_UPDATE runs\n",
        "    if run % MODEL_UPDATE == 0:\n",
        "        dqn_solver.updateweights()"
      ],
      "execution_count": 123,
      "outputs": [
        {
          "output_type": "stream",
          "name": "stderr",
          "text": [
            "/usr/local/lib/python3.7/dist-packages/keras/optimizer_v2/adam.py:105: UserWarning: The `lr` argument is deprecated, use `learning_rate` instead.\n",
            "  super(Adam, self).__init__(name, **kwargs)\n"
          ]
        },
        {
          "output_type": "stream",
          "name": "stdout",
          "text": [
            "Run: 1, exploration_rate: 1.0, score: 19\n",
            "Run: 2, exploration_rate: 1.0, score: 15\n",
            "Run: 3, exploration_rate: 1.0, score: 30\n",
            "Run: 4, exploration_rate: 1.0, score: 25\n",
            "Run: 5, exploration_rate: 1.0, score: 26\n",
            "Run: 6, exploration_rate: 1.0, score: 11\n",
            "Run: 7, exploration_rate: 1.0, score: 10\n",
            "Run: 8, exploration_rate: 1.0, score: 11\n",
            "Run: 9, exploration_rate: 1.0, score: 15\n",
            "Run: 10, exploration_rate: 1.0, score: 16\n",
            "Run: 11, exploration_rate: 0.95, score: 25\n",
            "Run: 12, exploration_rate: 0.9025, score: 16\n",
            "Run: 13, exploration_rate: 0.8573749999999999, score: 15\n",
            "Run: 14, exploration_rate: 0.8145062499999999, score: 21\n",
            "Run: 15, exploration_rate: 0.7737809374999999, score: 22\n",
            "Run: 16, exploration_rate: 0.7350918906249998, score: 13\n",
            "Run: 17, exploration_rate: 0.6983372960937497, score: 30\n",
            "Run: 18, exploration_rate: 0.6634204312890623, score: 20\n",
            "Run: 19, exploration_rate: 0.6302494097246091, score: 16\n",
            "Run: 20, exploration_rate: 0.5987369392383786, score: 18\n",
            "Run: 21, exploration_rate: 0.5688000922764596, score: 42\n",
            "Run: 22, exploration_rate: 0.5403600876626365, score: 44\n",
            "Run: 23, exploration_rate: 0.5133420832795047, score: 18\n",
            "Run: 24, exploration_rate: 0.48767497911552943, score: 10\n",
            "Run: 25, exploration_rate: 0.46329123015975293, score: 22\n",
            "Run: 26, exploration_rate: 0.44012666865176525, score: 25\n",
            "Run: 27, exploration_rate: 0.41812033521917696, score: 28\n",
            "Run: 28, exploration_rate: 0.3972143184582181, score: 55\n",
            "Run: 29, exploration_rate: 0.37735360253530714, score: 46\n",
            "Run: 30, exploration_rate: 0.35848592240854177, score: 51\n",
            "Run: 31, exploration_rate: 0.34056162628811465, score: 101\n",
            "Run: 32, exploration_rate: 0.3235335449737089, score: 60\n",
            "Run: 33, exploration_rate: 0.30735686772502346, score: 92\n",
            "Run: 34, exploration_rate: 0.2919890243387723, score: 69\n",
            "Run: 35, exploration_rate: 0.27738957312183365, score: 52\n",
            "Run: 36, exploration_rate: 0.263520094465742, score: 27\n",
            "Run: 37, exploration_rate: 0.25034408974245487, score: 8\n",
            "Run: 38, exploration_rate: 0.2378268852553321, score: 11\n",
            "Run: 39, exploration_rate: 0.2259355409925655, score: 37\n",
            "Run: 40, exploration_rate: 0.2146387639429372, score: 92\n",
            "Run: 41, exploration_rate: 0.20390682574579033, score: 94\n",
            "Run: 42, exploration_rate: 0.1937114844585008, score: 281\n",
            "Run: 43, exploration_rate: 0.18402591023557577, score: 208\n",
            "Run: 44, exploration_rate: 0.17482461472379698, score: 101\n",
            "Run: 45, exploration_rate: 0.16608338398760714, score: 190\n",
            "Run: 46, exploration_rate: 0.15777921478822676, score: 110\n",
            "Run: 47, exploration_rate: 0.14989025404881542, score: 123\n",
            "Run: 48, exploration_rate: 0.14239574134637464, score: 171\n",
            "Run: 49, exploration_rate: 0.1352759542790559, score: 184\n",
            "Run: 50, exploration_rate: 0.1285121565651031, score: 148\n"
          ]
        }
      ]
    },
    {
      "cell_type": "markdown",
      "metadata": {
        "id": "7Ypv40rRygJg"
      },
      "source": [
        "# Visualize your DQN agent"
      ]
    },
    {
      "cell_type": "code",
      "source": [
        "dqn_solver.policynetwork.predict([[-0.1, -0.1, -0.1, -0.1]])"
      ],
      "metadata": {
        "id": "9WimdmurYaVb",
        "colab": {
          "base_uri": "https://localhost:8080/"
        },
        "outputId": "8c82396c-2469-4bd8-e417-8f43e18e4162"
      },
      "execution_count": 117,
      "outputs": [
        {
          "output_type": "execute_result",
          "data": {
            "text/plain": [
              "array([[0.14556251, 0.11892863]], dtype=float32)"
            ]
          },
          "metadata": {},
          "execution_count": 117
        }
      ]
    },
    {
      "cell_type": "code",
      "source": [
        "dqn_solver.policynetwork.predict([[0.1, 0.1, 0.1, 0.1]])"
      ],
      "metadata": {
        "id": "mM6QAVJYccJ_",
        "colab": {
          "base_uri": "https://localhost:8080/"
        },
        "outputId": "a622f40c-943c-41f8-e482-cf526955c766"
      },
      "execution_count": 118,
      "outputs": [
        {
          "output_type": "execute_result",
          "data": {
            "text/plain": [
              "array([[0.13346332, 0.10234627]], dtype=float32)"
            ]
          },
          "metadata": {},
          "execution_count": 118
        }
      ]
    },
    {
      "cell_type": "code",
      "source": [
        "dqn_solver.policynetwork.predict(tf.expand_dims(state, 0))"
      ],
      "metadata": {
        "id": "lLvltkbrcaIj",
        "colab": {
          "base_uri": "https://localhost:8080/"
        },
        "outputId": "edfbfa67-7af9-4418-b56b-b408da8b7f1b"
      },
      "execution_count": 119,
      "outputs": [
        {
          "output_type": "execute_result",
          "data": {
            "text/plain": [
              "array([[-0.24239571, -0.163397  ]], dtype=float32)"
            ]
          },
          "metadata": {},
          "execution_count": 119
        }
      ]
    },
    {
      "cell_type": "code",
      "metadata": {
        "id": "21EB_anZygJg"
      },
      "source": [
        "def dqn_agent(state):\n",
        "  return dqn_solver.act(state, greedy = True)"
      ],
      "execution_count": 120,
      "outputs": []
    },
    {
      "cell_type": "code",
      "metadata": {
        "id": "B674CVbxVNn-",
        "colab": {
          "base_uri": "https://localhost:8080/",
          "height": 439
        },
        "outputId": "1a02973b-5203-493d-a6f4-2672af5429c3"
      },
      "source": [
        "visualize(dqn_agent)"
      ],
      "execution_count": 121,
      "outputs": [
        {
          "output_type": "stream",
          "name": "stdout",
          "text": [
            "Episode finished after 96 timesteps with reward 96.0\n"
          ]
        },
        {
          "output_type": "display_data",
          "data": {
            "text/plain": [
              "<IPython.core.display.HTML object>"
            ],
            "text/html": [
              "<video alt=\"test\" autoplay \n",
              "                loop controls style=\"height: 400px;\">\n",
              "                <source src=\"data:video/mp4;base64,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\" type=\"video/mp4\" />\n",
              "             </video>"
            ]
          },
          "metadata": {}
        }
      ]
    },
    {
      "cell_type": "markdown",
      "metadata": {
        "id": "bP9eqba4ygJh"
      },
      "source": [
        "# Concluding Remarks"
      ]
    },
    {
      "cell_type": "markdown",
      "metadata": {
        "id": "XwrR0BLfygJh"
      },
      "source": [
        "One good thing about using neural networks is that you can easily train an agent with very complex / high-dimensional state spaces as inputs.\n",
        "However, you lose out on the interpretability of the model.\n",
        "Compare your DQN agent to that of the heuristic-based agent earlier using the following guiding questions:\n",
        "- Which is easier to understand by humans?\n",
        "- Which requires more human input?\n",
        "- Which requires longer code?\n",
        "- If someone were to ask you how your AI system works, which kind of model would you feel more confident explaining?"
      ]
    },
    {
      "cell_type": "code",
      "source": [
        ""
      ],
      "metadata": {
        "id": "ozARAnMdatAA"
      },
      "execution_count": 24,
      "outputs": []
    }
  ]
}