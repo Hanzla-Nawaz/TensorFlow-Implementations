{
  "nbformat": 4,
  "nbformat_minor": 0,
  "metadata": {
    "kernelspec": {
      "display_name": "Python 3",
      "language": "python",
      "name": "python3"
    },
    "language_info": {
      "codemirror_mode": {
        "name": "ipython",
        "version": 3
      },
      "file_extension": ".py",
      "mimetype": "text/x-python",
      "name": "python",
      "nbconvert_exporter": "python",
      "pygments_lexer": "ipython3",
      "version": "3.7.6"
    },
    "colab": {
      "name": "CartPole.ipynb",
      "provenance": [],
      "collapsed_sections": []
    },
    "gpuClass": "standard"
  },
  "cells": [
    {
      "cell_type": "markdown",
      "metadata": {
        "id": "9DRkH9PbygJO"
      },
      "source": [
        "## The Cart Pole"
      ]
    },
    {
      "cell_type": "markdown",
      "metadata": {
        "id": "mkJv5bqsV9qK"
      },
      "source": [
        "\n",
        "This problem requires balancing a pole up on a cart for as long as possible.\n",
        "\n",
        "### State: \n",
        "\n",
        "(0) Cart Position (-2.4 to 2.4)\n",
        "\n",
        "(1) Cart Velocity (-infinity to infinity)\n",
        "\n",
        "(2) Pole Angle (-41.8 to 41.8)\n",
        "\n",
        "(3) Pole Velocity at Tip (-infinity to infinity)\n",
        "\n",
        "### Actions: \n",
        "\n",
        "Left or Right (Force of -1 or +1 to the cart)\n",
        "\n",
        "### Reward: \n",
        "\n",
        "For each second the pole is upright, reward + 1\n",
        "\n",
        "Max reward: 200 (+1 for a total of 200 time steps)\n",
        "\n",
        "### Starting State:\n",
        "\n",
        "All state variables assigned a uniform random value, magnitude less than 0.05\n",
        "\n",
        "### Termination:\n",
        "\n",
        "The episode ends when:\n",
        "\n",
        "(1) The pole is more than 12 degrees from vertical\n",
        "\n",
        "(2) The cart moves more than 2.4 units from the center\n",
        "\n",
        "(3) Episode length greater than 200"
      ]
    },
    {
      "cell_type": "markdown",
      "metadata": {
        "id": "qY4xctIIBxaG"
      },
      "source": [
        "# Install Pre-requisites/Dependencies\n",
        "\n",
        "The following dependencies are required to get the gym environment working and also to display the gym environment as a video"
      ]
    },
    {
      "cell_type": "code",
      "metadata": {
        "id": "88geA5rdAA_k"
      },
      "source": [
        "#remove \" > /dev/null 2>&1\" to see what is going on under the hood\n",
        "!pip install gym pyvirtualdisplay > /dev/null 2>&1\n",
        "!apt-get install -y xvfb python-opengl ffmpeg > /dev/null 2>&1"
      ],
      "execution_count": 1,
      "outputs": []
    },
    {
      "cell_type": "code",
      "metadata": {
        "colab": {
          "base_uri": "https://localhost:8080/"
        },
        "id": "PJNU9nV5AlPv",
        "outputId": "00ad1dcd-8b01-41d4-d094-939e38ff2728"
      },
      "source": [
        "!apt-get update > /dev/null 2>&1\n",
        "!apt-get install cmake > /dev/null 2>&1\n",
        "!pip install --upgrade setuptools 2>&1\n",
        "!pip install ez_setup > /dev/null 2>&1\n",
        "!pip install gym > /dev/null 2>&1"
      ],
      "execution_count": 2,
      "outputs": [
        {
          "output_type": "stream",
          "name": "stdout",
          "text": [
            "Looking in indexes: https://pypi.org/simple, https://us-python.pkg.dev/colab-wheels/public/simple/\n",
            "Requirement already satisfied: setuptools in /usr/local/lib/python3.7/dist-packages (62.6.0)\n"
          ]
        }
      ]
    },
    {
      "cell_type": "markdown",
      "metadata": {
        "id": "59z1uNHhBSyb"
      },
      "source": [
        "# Configure Colab to display video of our agent!\n",
        "\n",
        "The code below simply configures Colab to display a video of the environment for us to visualize."
      ]
    },
    {
      "cell_type": "code",
      "metadata": {
        "colab": {
          "base_uri": "https://localhost:8080/"
        },
        "id": "GSnZsMBt_vkJ",
        "outputId": "4d27e196-0b92-463a-9437-76b60c45be41"
      },
      "source": [
        "import gym\n",
        "from gym import logger as gymlogger\n",
        "from gym.wrappers import Monitor\n",
        "import matplotlib.pyplot as plt\n",
        "%matplotlib inline\n",
        "import glob\n",
        "import io\n",
        "import base64\n",
        "import numpy as np\n",
        "from IPython.display import HTML\n",
        "from IPython import display as ipythondisplay\n",
        "\n",
        "from pyvirtualdisplay import Display\n",
        "display = Display(visible=0, size=(1400, 900))\n",
        "display.start()"
      ],
      "execution_count": 3,
      "outputs": [
        {
          "output_type": "execute_result",
          "data": {
            "text/plain": [
              "<pyvirtualdisplay.display.Display at 0x7f79ba3d7450>"
            ]
          },
          "metadata": {},
          "execution_count": 3
        }
      ]
    },
    {
      "cell_type": "code",
      "metadata": {
        "id": "_GOz9bH_-9zY"
      },
      "source": [
        "\"\"\"\n",
        "Utility functions to enable video recording of gym environment and displaying it\n",
        "To enable video, just do \"env = wrap_env(env)\"\"\n",
        "\"\"\"\n",
        "def show_video():\n",
        "  mp4list = glob.glob('video/*.mp4')\n",
        "  if len(mp4list) > 0:\n",
        "    mp4 = mp4list[0]\n",
        "    video = io.open(mp4, 'r+b').read()\n",
        "    encoded = base64.b64encode(video)\n",
        "    ipythondisplay.display(HTML(data='''<video alt=\"test\" autoplay \n",
        "                loop controls style=\"height: 400px;\">\n",
        "                <source src=\"data:video/mp4;base64,{0}\" type=\"video/mp4\" />\n",
        "             </video>'''.format(encoded.decode('ascii'))))\n",
        "  else: \n",
        "    print(\"Could not find video\")\n",
        "def wrap_env(env):\n",
        "  env = Monitor(env, './video', force=True)\n",
        "  return env"
      ],
      "execution_count": 4,
      "outputs": []
    },
    {
      "cell_type": "markdown",
      "metadata": {
        "id": "xCMc6oW2ygJT"
      },
      "source": [
        "# Environment Visualization"
      ]
    },
    {
      "cell_type": "markdown",
      "metadata": {
        "id": "EEJoYAdBygJU"
      },
      "source": [
        "Gym is a very useful package by OpenAI (https://gym.openai.com/) that comes built in with many environments to train our agents on.\n",
        "\n",
        "Here, we will use the CartPole environment using:\n",
        "\n",
        "*env = gym.make('CartPole-v0')*\n",
        "\n",
        "We reset the environment to its initial state using:\n",
        "\n",
        "*env.reset()*\n",
        "\n",
        "We visualize the environment using:\n",
        "\n",
        "*env.render()*\n",
        "\n",
        "We take an action in the environment using:\n",
        "\n",
        "*env.step(action)*\n",
        "\n",
        "We create a function \"visualize\" that lets us visualize the actions of an agent using decision_function to choose the actions."
      ]
    },
    {
      "cell_type": "code",
      "metadata": {
        "id": "OPmdfB7tygJU"
      },
      "source": [
        " env = wrap_env(gym.make('CartPole-v0'))\n",
        " \n",
        " def visualize(decision_function):\n",
        "  env = wrap_env(gym.make('CartPole-v0'))\n",
        "  state = env.reset()\n",
        "  totalreward = 0\n",
        "  for t in range(200):\n",
        "      env.render()\n",
        "      action = decision_function(state)\n",
        "      state, reward, done, _ = env.step(action)\n",
        "      totalreward += reward\n",
        "      if done:\n",
        "          break\n",
        "  print(\"Episode finished after {} timesteps with reward {}\".format(t+1, totalreward))\n",
        "  env.close()\n",
        "  show_video()"
      ],
      "execution_count": 5,
      "outputs": []
    },
    {
      "cell_type": "markdown",
      "metadata": {
        "id": "HlIz6-jJUiyK"
      },
      "source": [
        "We visualize the actions of a random agent:"
      ]
    },
    {
      "cell_type": "code",
      "metadata": {
        "id": "GPdQ1ZUzUHKu"
      },
      "source": [
        "def random_action(state):\n",
        "  return env.action_space.sample()"
      ],
      "execution_count": 6,
      "outputs": []
    },
    {
      "cell_type": "code",
      "metadata": {
        "colab": {
          "base_uri": "https://localhost:8080/",
          "height": 439
        },
        "id": "hwyWAi-4VWVy",
        "outputId": "034b78ad-1ec7-4ab0-c7c7-705c31a406c0"
      },
      "source": [
        "visualize(random_action)"
      ],
      "execution_count": 7,
      "outputs": [
        {
          "output_type": "stream",
          "name": "stdout",
          "text": [
            "Episode finished after 14 timesteps with reward 14.0\n"
          ]
        },
        {
          "output_type": "display_data",
          "data": {
            "text/plain": [
              "<IPython.core.display.HTML object>"
            ],
            "text/html": [
              "<video alt=\"test\" autoplay \n",
              "                loop controls style=\"height: 400px;\">\n",
              "                <source src=\"data:video/mp4;base64,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\" type=\"video/mp4\" />\n",
              "             </video>"
            ]
          },
          "metadata": {}
        }
      ]
    },
    {
      "cell_type": "markdown",
      "metadata": {
        "id": "7QLXPbY7ygJX"
      },
      "source": [
        "# Check out the actions"
      ]
    },
    {
      "cell_type": "code",
      "metadata": {
        "colab": {
          "base_uri": "https://localhost:8080/"
        },
        "id": "qeWvHpDlygJX",
        "outputId": "3c60fdb3-7269-4fb2-c5a6-29f760e1ed33"
      },
      "source": [
        "print('Number of actions:', env.action_space.n)"
      ],
      "execution_count": 8,
      "outputs": [
        {
          "output_type": "stream",
          "name": "stdout",
          "text": [
            "Number of actions: 2\n"
          ]
        }
      ]
    },
    {
      "cell_type": "code",
      "metadata": {
        "colab": {
          "base_uri": "https://localhost:8080/"
        },
        "id": "hEqTaowBygJY",
        "outputId": "81c2bbd5-8073-4ee4-cf12-82a0c5c936c1"
      },
      "source": [
        "# Run this cell many times and see what is output\n",
        "print('A random action is:', env.action_space.sample())"
      ],
      "execution_count": 9,
      "outputs": [
        {
          "output_type": "stream",
          "name": "stdout",
          "text": [
            "A random action is: 1\n"
          ]
        }
      ]
    },
    {
      "cell_type": "markdown",
      "metadata": {
        "id": "NpOXzVqhygJY"
      },
      "source": [
        "# Check out the observations"
      ]
    },
    {
      "cell_type": "code",
      "metadata": {
        "colab": {
          "base_uri": "https://localhost:8080/"
        },
        "id": "oSA4r1ezygJZ",
        "outputId": "2235f5a4-b9ba-4490-9576-f57a55ba3ac9"
      },
      "source": [
        "env.reset()\n",
        "state, reward, done, info = env.step(0)\n",
        "print('State:', state)\n",
        "print('Reward:', reward)\n",
        "print('Done:', done)\n",
        "print('Info:', info)"
      ],
      "execution_count": 10,
      "outputs": [
        {
          "output_type": "stream",
          "name": "stdout",
          "text": [
            "State: [-0.02223712 -0.17255092 -0.0349296   0.24929924]\n",
            "Reward: 1.0\n",
            "Done: False\n",
            "Info: {}\n"
          ]
        }
      ]
    },
    {
      "cell_type": "markdown",
      "metadata": {
        "id": "zf7dIklUygJb"
      },
      "source": [
        "# Agent 1: Human-expertise guided approach (Heuristics)"
      ]
    },
    {
      "cell_type": "markdown",
      "metadata": {
        "id": "HxWNUdnlygJb"
      },
      "source": [
        "One way to solve cart pole is to just use simple heuristics (some external knowledge about what is good and bad) to determine the action.\n",
        "\n",
        "One way is to say that when the pole angle is negative (pole tilted to the left), then we move the cart to the left (action 0) so as to try to regain balance.\n",
        "\n",
        "Otherwise, we move it to the right (action 1)"
      ]
    },
    {
      "cell_type": "code",
      "metadata": {
        "id": "EOTpqMSCygJb"
      },
      "source": [
        "def select_action_good(state):\n",
        "    cart_pos, cart_vel, pole_ang, pole_vel = state\n",
        "    if pole_ang < 0:\n",
        "        return 0\n",
        "    else:\n",
        "        return 1"
      ],
      "execution_count": 11,
      "outputs": []
    },
    {
      "cell_type": "code",
      "metadata": {
        "colab": {
          "base_uri": "https://localhost:8080/",
          "height": 439
        },
        "id": "ks5CHik9ygJb",
        "outputId": "80d01330-4776-45d4-b846-2e71c8a3e222"
      },
      "source": [
        "visualize(select_action_good)"
      ],
      "execution_count": 12,
      "outputs": [
        {
          "output_type": "stream",
          "name": "stdout",
          "text": [
            "Episode finished after 43 timesteps with reward 43.0\n"
          ]
        },
        {
          "output_type": "display_data",
          "data": {
            "text/plain": [
              "<IPython.core.display.HTML object>"
            ],
            "text/html": [
              "<video alt=\"test\" autoplay \n",
              "                loop controls style=\"height: 400px;\">\n",
              "                <source src=\"data:video/mp4;base64,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\" type=\"video/mp4\" />\n",
              "             </video>"
            ]
          },
          "metadata": {}
        }
      ]
    },
    {
      "cell_type": "markdown",
      "metadata": {
        "id": "lilNQX93ygJc"
      },
      "source": [
        "# Can we do better by taking into account other factors like the pole velocity?"
      ]
    },
    {
      "cell_type": "markdown",
      "metadata": {
        "id": "yo56Sx_PygJc"
      },
      "source": [
        "### Individual exercise / discussion\n",
        "\n",
        "Try to configure the code below using if else statements, and try to get the pole to consistently reach **timestep 200** if possible!\n",
        "\n",
        "Note:\n",
        "\n",
        "- Action value of 0 represents moving the cart to the left\n",
        "- Action value of 1 represents moving the cart to the right\n",
        "- Negative angles/position/velocity represent towards the left\n",
        "- Positive angles/position/velocity represent towards the right"
      ]
    },
    {
      "cell_type": "code",
      "metadata": {
        "id": "DZX403CoygJd"
      },
      "source": [
        "def select_action_better(state):\n",
        "    cart_pos, cart_vel, pole_ang, pole_vel = state\n",
        "    if pole_vel < 0:\n",
        "        return 0\n",
        "    elif pole_ang < 0:\n",
        "        return 0\n",
        "#     elif cart_pos < 0:\n",
        "#         return 0\n",
        "#     elif cart_vel < 0:\n",
        "#         return 0\n",
        "    else:\n",
        "        return 1"
      ],
      "execution_count": 13,
      "outputs": []
    },
    {
      "cell_type": "code",
      "metadata": {
        "colab": {
          "base_uri": "https://localhost:8080/",
          "height": 439
        },
        "id": "453zQz5bygJd",
        "outputId": "692fe579-74cc-405b-ddca-f5fef5d242af"
      },
      "source": [
        "visualize(select_action_better)"
      ],
      "execution_count": 14,
      "outputs": [
        {
          "output_type": "stream",
          "name": "stdout",
          "text": [
            "Episode finished after 198 timesteps with reward 198.0\n"
          ]
        },
        {
          "output_type": "display_data",
          "data": {
            "text/plain": [
              "<IPython.core.display.HTML object>"
            ],
            "text/html": [
              "<video alt=\"test\" autoplay \n",
              "                loop controls style=\"height: 400px;\">\n",
              "                <source src=\"data:video/mp4;base64,AAAAIGZ0eXBpc29tAAACAGlzb21pc28yYXZjMW1wNDEAAAAIZnJlZQAARFNtZGF0AAACrgYF//+q3EXpvebZSLeWLNgg2SPu73gyNjQgLSBjb3JlIDE1MiByMjg1NCBlOWE1OTAzIC0gSC4yNjQvTVBFRy00IEFWQyBjb2RlYyAtIENvcHlsZWZ0IDIwMDMtMjAxNyAtIGh0dHA6Ly93d3cudmlkZW9sYW4ub3JnL3gyNjQuaHRtbCAtIG9wdGlvbnM6IGNhYmFjPTEgcmVmPTMgZGVibG9jaz0xOjA6MCBhbmFseXNlPTB4MzoweDExMyBtZT1oZXggc3VibWU9NyBwc3k9MSBwc3lfcmQ9MS4wMDowLjAwIG1peGVkX3JlZj0xIG1lX3JhbmdlPTE2IGNocm9tYV9tZT0xIHRyZWxsaXM9MSA4eDhkY3Q9MSBjcW09MCBkZWFkem9uZT0yMSwxMSBmYXN0X3Bza2lwPTEgY2hyb21hX3FwX29mZnNldD0tMiB0aHJlYWRzPTMgbG9va2FoZWFkX3RocmVhZHM9MSBzbGljZWRfdGhyZWFkcz0wIG5yPTAgZGVjaW1hdGU9MSBpbnRlcmxhY2VkPTAgYmx1cmF5X2NvbXBhdD0wIGNvbnN0cmFpbmVkX2ludHJhPTAgYmZyYW1lcz0zIGJfcHlyYW1pZD0yIGJfYWRhcHQ9MSBiX2JpYXM9MCBkaXJlY3Q9MSB3ZWlnaHRiPTEgb3Blbl9nb3A9MCB3ZWlnaHRwPTIga2V5aW50PTI1MCBrZXlpbnRfbWluPTI1IHNjZW5lY3V0PTQwIGludHJhX3JlZnJlc2g9MCByY19sb29rYWhlYWQ9NDAgcmM9Y3JmIG1idHJlZT0xIGNyZj0yMy4wIHFjb21wPTAuNjAgcXBtaW49MCBxcG1heD02OSBxcHN0ZXA9NCBpcF9yYXRpbz0xLjQwIGFxPTE6MS4wMACAAAAB9mWIhAAz//727L4FNf2f0JcRLMXaSnA+KqSAgHc0wAAAAwAAAwAAFgn0I7DkqgN3QAAAHGAFBCwCPCVC2EhH2Olf8H/A6HQH7F7kHVVdNc6JV7OEcHg4YRmBib8AS6zJN6/meExokwVhwRr4oA4Y6K9AqDeQnL1SjRimDVQUUGAu3aIXlcijKgJ38eVEJhmI6Wla5b8F6kzXIPBKJKL6VkLYjRlxbUX7SuVb/rIIwLnCayJAFXJzqCBw0hv3ohXGFvUTvrhudEBxXfbhWaAJ/qOhC4bawcwPnhYKwlb95bkzg5I2ADIhKzLFeyqBkZHIlOYbJtXuI6G2fIwAwC1AZ/+q8nEGXqnQ93oaKQ6bKre7NiuLHHqd45YRTTcdusyQ45UY08du2QO9TX6rgKbrxxrli12R7h+ffdXT64CQke7IR6eUvx6TsAp81SkL0Tf/wOmOaCdJqd1Ba8FxWamkyz7O5GnjXEKvnUjckT7Smv9ntLwxa9E53ZcK61USD0VKPfpOqzf29gX7rnlz2BvjcXPHxsNXdb9SxHUNDh0rObA4t8iKQQWCa0kht2DYvgAaL74pkNXHHNH/NyvMAj5wgqJ8NgeZ+z/3nnd4FWa81xZ1iVMcK7o63tK/Q0qo7xQJK1dJT3eDpjGzpCfroHgAAAMAAAMAAwMAAADLQZokbEM//p4QAABFTfdAA2zSXRkVD/G5WmCPCnZyhxUop8d+cWrlqz/gIbdNKepbSP7BwqFldXV+pgqsc+UG/1bpKl8RJKpVUSPjzYkEey0ui21keGygi/X2XUsT2fmAdt9wtoXtLufPYQwl/IJzjphyo/WI6fB3pb0YtX0hBS95/evPpSDQanY/Sc6prXZ74gQYgudDrG/O2+EVQM/M/ufo/trt+fBVn1ye5slnmrIAAAMAGgAJ7LsdDe52BEJzv3bAO0ZbrNnb8FwAAABbQZ5CeIR/AAAWtSsyiPlnUyhrx3gLNbK/Ni4o+jeawYAWQhsyBtY3h0so/R2FvaCp4lw5KAL5fbXQjHuZTPcjFAAAAwABjfcgBv74ajF7SPTkekB7K1K4L8AIOQAAAEYBnmF0R/8AACOr+F9Vf2yArDZj6SnVsjjhMIgAh77EdIl3u6GNUZFt0tlEAAADAAADAEiI2bUhk4G8wMZegAAP21KoACkgAAAAPwGeY2pH/wAADXT7xwttJ7nOMtAg/HenRGwiqR2VFQpMJDRzL8wIEgAAAwAEcIROLAcN5vDTqjIABLaplgAPSQAAAGpBmmhJqEFomUwIZ//+nhAAAENJbWAPilwtDjFa+P6nsFQpbCsGxlNm3/L3zUsl/aCK0ubTZkGgwlVYbHReqkVC6iTEwmemyDdhJQbu+UrcpuDqt7P/zz13cDknxYvr5XNFvlUB54CoQDsVAAAATkGehkURLCP/AAAWJV86ZdyKEC0/c0s6Q/YALUinbSMFm6edof4/q7LM4Rrib1pp9qhuPHL9UKUQ2Dqd8yWHZXxjRmW1WoAABMXo+qAfMQAAADcBnqV0R/8AACLDRwugmM3ZQZD/qSIq0BzSMxv/H7dY37xocFuE8KVAAAADAAADAAADAKEzVAiZAAAAOQGep2pH/wAADX+2jX7YQyhJ1eHOeBRma7GBEOSclRqYg4poGuA9l2hJ8Ml7cAAAAwAAAwMcAhAaEAAAAINBmqxJqEFsmUwIZ//+nhAAAEVFKLQA56bSgaR9p+8KrtbiGgeiA+0/iQs1CTvevFLGZNNH0UN8mUvRVJL1h3ER6LbtRHUKfZw8lzAQUuvCw15jyhGhRhlmUSjQmz8Zw0jtHr8uPvlRewBqoFPXHF9r37vVY+HPCQwl7RnuUmA/V07nPAAAAD5BnspFFSwj/wAAFrw9GuNb7Q41K+JMDKB9IIFtalyCe33/qnCwAx2rGYUtk4Vm+fViNAAAAwAAWWoY0IBQQQAAACMBnul0R/8AAAUcUmpwgYALifQ1OXkJfJJKz+6LJGm9rmsPuAAAADMBnutqR/8AACOxzBBEYtEBW6pfAEAC6iVnv+xfhUbWcdOnmO7DDqmuc/HMLDUez2gYZUAAAABoQZrwSahBbJlMCGf//p4QAABDZWJWoDFtt7n7V/4btC7XOaqySUFLnyQuQpvdEX2hTyqhvsuoatMf+tH2vZjLbZOmHV2mhUPg3lYAPdcsBN3qe37Y8mqElU7ZBjvKy6WDjEZCqNlnUmEAAABHQZ8ORRUsI/8AABYsULS6pZdfi+HzreLiitORDMrzc1YXFgAvTp04s4YtfRCOjwUXFfgUNc11TavLYiQAAAMAAAWb1lUA7oEAAAA7AZ8tdEf/AAANfgDU4QMAHBZt6907VhG6bDcLgYwgoGa/Ci1TyD4Vz8np7fefRqA2XQAAAwAD3KhAooEAAABOAZ8vakf/AAAivx0sH57ceAC2dCn+4ViNNl6jCrZA4FWhIxURkrw6M/iWmBFxB4t3ADgPkqrJpQx7AX8kXaUlIhVqxInEgAAAIqTFAOqAAAAARkGbNEmoQWyZTAhn//6eEAAARUUld/Bhv9oLk/SgT6bKinU3hg9mNxN8YWCG1btcAfx9esDPfE/F8sk2cagNiQsqxjEYLrgAAABBQZ9SRRUsI/8AABa1DweFRh0k0ANr3Rx0n9NCrjp6v3WFiuoMFuzYU1l3ezMx0BtjU9iz4VVXX9zk3AFt2y+IBx0AAAA8AZ9xdEf/AAAjq/hcLLSHgYLOgIBHIIvPABwXqgAsRGcphny3bU366D9kXmlEsMa0MFhYCkAABmgEIDQgAAAANgGfc2pH/wAAIr8dNRkNW8LgBD1GToZAOjulVlECIajLZXm7kkK+/Vl9ByiLnAAAAwIdRliTgAAAAEpBm3hJqEFsmUwIZ//+nhAAAEW6bzxPNKdIutOMPNCw3UTU+7D4rczpkMTzwAARB638rzsXhVqLT5wYYOAKhCzO/qmKg+lMH4QisQAAAD9Bn5ZFFSwj/wAAFrVDVZvyxAJhHjj80E7MPW4Sd2lVDMOyiUOMBY1SMlPGnr7gLWyTjrMSc3mjYQADZ74QZUAAAAArAZ+1dEf/AAAjyDMdGkw+U5LPJp4cvio6faQOjqG4Jdr5F/aAAASFfhBlQQAAADgBn7dqR/8AACK/H4aUD3z6ux2AHJhB9xlgIZDLEihSJJnrmQ1uRKDTZgsaMq0XCJ6wAAC4qVQk4QAAAE1Bm7xJqEFsmUwIZ//+nhAAAENFJm9Zhezy/Zmc2MSp+LFJFsYV2P1hIfYIofls92e3O9+KOEGJTiCp2KDnlGr/UdcXqeGPnHvXSkffXAAAAEFBn9pFFSwj/wAAFjBaEX7qBREAE0wgHoJMDopf2KlvExGma/Uw5u7A3Kxubf5YaUoZVhWRGwjSyDiAAAmi/CDKgQAAADgBn/l0R/8AAA0164fHKsWqC0Zgb5z6YPWYyQANhsydBBxUh68dlN6gR7Odhpw1xotGAAA22nCDKgAAADEBn/tqR/8AACK/HSwebLlUooALoAM+FMbWQvIgNl4CD60m9ED82Ojn+uAAAAZZKoLjAAAAXEGb4EmoQWyZTAhn//6eEAAAQ1SrTnWEnxeoDgUwcKHBrPZrNatTP3vyIRokOTxaFfWEi0ilVnlsQLH45YRF6kjYfSW9ymw+PqrP5p6kO+/dRWhfutdeD1+rVOT5AAAANEGeHkUVLCP/AAAWMFoRfy2Itk2RW6nKUHXIKoHNUfA2n72EWpKErS6AvUn7wAAMbpwgyoAAAAAqAZ49dEf/AAAirDbftD8nMbCivAs1cAEx6Laoz52wVtto+/rcAEjBWCICAAAAJgGeP2pH/wAAIrIyO+qbBrgYAJFELvwOr21DbaNtH+bEEyBbTs+DAAAAS0GaJEmoQWyZTAhn//6eEAAAQ29nYlmMcMwoZIAALgWhWJ0+tttUlpGLupL7FFQg0OXBWBKTAuZWP1gVIkuxtZ7WYovk0h+rdnKrpAAAADFBnkJFFSwj/wAAFiuUkesjuzhbF4eyzriKgtxy88fc5XEhVELAAAADAAADAFM54QZVAAAAIwGeYXRH/wAAIrf2AUD/wQAFz1fOq24la8tfvPmMS3RrOXHAAAAAKQGeY2pH/wAAIr8azzg3A+BsPnYzPACxZ827z0+tE4n77ZQMpF6QVBvRAAAATUGaaEmoQWyZTAhf//6MsAAARAL3+jWtFCAeHXejbbq6hiZjmB/cPjNDLhn3ebCN2jqzyOO+NFdLnYtYnuFCZhofBegIBkXRknq5uE+BAAAAQ0GehkUVLCP/AAAWMFoSUDY3sJiwJKymUnPlXcWdrm2Jz3JT03MoM+w1dbT32aSdlciZkrd6AAADAAADAAAaGp4Qm4EAAAAsAZ6ldEf/AAAiw0JpujZuZnCHUrhKrENv7Lopx5llVvW9KVlugAAACBplhcUAAAA7AZ6nakf/AAAisisNwvjuL9TNeQKKPjAPYFl6oAS0LM2Gb7CHYsuye+qKNctblV2Xj2zW/AAARuDLB0wAAABSQZqsSahBbJlMCF///oywAABEAgV5PSWXAuABT5gHL9U2la5cKs2x6ocPXxhScc2lTn9ehiym4aamxwUZ1kznUva4b6ZIkaAWF85oXdDnpvpEbAAAADZBnspFFSwj/wAAFiMsA6Dz1b8V6qQT9UxEnqJboOMuBUINfbj5I/xpOck0U2logAAAaAKZYXEAAAAaAZ7pdEf/AAAirDsPH2zp0ptFODs9w8zfpuAAAAAxAZ7rakf/AAAivwQnEssa+uRACVNplBSkU13DgMVGLXg3sc65R3Q90IPwQ4gOCQeWbAAAAE5Bmu5JqEFsmUwUTC///oywAAAZ6mC5swGgafZc8f1iH0BPABOJgHx+n4XRwmE8o1Uj2RcI6yp1pgj6JQr7Rd7NN+BOHOYldwLIzTqiU0EAAAA9AZ8Nakf/AAANL7aM0oAAXUQW+sMhr6LbBC/lQuAZRYg1hmTdTTpDZsJfWp98CNobgAAAAwAAAwDTJ4Q6YQAAAFVBmxFJ4QpSZTAhn/6eEAAAQ0RsLkAmvrwWdFb8IRUxZcXzjCTI7P3wA0uyKqCqP1zhm/DD9EfMQP4adKPDTZClSzpfCcoRDpWxX2jNoDBqgwsZuS6hAAAAYEGfL0U0TCP/AAAWK5Q3InRILyVQlPMoAH4eRGt/IgIdzWAhJ1f8ZgxddzwKYk4jNU3Rs/ueoWkZPkeVED38iMdsJVkyk7j7PHmVA0tkxJ4BU7lAAAADAAADAAdfUqguIAAAAC4Bn1BqR/8AACK/BCcSyv6By2ut5tB9jkgvzF3kRcspW63z7KAIo8CAACEFKoHTAAAAREGbVUmoQWiZTAhf//6MsAAARAIFTbMpawoWJ2cAa9DWsWr+0da604ctx/NInfltAPesYLcjJV57OsiI2iX91Gha09B9AAAAY0Gfc0URLCP/AAAWK5Q3IwnE0wfhuR5x5YHCAEqlEa/fJDNuUDQMrbfoBoz4C35t0Sxkc31Eop+sZdEJ7hFkC0faRI0y9Dgn9oH6yam/OPQsRLLvkFGxClB0G3JfFgANdpwhNwAAAEgBn5J0R/8AACLEcmAG66DIYalOWZCJvdecbqoW/M53vWFGolsWJjX96mx2QhLKNYxjTaJEkGLmUT+JIS0/E5Z6GAAANHpwhNwAAABBAZ+Uakf/AAAhvx98XZhmu3jXXd57P2gBbgBnwgOE1QgRl9vGwnzgCzai8fVuUcDtnmae1jm9PNFJ5dFACGpliVkAAABmQZuZSahBbJlMCF///oywAABEAgV5PTJ9MdjLnYnAhDH6G6pGooZSWGHgIXbnpReVcN9h6vEvrJVrpmaxqgSfaTtkRTJaVHEqo3K+QqLp6qbSouvRumcsnQ3sWHpNijN/I8Vo3x2gAAAAT0Gft0UVLCP/AAAWIyu1Bd5t5YtG7WxrnaNSjMVJQGsv4afZ6dCf2fwKFdBA0QmmfwYIeNFs65Mm3ZtEpb+rH90XGcRo7wUqoAAAaLThCbkAAAA4AZ/WdEf/AAAiwxdhtzv4WBSTH+7VG1VelesHYGAq88FbCCUo8NhMyhcOGAbv5N0swAABBRFUFxEAAAAuAZ/Yakf/AAAivwQmbytPM3q44mm5v9o70n6Q65XfTub38/vyExnAAADNpVCVgAAAAD9Bm9xJqEFsmUwIX//+jLAAAEQCBXHhAfAKz4uvIi9AaEaO17casQPS8IkHigy7unI+uA/RrZgh6yWa3rfSjAkAAABOQZ/6RRUsI/8AABYjK7UF5AFRQwmOf+XLziZ5qp/uwydFrtha/uy31H8nBAVIBzc0Rh9hIwAprWg2cgfnpL787HwAAAMAAAMABTUeEJuAAAAAQAGeG2pH/wAAIr6u06CGYwH92NIQ8gurm/XFLffM1YCACWDjfWtUTx2AZbltHfxu2TGCwEgmruAAAAMBww8ITcEAAABOQZoASahBbJlMCF///oywAABEem8/2+pAHrezZb/p7Vq7e9xjp7IjJKnmh9uNqQ5J6tKdJvds0FDIYAq3ChL5wKixw5orvm5Wh4P2Uhy5AAAASkGePkUVLCP/AAAWJSbjoz6LQKo0o4+iloLOhF8p2D6l0yLsQALqC6Dg02XKt0BOAy9P0R7yT0zIcN/e/hRsMOyJoAAABAJMsLiAAAAARgGeXXRH/wAAIsLstIBVvgA49WgcuEFjbe8446m4eNgWeQ8ULhCdgxc6GtBDhMJziRtAitzLjCtmV/+zOSviBwADsoZYXEAAAABGAZ5fakf/AAAhvx+GhgxUuOgARU/nQDlw9MwY/Jfx/JR2ygdRQxsM1LMRsY6WMU5kh7xFoiEboboSlnIXAwev6gAKKjwhNwAAAEtBmkNJqEFsmUwIX//+jLAAAEICBfzHmdGvvsrS5XCGM3ZSsL/0lLOpBkZ3M4Tys0X6eE1gC8ZeZFB8kqUCXToJ+IFuWiXhYjqEvKAAAABIQZ5hRRUsI/8AABWcTgKRB7ASYrRBLB8gYKSIuIQX7xr2RQmu9Xg8IB1xaJ5aDousOMxEMiBUYom5O19gAAADAAADAH0DwhNxAAAASQGegmpH/wAAIa4zAkPCN/sPUwtqW0AFqJfSkggLhPEDYR7a9/9gMvYoSzN9YUE5OCOwJK37SmxFCS5aLjjSgrYN5QAAgQiqC4gAAABXQZqGSahBbJlMCGf//p4QAABBRGpz3SYuYt8iQHZ8oREYGYUtzlm7QgR/4/1hBHlC/FAB/ezjEBv5grgmpsq6U28dpJmY65Gddt/EBNa9UMycrZ50sviBAAAAO0GepEUVLCP/AAAVnE6dUPgATj91loBLeM/UuI3xah0oul6RY2FusR4UQAGEXqTByIy+LINAAA0WnCE3AAAAQQGexWpH/wAAIZk2j0BOT8U0cfuO3QALT+30fRf1QHlcKjzQmarXrMGGYdWeymfq4BQwHfmaSn0+X+RIAA2b+EOnAAAAc0GaykmoQWyZTAhn//6eEAAAQUOXDzjwCKKiViOK56bTc/ACj9+uenAYRICmpShkfrenewsM4TtlIatmGH6K/SSvRorSBfpsKyPwd1/4tnOR1HlNwe1I8hJb9xclMVx6hFgLw6vIu8HZ6HexJ2FXONBUC4UAAABXQZ7oRRUsI/8AABWEv4fqePsD9gBMreJ1N6EOmqdRMpUy7On1gMnRy0asTugZOOiJBmd4YqZriL1fcAIjli8JWznKMS1baPPOjPQ8+iSHbCaIAD1vhDqgAAAASAGfB3RH/wAAIanP7rk+3x/2HFQAXE+hqp2ka0mDH37gmfyw7vbdN7OgRZFq5nEaPKov9m6qtiMZq1MwueNqxKDCAANjBVCTgAAAAEkBnwlqR/8AACGuMS/SM9wgALqAI+9twMnywMjvWm4uSLh5BrWilHMC1VYojvO3IPuZIUrLc2U6ilRLzwur1EAAAAMAABcPcsLjAAAAdkGbDkmoQWyZTAhf//6MsAAAQhROd+y4VmIAAArnzqBSqzyaNzQ9i/5VDlFMh1p5ZeVfrPHrunutdPZI9iwK2vD/vn7q+7YrWylkYIbDTYtdbCH+Wx+NLQVXA1ZYPvLowr//78wS+4qbxfqd657ju+1T5IMc+VAAAABpQZ8sRRUsI/8AABWgMX3iPpb7XqzAAfto0AdsjYlR5GrM28hvKKcdO77f5klnMT38+VYiWKUSp/RZuw6WFMtpmDi4KIG7EWzDr0vxSxzgWpfbskbcroycylHheCvUGZAAAAMAAFCiqErAAAAATAGfS3RH/wAAIanPZ2qsLw1W+lMzHWAC4YQgG6lBlTLGPPzkdLW3q8GT63fGC+WBni7vbK+bsvtmaGx6ElkA1R5xqPH7XgJNtAZY6YEAAABGAZ9Nakf/AAAhvZYCigD7QDISABaM+dmrzRWvtqG3CR91JmGrshrlxQyJ+ipmUcejBRiTUSWMEdukONV7mjWaFtZ2EMsScQAAAHZBm1JJqEFsmUwIX//+jLAAAEIBRsTFa4OYbOgAhrEDHWqz2kHFva/1P4fC8w0xh0gYn5WbRyDOPbmnnhFAm4/8Q+uLB6Gkfl1CzUqEnJk7OvpWdWFwX7hApTsnhYyK5Mb+RodgKefii0Dc9vu6mFxwlDYPVn+BAAAAREGfcEUVLCP/AAAVkp7eNzg0NxvWZc5nZgSVxXmJRHzNyk7cyQ8OZLjYA7uUhD05yTlJezeP7f5/DXyW5pNgAAMTlUJWAAAALgGfj3RH/wAAIcC4Hrpq/Ra1r4po0eYS5izFSFKrnnBaReBq7nnc2ErTVFGd9OAAAAAyAZ+Rakf/AAAhrjEv0jUepcM/v9YlkpSO/T+imGtjJ0jGzOeKBzbVXe4XIdNETcI7esEAAABrQZuUSahBbJlMFEwz//6eEAAAQbpvOt8pUAEYDd11pgiJ8zb3C4R1v1gE4DSnoSsesrxbE/IBrSaOx6+h+d7K5y+CYph1sf9oErmBHOMOx2hCrFMNjpWkJoOicKsI7v7e9swyG2ltoV1KDlgAAABAAZ+zakf/AAAhwj8FlwZ9muIfncufkucHGO23KhHmsjf7NQWtbdsv0oAE1Dxh2GtCr0mfu4K1jAAAAwAK7FUJWAAAAGNBm7hJ4QpSZTAhn/6eEAAAP3+O0wCTkARJyuX+sDaOH9/qzgRzxfljiERsMXnBkfneKxrkVviIE/VLsECpHDppJ3IUdrzqjECxKMrbpNl1hR5MpwK74EoyMtBhQ9lWwJtklP0AAABFQZ/WRTRMI/8AABUCn0+sENcK3NOjmOaOIzlIQAXTszhAwu5AXk9fcylOYI1bFVxdgdLz/e6HdPoAAAMAAAMAAC4tUJWAAAAAOgGf9XRH/wAAIKlAwdlW43VwWCQjMBWTyZ9uLNP9gPSFToomMKGAPnokKyX2yZIcH2grWMAAXb8IdUEAAABBAZ/3akf/AAAgxtut/aQA0R4lr3lbSzCarfuRaIh0QqGh9fJoAH5hZe+tuWqe/Uw5TH2G+ddy6qAAAAMADuJhDqkAAABuQZv8SahBaJlMCF///oywAABAAUbYnoLqhDLEoH2VFkpMpm1+rngFfzIJhq1nX+pnHmtU1da2d2atQzJALqdTuEQ9dFY1TRcJfQZ5ftVsntM9E+GLrMzaTeG6s6eiwD3CfjkXi/5BOURy15mN/ugAAABMQZ4aRREsI/8AABUCnqi0WJ1qPlOavszI1YIUYkdbecNhKjTwALSBrwKmtJhDpUoSNN9tJMwrUxQ+WBEzCPgjMR2UF8WUAAAVGvLEnQAAAEUBnjl0R/8AACDAuPpKL86YmJ5dy3pzUVcP47YcuHB2iXoX61XJfKAD5A2xaFKaxxkTbFTtSQgmiFVL1+OqLmEAA9b4RgQAAAA8AZ47akf/AAAgma2NeUUA4G5amD9+/kZDU425H8idoJggnkavdii3IqGPRnuGU+OQmwZzRF5AABr9qhKxAAAAk0GaIEmoQWyZTAhf//6MsAAAQAFTGDADo+pleN0dZtRDJrZQpFN0qAmr7Q+tQ68LGgE+F3unGgjZliIXt8AzcRIgEOj06Pw+ELi+W6ULsqqthYeFqFq/kPGOj/Ms1CgoTr5AH8VxDNBAmCOvtvRUZJjDC2f6YzON94kd7kn4VqR2c26LcLNU9ruLveG7hMazo9ImIQAAAFdBnl5FFSwj/wAAFQtfT/KseN8pXGUZx9wx5UghN5D67HWDvgs22lKGqXWqqdgEMuqmhzxlSQ0vjCrJCe1lFRl/OrDWyN1c7fOs2+lKN8hLhgAAQrbLHTAAAAA4AZ59dEf/AAAgwLjfwCxKYVt93o88XA6IiUNvoyMcW+9HuKJ//vW7MlTt2RC2r45r89uQ+KnZPmwAAAAuAZ5/akf/AAAgvZWtuuOZJYnHNx3TOwCYUwXEYOBprSNwglybPDmHGPHEo07+mQAAAGRBmmRJqEFsmUwIX//+jLAAAEB6bz3OaVg9lr22G2rWgXbcmov9TgrGgMjLf7DxJOYyPaDQ1rR1FhoZQZi5C+Jp2gYAyeKQZI1wTxQbeRjZquExEZHx/A00l3tHfmPKugkLDMhKAAAAOUGegkUVLCP/AAAVC19utGDG2rsWTRDPQYcEtp1AmmfK5kkbZ+7pzV9lg40lKG7qzKGixRGDAt4RgQAAADIBnqF0R/8AACDAt9057T5zexlcNl/8EmfWrKiNQ+Hb0B2SYO36AEJwz+qobbKIXs4hHwAAAD0BnqNqR/8AACCxkmhTgR/hRDuVrnCC6KNCx1kuMU0DrI23DkAmJ5zVCjWqTxHGHABOL1PippdtYROKoo9NAAAASkGapUmoQWyZTAhf//6MsAAAPmfHSanpsYq1liwLsP7dx68sxpn/2D0diYDt2RClHzv5OBhhFbh+ZpU2c6LxvZqhTLI52oIfzljBAAAAVUGayEnhClJlMCF//oywAAA+XGzvceLZt3FJl+FZ1B2QIB8DBNjOpH1bt/7dJ+qAOWzYxsPCqkDHYqX+vlxcyaN1Lwptz3bHN0CjnLfYloYJ6GfMlkEAAABnQZ7mRTRMI/8AABR7aLUeT/d+XYbz2Ma/V2q7wKE/W+6Frsn145MMITpE7FS3rNu/fm92QYZ+Kp4R9E+Ftu+lZu27AFrcLtmXB5ukt9KG3LD9jor2WOXFjiu9+wAAAwAAAwAeXcIwIQAAADgBnwdqR/8AAB+5pxV/J7j3UxPPzvEbtgbQqQytZZnXTOnvbgIg6ZCB5EZd8GnhDk7gAAAjRZZiwAAAAGFBmwxJqEFomUwIX//+jLAAAD5cj+m4AreXf3yugrty3WxbCPs6D7ENMxa47ujoYqbfMOEcSieSWx6f8J2wPGRB+s1ui1M8Cnwf892GNhuY2bsD7kiDMnAWn7UOqBgwTwLDAAAAW0GfKkURLCP/AAAUcf2RC2HHYL6YoM8aVcTmwB5suSYw9zJrAWMkvmbXNcx9YziAP7frCaMA+7qSwiLsugVQTM6lhLXSDFfUkXkwn01y2ExM1V3jy7q2eepKh00AAABAAZ9JdEf/AAAftujxTspHcwUZPT1rvl06Vqhk0hYpsg9ywj89sVojJDn23LWLNjleCzfynVxpSBLqUR+AyXBGBAAAAD8Bn0tqR/8AAB+5vjHZmfFhuPoAA8WEE3zbQoX1h+7NaUT4ItjZ8tMQAl4jUP8aROREykfx5Eq4kAAABfqCMCAAAABAQZtOSahBbJlMFEwv//6MsAAAPrwnPcNlPFz51aHeZN/iZ7sagFdXKSrrxhdA9PWQrUsr+CZzdsxLxIzCIEYoPwAAAFQBn21qR/8AAB+47Ta9KjXGkBn6NNprFO7qIWyyVHJy2JMhxW/qbqC7OViEmmAnGlI1N2KtAanzMSAEnAhQVmraWsI6EdPmJ7XPZlWoQAAASjeodMEAAAB0QZtySeEKUmUwIX/+jLAAADz8k8n9e5j2ZHVLeOLfH99OJC4IUUJf8mnrvSpT2G7H558lamQ4ere31wLqvi30S4WP3h47/zOFA8hUL9YkbhmRDvCVUaTnoy0TdXRQ+UuRjXXkFExr71e4jNtY9WPbGiMg5scAAABKQZ+QRTRMI/8AABPh/eqHJlGB4Dof1Nr4N1SeaZhkRpfFt7hy0do5YAL06ax6ln+fvCTICfPv6ktPtbSfHvFm/BUUvOVmACrZY6YAAABGAZ+vdEf/AAAfGMscIwFXL8Uj6vbAgEX0I4JbTmD0mv6kqk/flXh2u6gBCml8BJgcksvXmKpzwrwafLMOv/YWcgAArx5ZiwAAAE0Bn7FqR/8AAB8I7egckgBKpQcqw0/CvCDRz1CELCpFToFhCxdBnyDMT09QMxDUitOqtEd7jjdt4Q684d9u2mDQrNqO9+2dwAAArfVGLQAAAGNBm7RJqEFomUwU8L/+jLAAADz8Kq9x+fAKUcm6UStzOAGNJiGF6MgGhKkF7km0Luf+gfLT5NQj99ONcYJ/KMSO+hc3Dc3+v/UPemF6t4EgNj5ULX3g3HWQ/wyfHXI+omgwCsAAAABKAZ/Takf/AAAe9UjFBl2piKiazxPNxaaxVnSLEA/xn5H77Fp5Q+/ZjzQNaY+nXtFAB3BZGvZheOtekf2qW4iyyabEJcppgYKQjAgAAABRQZvXSeEKUmUwIX/+jLAAAD0H2TTuYBuZt/KysqBHB1FoRJ5XoDOxd2oNDbQ134ss1lroQrDoTYMXgthX2OQCRa/Ve53ujC7m/aU7Aff9krqjAAAAU0Gf9UU0TCP/AAAT4f2RC2SoUEccApoaJYAx8aeHAOgPsAunW8J/3xEwoSALPc/09ROooxDd++ADTHlgMizpv9K7Uf2eLwKPqT9o6Q6S/PT31RiwAAAATgGeFmpH/wAAHwkSPhEGH9VU6krtXkQRFcj3LN09ObsGA+eP8gvWbgcueWmAAk+dMBDNbVN76+B9R66AL1xEbwZr1jJDS9TFSGwpl1UYsQAAAHFBmhtJqEFomUwIX//+jLAAAD1cJz3SjVem7BShdkxol8biIjSTJaKHFf9qfkFM8klQ+5MARIaUJcxBmyHNdFtwU7hi62ArbzSv9ygWdk5YU9S+H/75asuHPF/XD/3pYLduqveNIwXy1Ve1a/cQpUi74QAAAFdBnjlFESwj/wAAE+UlOO2t+et0+7UBT9DLlJy7cWUAE0lvOUvT4MqnPBNzdAmrAFvERBdBNZA/7hMubVxRINulJzk0MVXbKUXHpOOMAAADAAADAxPUOmAAAABKAZ5YdEf/AAAfCI2NxQmWt/yOPtbMBWRU//Yu8OKFEIoyMZ5OXJVGst9X0dIkAJWE/pgsZ3WeN6QUyveJkKvLKx1bjaD2g2HmWYsAAABWAZ5aakf/AAAeWO36nELuULELC2RwhCSouDNQongQX5i/WCaAFt+OTq7OQiLdhuiQM9qG4GdtPNuHAwVMOBrd1N7wZ+3OBSxTLmwviAmCyMr3VhDsJWwAAABaQZpdSahBbJlMFEwv//6MsAAAO5xs73HiyQKAJG0knmDzeQtAkNVb1aNndkxSR0rjE/ABCkvtWJOOrc3oDDolSS+Y4+6PPEqfv60rRcaJIEBMBVjof6trhKY5AAAAQgGefGpH/wAAHljs2nD6oLe6XTJu710gm+j+wIvRr6xC3BVdY05DOfDYDGx+VFPGgZ9TRYVMArJQD7QDMq5GmIZazwAAAHZBmn9J4QpSZTBSwv/+jLAAADucYhM4BNfNHLx8I0IpNVSZJogYQswraPKKmKIOUxwEnDtBhUDzSpH4L+o032GOwK9z+kMvf/HZMUInBOoNfk3G66Etht3cesK0s597ixDOuRKiEOAX6OIpckOC6VN9JhqvTanAAAAARwGenmpH/wAAHmZjJuZB5I2Lo80aHrWEcz/z1vi+loZEf5VL8t23p0AE6/7f5CTDVm5zqKRBesXtffAPVp85kczc8Uso1GLAAAAAYUGagEnhDomUwIX//oywAAA7p9DuFhTMX+2s4qnTWaa+1YGR88NyfQqwApw+ysN1cvWNf2qScKonQ/JhO/uv4ABMh1Mu+YkV232jy75wG/k8tp4iuiUt3+P/pPWVFrvn5qEAAABnQZqkSeEPJlMCF//+jLAAADv8Jz/dG/IAAqwH6bVW7+McZkt08ctKWylimGcTyLjgXtZbDkKdZUcmS7s41oFkdtX4b+3QLy+V9PsNZeFoaKobufB1+5/TxEzDxt/WRp/BDAYmr1mT4AAAAGJBnsJFETwj/wAAE1fxFHkgA4ruUbzyolHJCIGZifCa8eaiDKvZIbKZYYzSr7hyWw9aIXL96A37I4XpIB/68oTul5yxoZ+xaxf69uwHLFxzYZqGLESocdhBoCN4Nzu3AMsKbwAAAEoBnuF0R/8AAB5iVMbkTE5Wftbu74H56gvUYhgPIMLFbV9Gj///5D2ORqoxgAljP/1cL3c1IknUh2/aiIeAb3pCVQAAAwAEoEtZwAAAAEUBnuNqR/8AAB5cZr3YCQ2j8PuFDEDMAMusW6xY9jqdZOgPJbw493JDN+gAAnGcbk75UlNDuRO7VrriOtHV4WiuDXAsKbkAAABfQZrmSahBaJlMFPC//oywAAA6PG0OO0HJcrZzq4C1A9I4kD4M/W0wrVjSsny9Om88ZHd9IvcwALiGwda8hFafgnf3RO8Oyd72cFY0rNAtIHDqihEUdaWmx2nE/4SlU2kAAAA7AZ8Fakf/AAAdvkU31UcZpcBT9WZouyExmF0TJhQhcc0AbQNHAy6MnvaN0o6ovZUmTOzqFZYFh+PqqGEAAABlQZsKSeEKUmUwIX/+jLAAADqcJkB0juEF4l1zVEcMALXQ0WR5hZ3O7oTLZZGXaIIK1AQqEpoZamuW4ddu7Bh35aefkC2oAzIp/t6yj6b88tA+aXp1/5+uuZ/yEJ7gkfcSKu6WZMEAAABHQZ8oRTRMI/8AABLV6U4oAoG6eIugzZoAY32CkTBscpqT1k6Pjhzc8I2WedVAgEHBCmhDyQouQC1RyQPp3DYLgXdQAkQl0MAAAABBAZ9HdEf/AAAdpnNJ9727VUalPy1E6lF7aFPUohs3tSfNF4FfdXjljpTCQADVEbhEvVWUgZqefgsnM6AAAJfpdDAAAABLAZ9Jakf/AAAdrIuwJAh+xa0tIcuzof25qlAtgWsmZ6Tgoc5BV9x5BEzt0AEOXRQEYvZfKjBqfhU0lcZwMx3A4/SluVj9z/wZKpZxAAAAXUGbTUmoQWiZTAhf//6MsAAAONygebgCtUXCoSn0hrty2eFj662hO0+AspQikPvohOXVuxNK3kv7iTh0NLBQa8EO9HPQZDu3RsIpy4ecxsmt2qKWqQMcErtEPiit1AAAAERBn2tFESwj/wAAEl1fcMocXobS39+wqinCmDOZ5HxoZkVJZHVUqay3HGgK791/i6M0fW4bUX0XmKtrTZZUZAAA53hTcAAAAEQBn4xqR/8AABzttnUYUouIs1W7Mk13A3MUhyJnIaRNWunSUCeyDk1+lkAv+0BtBdxdxWJ8OfX+vwAmAAxKuMrvLiHQWQAAAHFBm5FJqEFsmUwIX//+jLAAADk8Jz9ta7hBbexvp3a+/IO9ACAVQlUtzWAHhp4pohd6Cu4JqCpm5SeHUpr7xKBrQsThxNy6CGBwPVHRzes6T2oOA6rHyvTynYRCppG1szQi3ImDE9A3z4F45+z4XI/jdQAAAENBn69FFSwj/wAAElXg2JxO22fEIyoM9TIFLMR1kkR6CGTNFc6MlvIUFoV5pPc6r4d18QU7dVtcdZi216eQ/+dB8KbhAAAAMQGfznRH/wAAHPXOCJ18kVEkFCtSjJvb8szAeqEQzkI5TKh30HlSdWh3IfdLjKSvhUAAAABOAZ/Qakf/AAAc/Ke3rCGj0TiWY7mrD1rLnfM78dnWSjn4knAK15M50G1NDAq0MlZq20ACCBxhrpPbdlpdrx0K2fUFc5IUsYaOvqtUCafDAAAAakGb00moQWyZTBRML//+jLAAADezi6omq9OlFZoxcAAjLnrqzzOGrdG6AwADr7yHWYcSyMcL9tM40cwfAMo3MwkU54+pamF1iv+qXhcpNMAmns8WAGkvVbdrN0orl5ajg+7e7u7L5oE2XGEAAABLAZ/yakf/AAAcSO2Kx2sc20e6ip0QOVKNfuAZfp/jB0Vlo58jjSFG3LUWABEByMZ0hBCj2l7khSLJrD/g/qK/PJTmAAADAAG+vDDwAAAAa0Gb90nhClJlMCF//oywAAA33Cc/bZO4QU5E/gezggjj1CIAA3XhkwFcDCeN/QUlFAQ3/uMlC3KyvHqV5PYOfKN1FM2KKnv8/mLtQ63uvIXToHyUOLZItu8GrSecTX29mnVQgD6u5h2W85YMAAAARkGeFUU0TCP/AAAR3TxRwXFGaeHeYeLWmVzexF5zXQzWrEAN2O4sVy5U/utg8PbYwGBAAoKkAvJ6ZipoIIJvqMAAAAw+kXEAAABPAZ40dEf/AAAcV0PCyTldQUPXo+Z0RpkxVLlR+Yv4sxgd7BHHYCuY6uwfVVu8/iAJPgAmTPwFDl2XqLxDJTT4no5AYz7L5FbzssXhjfWbgAAAAFIBnjZqR/8AABxI+1l1cUCcKsV/5E1KX5ap+g68ooIIcnKTwixG5Wn9FcADUZ8PfGPDgjvmPafuZ65JnABReKyNS/ikPSORupXeCDUDDlJ6oYeBAAAAf0GaOkmoQWiZTAhf//6MsAAANldipa0+KACsaU3hPHzxttoOQtb5l0JqbwuHAN19TND68tRSI7bMs8UcGmKvnqdFrUGgYo2xH92308iYWANLq3R/bRtTQsuLsb34fJufdxISX9LhSk/J4HWZtwpDsHYKJmpQTU3jlKrxVhZjpIEAAABUQZ5YRREsI/8AABFMsS1buHmh9nWRaXhRhsSZwOCVLxE9TTmRWe9LISI5pQBFdBfkWvnUARgAF1g87bcmcxnB+aE15b6ritdvInCL17g47+Yy1ZuAAAAASAGeeWpH/wAAG66Tp6hFqp7cXGl5BItr9+VYeuKWRs62K5An/UDzepekICgRB6KCws6MAB69rqyAAoqlVQhIEBeD5p43n1aoYQAAAHJBmn5JqEFsmUwIX//+jLAAADacJz3WV1XptqxO8oXYd+22mps0etbQNj+rejEh0WupZbhRxsBAIBSB2L8WIrf0AOC7UMHDDn6ltrWTJcR+oHMbwKPD9Zj5GvL5Z49M+P3loYhxgnl7MDoOc9oKnqhcOygAAABLQZ6cRRUsI/8AABFV+De2EzyWN2CTr46hHO1EHMfBQ/RfLtDXmKjEofCd4d3AtBx3D6fz3hIAW8OilLhMdkOJp5bJdbOuaEM5AOhhAAAAVAGeu3RH/wAAG6irucJqDanIMTjJ6IMzhFTUTnkDdjL+odnid97Ut+idgcZqgA+UXPxbH/jeOkq62TPYOXeqnZp+wQ0dPVmPSgFO+rCmPJ+A2jDoYQAAAEoBnr1qR/8AABufYRwO8m+/MYzco+2tG5aMFN/VlaZBf4LuMDrF6HpNKHQfZfGsh3ohffp0hNEtIABOGfjrRFBcohgGDWrZBExVxwAAAGlBmqBJqEFsmUwUTC///oywAAA1CxfXIAL8RS0sunz4oJEIoAlPzJ9ZfAIJ+2CdMqAHQXsq11EQNsqDnq3VuTtQS3Waq6AxgnADF76nKa33G7/c2+jG10DiWcukc2bhm+gyAy7V27SKUWAAAABQAZ7fakf/AAAbB3tCSMTL7scw1dYZbjCH4/exd/eH46yaDghRIg3KN8VqQd+iWd8TMiEJ327gCMf18nsgvKGCoKfh5Hv2OAYHRIr2Y1jYgcEAAABNQZrESeEKUmUwIX/+jLAAADVcJz9tyO4QW1FQ2HkWCEXogR/zMljRr0MhPjQ3oOWAtML2oovlLoMQTFF69AC7Nn6I9CgnMpDSpw58lKAAAAA5QZ7iRTRMI/8AABDYAumwGYVQB7lgrTdrx0ntRvX7uUGnSYqAX2kizxnng2qkbAIg7Vr4khQLChuBAAAASgGfAXRH/wAAGvnC9zrZF4EruF83vCtgFM4ZAoT0uzhPyKuHjp8tGS3mYpbOLuM0CAATTFWlYAwRFcrpenqQiF7QVWZxbnwRrOOAAAAASgGfA2pH/wAAGluD7wtUjFQrRQoDwpXXbWG1XindUOBpygo2P9UQlIkr0N0q0igA2AcfRtfTdtrFvE1vf3Y+QJRZjVIlqpg2qlx9AAAAOkGbBkmoQWiZTBTwv/6MsAAAM8saok1QJOqwbz3T9Nx3xrbq3YMaBvnsftkJWtsC10HhCp5hslaVoXkAAABQAZ8lakf/AAAaW4Nrey2PQABc6PU3Fgi7vrcpouxhaB6yy/rVBJtLw8zfPjhE/tfeAtOEFDvFm3lNCtHNRSS+jPtTgMwIUaEgUcKyyheHh4EAAACCQZsqSeEKUmUwIX/+jLAAADQetkkbx0sx+QAgrkfCVOo03H21gcbP+UKJIaxcfwL2drTfljnI3JPUMMdQHg+3BBO0OX0+ReZcyC9UJKhJquulPvYPTcaFAdoO2mKo9QhZDF/1lzbHUUnEDJpYPQ105EBqV/LB9pd9JCpfa2BWCpQJoQAAADZBn0hFNEwj/wAAEFgC6ci86AZ2gdN+xRefqgAHnYc9OoI87qqwaPD37cvfPUJSQMDPeeRU63AAAABJAZ9ndEf/AAAaaMT57n0LqwhtJpqu48rt3SXM+U91a4Wtb9oOzrSB0IvxuWG61R57jGAABNXaQ4GsB5lNhW6FIpxfmiJc4EN5OAAAAEwBn2lqR/8AABnHe0UcVp3yr8SvHk4Pjxs66Q4FTTm/3OmTk/WLW1FgWuVvDgAQJNDVRLUU07i3pFPah48/bAN1W6/9ybijAJB31L4bAAAAeEGbbkmoQWiZTAhf//6MsAAAMtwnRPLmflifqIQZ0NaZCHF74lpHHLW15zmzd1fQAgQntjLZM4ChKYXfs5sHigwgRHSm6uXlVLiw0A+Mfe9P/W2NVoKpR3F0FNlvU2kl1VirWz1FCLI2NHmwUlnxUpBoU5cK1jIMnAAAAENBn4xFESwj/wAAD+asUbrtqe0ZI0WsAA3+b/U8T5V8fDultQGIsp4qr9zujilvfAq0gq8eZZ5bSGFmkvmyebszZ/BwAAAATQGfq3RH/wAAGbnC9zrUfJ+/B34Kb2StCwv28oxTWuVp2j58xhqjr4AJkz8BQ5dl7DkDSDxaRYwpeQM3ZKLRnPslYxt5e3dYYXLkHE2dAAAAUQGfrWpH/wAAGb7hVqCYRcgJ4pRZkVmz7s/jub25Ic7y6CPbmiQrfEs7ISvyVMM2gAQdTvRGOPGvu3KJuPXULbSb3VVcVqoiTFVLsEUemCuzgQAAAGpBm7BJqEFsmUwUTC///oywAAAxVIK+PoSAIj74U/J2doqCgo4iHpvZmHbyaIWmAjZt3SBOOIYFpyBDw40n1dCKAnuVwb9BY7dMZuJbg5sbuwpzx12UKMLDYrBjFDxN6v9fV7IhGeuejK3lAAAAWQGfz2pH/wAAGRuDa3tCRO1zRYN21CWx1ACS639Otdg2A/P6svZ4OfZKpZaz3VXhX25tEqGCL6vjoj0iqXW3nkwENnfzZi2w8rfyXMTcvjY5XZRW3GMtWN6AAAAAdUGb1EnhClJlMCF//oywAAAxnrZlfj2CsNqrNgWM5D+Z6yWq6uR6/qjECqBRDti+0KWzjbH2wlu/soACR3MLd86bc+fZ8ev25fNUo+0uhQQRzquOABZgRT3nvg4r9z63J7YXtG91fh+P5iEyGX431jfZpOltgAAAAEFBn/JFNEwj/wAAD4fxxBuCEsMgALDsGVZFfyQIS58+aMKowrCwADjpnaUpR81V/fLbqaLZyRr4QqfJrQRtKKCpgQAAAFEBnhF0R/8AABkZ6dk2SzvswqteqkPza8JeFkN7bBB0TjUi/JkWQismr5hCLqXFQgDeQyaYAAE1dqBbt7dvD0x76yjkUiXw+HenQCF17UZAuYAAAABVAZ4Takf/AAAYe8cxo4D+U/BWluAQSVPwqBVGhcbXFzTvsH8V+pR0iGaNsXPuSuABsMHJIuEjvUcGjEhJ1PwsxZDP4j3SaghZNBaWCQjpf54Vdfey5gAAAGZBmhZJqEFomUwU8L/+jLAAADBcJz3SlVoAbqn7XLPVqaYccZ361yU10IAuHF0c9HG+/1t+Z0Y7a/mNiAo+AEcSw3KH9iJMlscFC3zOvzriAu4RT2CaIxvwtlRGLnb0QEEa6l2zTmUAAABWAZ41akf/AAAYe8cNUe6hxOuGiYtWQCFU6tKkF0UIR6/rI1RnQH1EYkqLLIbvnywoXJGREo1FVUWV9JPwAPn/KunQZH9t1lsrjkDX11zWClgTo+IQZKYAAABgQZo4SeEKUmUwUsL//oywAAAvEmo1LHc3Su+CVZsCgA1UcDAj5PguNXz709p4/gB7BoEFPFwvpZadJPICCbu0R6n2VJjEUqg5dMps+jTKmuWytvYcdVKF6rFQT1Wy/V1tAAAASwGeV2pH/wAAF9uUkaOA/1F9FTF/6jls84x/wsQUkPAIa0ulSy+EBQaZDLEGW2/rF16zAAFtHtXbLyvBx7yK2fN0vhb3egiJsPthOQAAAHhBmlxJ4Q6JlMCFf/44QAAAtn5nA9yAK04szPwNhd3RHEP8EA+pTX9lBBMUEPOGUFeieFEzpDPwrWuz9T0s3jujkQRAfolejGCd/O0bjxG0nYceEm2l+gCek1KsKsNgQ9GYfP1jVGjwJxMiSu0lABjbLgVucAGhZYAAAABDQZ56RRU8I/8AAA7X5KGtO5INpKVvu5FGqSgKdYAAuttIS3vcVSX9V75tSeODYktUDPB4CrFxjoXs7Q5oXLnUoRd/wQAAAEEBnpl0R/8AABfo93qfDDcyfoqliGHo2SYhjKbsKWr6CDLoZ1lfzH6k0+TzB2kvHh3mKfA5YsWEx9tD6ygtNNPtpAAAAEMBnptqR/8AABdLXW2XzYy18oeWDgtAl07tSmI3xKepkWF007gxPfuYGe2tMmpP/RYHv39OERpQAJxevdHBE9qvxTSBAAAAcUGanUmoQWiZTAhf//6MsAAALbT+iTVBZ3iBg8Bt3vc7MEALeh/m4y3jtBZa9TbDesnxESEcKANwDf6wdY0XAfSdbockDwHDiLNGvRYCR6tjdLx1F/gQw+ee+7nztaSXmcxcj/iHnhzQLNaOuwFTsa1xAAAAbkGaoEnhClJlMCFf/jhAAACx8n1gK4lJxOqAUErlv51oxa9jtk1W1TgGU+6ufh4SVDu8c7nMRGl9Ztdm01gjUPzIj1EJiOBiETYYN7r4JIYi/PwrG+okEHIh7W1DU28JMRkS6ujVmmpeTRWiLmeaAAAAP0Ge3kU0TCP/AAAOhZG/F7K6FORgqesuAALrxHn9xNToP7pP0v1f2xjztAHSDp0keI3f636xtv3lptcxxEkYsAAAAEABnv9qR/8AABdE0M+hj9E/FTQFd06IvfPffgUxbfV81BQZkC6nWYGVD4qij/fgzrO0Havit8xABJ+11gM5VkCxAAAAakGa4UmoQWiZTAhX//44QAAArEXQDsAItS4zOwvNdEkvvD41VsFOzv2PQsDkU6StvCd8vqgirq/lZ35Su8F+AAhrCNUO2hWpHmVyznXo9u5UT6E5oIZr1TxU6c+Bb1I9u+GlLFXL3YLDHIAAAACQQZsESeEKUmUwIT/98QAAAwGn9NUlk4U1bOSsy1r3bPwUePifdEaNGuENGBcr8+U5ogsQBCmRW7Ah4U0y55GWhNtRs9f5pm8VPkVTNK3udsPHc33WpO081cyCBPHoXytDA07jlnzNje3/YszyljBhz1xXHYbmiCjQp3jDJ+e8O0o47b+DzOcojNfSSFzaXU3JAAAAUEGfIkU0TCP/AAAOLqsksz9bUBDbiQX1ACQP8gcWwb6rn+2wabxP77nZiU+gs8kp9sZ3+l3vkezpW1YEg57h5Si1NHfmJQlIvDTebZ584GzAAAAAagGfQ2pH/wAAFrS2eDErdqgBWM4V9RTMzRhLzWhj/su2hMwl6lMijvR8Ysx2Gj6nnlFR9lEcXFbrpI9deFMcapnbzpRFMqi+BGq3rWjjDUjUUjcrlxEIczclqMLd5cCjT2sxDB8/nk8a93EAAABpQZtFSahBaJlMCEf//eEAAAMCketCaNJ20nplBgwJeOIASn3pzgq/Y7jZX1fUcfKoH///AfeV5iX/RPITIP/D8ysJ0QBAFS2T9qlXG+6y+RdAp30GPxZ+gZcM6DQX6oacaUD1Zsqz5iaBAAAAUkGbZknhClJlMCP//IQAAAMAh3p24gyHdbIfAUL4AHBoTh2iEoZ9nOeOf3YsJs4MPZuQWKTDzVtDjuo3nW/Qt2JDRLi4h3UXDksvPdRrOCT2LqUAAAwPbW9vdgAAAGxtdmhkAAAAAAAAAAAAAAAAAAAD6AAAD4wAAQAAAQAAAAAAAAAAAAAAAAEAAAAAAAAAAAAAAAAAAAABAAAAAAAAAAAAAAAAAABAAAAAAAAAAAAAAAAAAAAAAAAAAAAAAAAAAAAAAAAAAgAACzl0cmFrAAAAXHRraGQAAAADAAAAAAAAAAAAAAABAAAAAAAAD4wAAAAAAAAAAAAAAAAAAAAAAAEAAAAAAAAAAAAAAAAAAAABAAAAAAAAAAAAAAAAAABAAAAAAlgAAAGQAAAAAAAkZWR0cwAAABxlbHN0AAAAAAAAAAEAAA+MAAACAAABAAAAAAqxbWRpYQAAACBtZGhkAAAAAAAAAAAAAAAAAAAyAAAAxwBVxAAAAAAALWhkbHIAAAAAAAAAAHZpZGUAAAAAAAAAAAAAAABWaWRlb0hhbmRsZXIAAAAKXG1pbmYAAAAUdm1oZAAAAAEAAAAAAAAAAAAAACRkaW5mAAAAHGRyZWYAAAAAAAAAAQAAAAx1cmwgAAAAAQAAChxzdGJsAAAAmHN0c2QAAAAAAAAAAQAAAIhhdmMxAAAAAAAAAAEAAAAAAAAAAAAAAAAAAAAAAlgBkABIAAAASAAAAAAAAAABAAAAAAAAAAAAAAAAAAAAAAAAAAAAAAAAAAAAAAAAAAAAGP//AAAAMmF2Y0MBZAAf/+EAGWdkAB+s2UCYM+XhAAADAAEAAAMAZA8YMZYBAAZo6+PLIsAAAAAYc3R0cwAAAAAAAAABAAAAxwAAAQAAAAAUc3RzcwAAAAAAAAABAAAAAQAABfBjdHRzAAAAAAAAALwAAAABAAACAAAAAAEAAAUAAAAAAQAAAgAAAAABAAAAAAAAAAEAAAEAAAAAAQAABQAAAAABAAACAAAAAAEAAAAAAAAAAQAAAQAAAAABAAAFAAAAAAEAAAIAAAAAAQAAAAAAAAABAAABAAAAAAEAAAUAAAAAAQAAAgAAAAABAAAAAAAAAAEAAAEAAAAAAQAABQAAAAABAAACAAAAAAEAAAAAAAAAAQAAAQAAAAABAAAFAAAAAAEAAAIAAAAAAQAAAAAAAAABAAABAAAAAAEAAAUAAAAAAQAAAgAAAAABAAAAAAAAAAEAAAEAAAAAAQAABQAAAAABAAACAAAAAAEAAAAAAAAAAQAAAQAAAAABAAAFAAAAAAEAAAIAAAAAAQAAAAAAAAABAAABAAAAAAEAAAUAAAAAAQAAAgAAAAABAAAAAAAAAAEAAAEAAAAAAQAABQAAAAABAAACAAAAAAEAAAAAAAAAAQAAAQAAAAABAAADAAAAAAEAAAEAAAAAAQAABAAAAAACAAABAAAAAAEAAAUAAAAAAQAAAgAAAAABAAAAAAAAAAEAAAEAAAAAAQAABQAAAAABAAACAAAAAAEAAAAAAAAAAQAAAQAAAAABAAAEAAAAAAIAAAEAAAAAAQAABQAAAAABAAACAAAAAAEAAAAAAAAAAQAAAQAAAAABAAAEAAAAAAIAAAEAAAAAAQAABAAAAAACAAABAAAAAAEAAAUAAAAAAQAAAgAAAAABAAAAAAAAAAEAAAEAAAAAAQAABQAAAAABAAACAAAAAAEAAAAAAAAAAQAAAQAAAAABAAAFAAAAAAEAAAIAAAAAAQAAAAAAAAABAAABAAAAAAEAAAMAAAAAAQAAAQAAAAABAAAFAAAAAAEAAAIAAAAAAQAAAAAAAAABAAABAAAAAAEAAAUAAAAAAQAAAgAAAAABAAAAAAAAAAEAAAEAAAAAAQAABQAAAAABAAACAAAAAAEAAAAAAAAAAQAAAQAAAAABAAAFAAAAAAEAAAIAAAAAAQAAAAAAAAABAAABAAAAAAEAAAIAAAAAAQAABAAAAAACAAABAAAAAAEAAAUAAAAAAQAAAgAAAAABAAAAAAAAAAEAAAEAAAAAAQAAAwAAAAABAAABAAAAAAEAAAUAAAAAAQAAAgAAAAABAAAAAAAAAAEAAAEAAAAAAQAAAwAAAAABAAABAAAAAAEAAAQAAAAAAgAAAQAAAAABAAAFAAAAAAEAAAIAAAAAAQAAAAAAAAABAAABAAAAAAEAAAMAAAAAAQAAAQAAAAABAAADAAAAAAEAAAEAAAAAAQAAAgAAAAABAAAFAAAAAAEAAAIAAAAAAQAAAAAAAAABAAABAAAAAAEAAAMAAAAAAQAAAQAAAAABAAAFAAAAAAEAAAIAAAAAAQAAAAAAAAABAAABAAAAAAEAAAQAAAAAAgAAAQAAAAABAAAFAAAAAAEAAAIAAAAAAQAAAAAAAAABAAABAAAAAAEAAAMAAAAAAQAAAQAAAAABAAAFAAAAAAEAAAIAAAAAAQAAAAAAAAABAAABAAAAAAEAAAQAAAAAAgAAAQAAAAABAAAFAAAAAAEAAAIAAAAAAQAAAAAAAAABAAABAAAAAAEAAAMAAAAAAQAAAQAAAAABAAAFAAAAAAEAAAIAAAAAAQAAAAAAAAABAAABAAAAAAEAAAMAAAAAAQAAAQAAAAABAAAFAAAAAAEAAAIAAAAAAQAAAAAAAAABAAABAAAAAAEAAAUAAAAAAQAAAgAAAAABAAAAAAAAAAEAAAEAAAAAAQAAAwAAAAABAAABAAAAAAEAAAUAAAAAAQAAAgAAAAABAAAAAAAAAAEAAAEAAAAAAQAAAwAAAAABAAABAAAAAAEAAAMAAAAAAQAAAQAAAAABAAAFAAAAAAEAAAIAAAAAAQAAAAAAAAABAAABAAAAAAEAAAIAAAAAAQAABAAAAAACAAABAAAAAAEAAAIAAAAAAQAABAAAAAACAAABAAAAAAIAAAIAAAAAHHN0c2MAAAAAAAAAAQAAAAEAAADHAAAAAQAAAzBzdHN6AAAAAAAAAAAAAADHAAAErAAAAM8AAABfAAAASgAAAEMAAABuAAAAUgAAADsAAAA9AAAAhwAAAEIAAAAnAAAANwAAAGwAAABLAAAAPwAAAFIAAABKAAAARQAAAEAAAAA6AAAATgAAAEMAAAAvAAAAPAAAAFEAAABFAAAAPAAAADUAAABgAAAAOAAAAC4AAAAqAAAATwAAADUAAAAnAAAALQAAAFEAAABHAAAAMAAAAD8AAABWAAAAOgAAAB4AAAA1AAAAUgAAAEEAAABZAAAAZAAAADIAAABIAAAAZwAAAEwAAABFAAAAagAAAFMAAAA8AAAAMgAAAEMAAABSAAAARAAAAFIAAABOAAAASgAAAEoAAABPAAAATAAAAE0AAABbAAAAPwAAAEUAAAB3AAAAWwAAAEwAAABNAAAAegAAAG0AAABQAAAASgAAAHoAAABIAAAAMgAAADYAAABvAAAARAAAAGcAAABJAAAAPgAAAEUAAAByAAAAUAAAAEkAAABAAAAAlwAAAFsAAAA8AAAAMgAAAGgAAAA9AAAANgAAAEEAAABOAAAAWQAAAGsAAAA8AAAAZQAAAF8AAABEAAAAQwAAAEQAAABYAAAAeAAAAE4AAABKAAAAUQAAAGcAAABOAAAAVQAAAFcAAABSAAAAdQAAAFsAAABOAAAAWgAAAF4AAABGAAAAegAAAEsAAABlAAAAawAAAGYAAABOAAAASQAAAGMAAAA/AAAAaQAAAEsAAABFAAAATwAAAGEAAABIAAAASAAAAHUAAABHAAAANQAAAFIAAABuAAAATwAAAG8AAABKAAAAUwAAAFYAAACDAAAAWAAAAEwAAAB2AAAATwAAAFgAAABOAAAAbQAAAFQAAABRAAAAPQAAAE4AAABOAAAAPgAAAFQAAACGAAAAOgAAAE0AAABQAAAAfAAAAEcAAABRAAAAVQAAAG4AAABdAAAAeQAAAEUAAABVAAAAWQAAAGoAAABaAAAAZAAAAE8AAAB8AAAARwAAAEUAAABHAAAAdQAAAHIAAABDAAAARAAAAG4AAACUAAAAVAAAAG4AAABtAAAAVgAAABRzdGNvAAAAAAAAAAEAAAAwAAAAYnVkdGEAAABabWV0YQAAAAAAAAAhaGRscgAAAAAAAAAAbWRpcmFwcGwAAAAAAAAAAAAAAAAtaWxzdAAAACWpdG9vAAAAHWRhdGEAAAABAAAAAExhdmY1Ny44My4xMDA=\" type=\"video/mp4\" />\n",
              "             </video>"
            ]
          },
          "metadata": {}
        }
      ]
    },
    {
      "cell_type": "markdown",
      "metadata": {
        "id": "2X4fdnR8ygJd"
      },
      "source": [
        "# Agent 2: Doing it without human expertise - Deep Q-Network (DQN) [Advanced]\n",
        "\n",
        "The following code was modified from: https://github.com/gsurma/cartpole/blob/master/cartpole.py\n",
        "\n",
        "We simply train a single neural network that takes in the state space as input, and outputs two values:\n",
        "\n",
        "- Q-value for Action 0\n",
        "- Q-value for Action 1\n",
        "\n",
        "The chosen action will then be whichever action gives the highest Q-value. \n",
        "\n",
        "You can treat the Q-value as the proxy for the total accumulated future reward that you can get from a state if you choose an action."
      ]
    },
    {
      "cell_type": "markdown",
      "metadata": {
        "id": "1Prq30xVygJd"
      },
      "source": [
        "# Additional Concepts (Optional)"
      ]
    },
    {
      "cell_type": "markdown",
      "metadata": {
        "id": "y1jUOrBwygJd"
      },
      "source": [
        "### Compute Q-learning Temporal Difference error:\n",
        "\n",
        "(This is equivalent to the difference between what the expected reward of what the current step predicts, compared to what the next step predicts\n",
        "\n",
        "-> Think of it as the further you go into time, the more accurate your prediction of the outcome because there is less uncertainty \n",
        "\n",
        "-> Hence if we try to match current step prediction with the next step prediction's values, we will be more and more accurate at predicting the future)\n",
        "\n",
        "\n",
        "The loss $L$ which we use to train the neural network is defined as:\n",
        "\n",
        "$$ L = { 1 \\over N} \\sum_i [ Q_{\\theta}(s,a) - Q_{reference}(s,a) ] ^2 $$\n",
        "\n",
        "with $Q_{reference}$ defined as:\n",
        "\n",
        "$$ Q_{reference}(s,a) = r(s,a) + \\gamma \\cdot max_{a'} Q_{target}(s', a') $$\n",
        "\n",
        "Where\n",
        "* $Q_{target}(s',a')$ denotes q-value of next state and next action predicted by __target_network__\n",
        "* $Q_{\\theta}(s,a)$ denotes q-value of current state and action predicted by __policy_network__\n",
        "* $s, a, r, s'$ are current state, action, reward and next state respectively\n",
        "* $\\gamma$ is a discount factor to discount future rewards\n",
        "* $N$ is the number of experiences sampled from the replay buffer\n",
        "\n",
        "### Replay Buffer \n",
        "In order to prevent high correlation between the input samples, we store our accumulated experience into a replay buffer, and then sample randomly from it to learn. \n",
        "\n",
        "A human analog is that we replay our experiences in the day in our dreams, and learn from our dreams at night."
      ]
    },
    {
      "cell_type": "markdown",
      "metadata": {
        "id": "F31GHq1AygJe"
      },
      "source": [
        "# The Code"
      ]
    },
    {
      "cell_type": "markdown",
      "metadata": {
        "id": "5uAliG1KygJe"
      },
      "source": [
        "Since we use a neural network, we import tensorflow/keras (https://keras.io/) for the neural network training.\n",
        "\n",
        "We also import random (https://docs.python.org/3/library/random.html) so that we can randomly sample our replay buffer."
      ]
    },
    {
      "cell_type": "code",
      "metadata": {
        "id": "K12LTd4QygJe"
      },
      "source": [
        "from tensorflow.keras.models import Sequential\n",
        "from tensorflow.keras.layers import Dense, Input, BatchNormalization\n",
        "from tensorflow.keras.optimizers import Adam, SGD\n",
        "import tensorflow as tf\n",
        "\n",
        "import random"
      ],
      "execution_count": 15,
      "outputs": []
    },
    {
      "cell_type": "markdown",
      "metadata": {
        "id": "oHaCru1kygJe"
      },
      "source": [
        "We set certain hyperparameters (= not trained within the model) in order to influence the way the agent learns.\n",
        "\n",
        "When you are more familiar with deep learning/reinforcement learning, you can adjust this, but for now, this has been tuned and you should just use this."
      ]
    },
    {
      "cell_type": "code",
      "metadata": {
        "id": "bAH46tneygJe"
      },
      "source": [
        "## HYPERPARAMETERS\n",
        "# These can be modified for you to understand the importance of these values\n",
        "GAMMA = 0.95 # Discounted value of future rewards: Between 0 and 1\n",
        "LEARNING_RATE = 0.01 # How fast you want the neural network to learn: Between 0 and 1\n",
        "MEMORY_SIZE = 1000 # Number of memories the replay buffer can store: Positive Integer\n",
        "BATCH_SIZE = 32 # Number of samples to learn from replay buffer: Positive Integer, lower than MEMORY_SIZE\n",
        "EPSILON = 0.95 # Decay factor for exploration: Between 0 and 1\n",
        "MODEL_UPDATE = 2 # how many runs to update the model\n",
        "MEMORY_PER_RUN = 1 # number of memory updates required per run"
      ],
      "execution_count": 16,
      "outputs": []
    },
    {
      "cell_type": "markdown",
      "metadata": {
        "id": "DcbzdTRRygJf"
      },
      "source": [
        "DQNSolver is a class that uses DQN in order to solve the Cart Pole problem\n",
        "\n",
        "It has:\n",
        "- an __init__ function, which initializes the solver\n",
        "- a remember function, in order to store memory into the replay buffer\n",
        "- an act function, which selects an action randomly a fraction **exploration_rate** of the time, and otherwise selects the best action (greedy selection)\n",
        "- an experience_replay function, which samples memories to learn from the replay buffer"
      ]
    },
    {
      "cell_type": "code",
      "source": [
        "def rewardshape(done, step, reward):\n",
        "  ''' Modifies the reward to make it easier to learn '''\n",
        "  if done and step!=200:\n",
        "    return 0\n",
        "  else:\n",
        "    return 1/200"
      ],
      "metadata": {
        "id": "pNVrYjYWekLn"
      },
      "execution_count": 17,
      "outputs": []
    },
    {
      "cell_type": "code",
      "metadata": {
        "id": "pp9BZ4tmygJf"
      },
      "source": [
        "class DQNSolver:\n",
        "    def __init__(self, observation_space, action_space):\n",
        "        self.memory = []\n",
        "        self.exploration_rate = 1\n",
        "        self.observation_space = observation_space\n",
        "        self.action_space = action_space\n",
        "        self.policynetwork = self.getmodel()\n",
        "        self.targetnetwork = self.getmodel()\n",
        "\n",
        "    def getmodel(self):\n",
        "        model = Sequential()\n",
        "        model.add(Input(shape = (self.observation_space,))) # Input layer with observation_space number of nodes to represent state space\n",
        "        model.add(BatchNormalization()) # make the input normalized for better backprop training\n",
        "        model.add(Dense(128, activation=\"relu\")) # Hidden layer for better representation ability\n",
        "        # model.add(BatchNormalization()) # make the hidden output normalized for better backprop training\n",
        "        model.add(Dense(self.action_space, activation=\"sigmoid\"))  # Output layer: Must have self.action_space number of nodes\n",
        "        model.compile(loss=\"mse\", optimizer=SGD(lr=LEARNING_RATE))\n",
        "        return model\n",
        "\n",
        "    def updateweights(self):\n",
        "        self.policynetwork.save_weights('my_model_weights.h5')\n",
        "        self.targetnetwork.load_weights('my_model_weights.h5')\n",
        "\n",
        "    def remember(self, state, action, reward, next_state, done):\n",
        "        # add a memory to the replay buffer\n",
        "        self.memory.append((state, action, reward, next_state, done))\n",
        "        # only keep the most recent MEMORY_SIZE number of memories\n",
        "        self.memory =  self.memory[-MEMORY_SIZE:]\n",
        "\n",
        "    def act(self, state, greedy = False):\n",
        "        # Only explore if less than exploration rate\n",
        "        if np.random.rand() < self.exploration_rate and not greedy:\n",
        "            return env.action_space.sample()\n",
        "        # Otherwise, choose the best action\n",
        "        q_values = self.policynetwork.predict(state)\n",
        "        return np.argmax(q_values[0])\n",
        "\n",
        "    def experience_replay(self):\n",
        "        # only start sampling the replay buffer when there is enough memory\n",
        "        if len(self.memory) < BATCH_SIZE:\n",
        "            return\n",
        "  \n",
        "        # sample BATCH_SIZE amount of memory from the memory buffer\n",
        "        batch = random.sample(self.memory, BATCH_SIZE)\n",
        "\n",
        "        state_list = []\n",
        "        q_values_list = []\n",
        "        for state, action, reward, state_next, done in batch:\n",
        "            # if terminal step, then take the terminal reward\n",
        "            if done:\n",
        "                q_update = reward\n",
        "            # if not terminal step, then take this step's reward plus future accumulated rewards\n",
        "            else:\n",
        "                q_update = (reward + GAMMA * np.amax(self.targetnetwork.predict(state_next)[0]))\n",
        "                \n",
        "            # use the neural network to predict the q_values for the current state\n",
        "            q_values = self.policynetwork.predict(state)\n",
        "            # update the q_value of the action taken with the future predicted value q_update\n",
        "            q_values[0][action] = q_update\n",
        "            # append the state and q_values\n",
        "            state_list.append(state[0])\n",
        "            q_values_list.append(q_values[0])\n",
        "        \n",
        "        # once compiled, fit the state and q_values\n",
        "        self.policynetwork.fit(tf.convert_to_tensor(state_list), tf.convert_to_tensor(q_values_list), verbose=0)\n",
        "            \n",
        "        # Explore less next run by decaying exploration rate\n",
        "        self.exploration_rate *= EPSILON"
      ],
      "execution_count": 18,
      "outputs": []
    },
    {
      "cell_type": "markdown",
      "metadata": {
        "id": "RheyGQ8fygJf"
      },
      "source": [
        "Now we run the environment and let the DQN algorithm learn:\n",
        "\n",
        "If the agent does not perform well, run the code again.\n",
        "\n",
        "This is because the rate of learning in DQN is highly dependent on the starting configuration, so a good starting state will enable it to learn much better."
      ]
    },
    {
      "cell_type": "code",
      "metadata": {
        "colab": {
          "base_uri": "https://localhost:8080/"
        },
        "id": "mTfxdgxgygJf",
        "outputId": "7c796992-eab1-432d-f1a5-5300b3796f2d"
      },
      "source": [
        "env = gym.make('CartPole-v0')\n",
        "observation_space = env.observation_space.shape[0]\n",
        "action_space = env.action_space.n\n",
        "dqn_solver = DQNSolver(observation_space, action_space)\n",
        "for run in range(50):\n",
        "    # give some time for buffer to fill up\n",
        "    if len(dqn_solver.memory) > BATCH_SIZE and run >= 10:\n",
        "        dqn_solver.experience_replay()\n",
        "    newmemory = 0\n",
        "    while newmemory < MEMORY_PER_RUN:\n",
        "        state = env.reset()\n",
        "        state = np.reshape(state, [1, observation_space])\n",
        "        for step in range(200):\n",
        "            action = dqn_solver.act(state)\n",
        "            state_next, reward, done, info = env.step(action)\n",
        "            reward = rewardshape(done, step, reward)\n",
        "            state_next = state_next.reshape([1, observation_space])\n",
        "            dqn_solver.remember(state, action, reward, state_next, done)\n",
        "            state = state_next\n",
        "            if done:\n",
        "                print (\"Run: \" + str(run+1) + \", exploration_rate: \" + str(dqn_solver.exploration_rate) + \", score: \" + str(step))\n",
        "                newmemory += step\n",
        "                break\n",
        "          \n",
        "    # update target network after every MODEL_UPDATE runs\n",
        "    if run % MODEL_UPDATE == 0:\n",
        "        dqn_solver.updateweights()"
      ],
      "execution_count": 19,
      "outputs": [
        {
          "output_type": "stream",
          "name": "stderr",
          "text": [
            "/usr/local/lib/python3.7/dist-packages/keras/optimizer_v2/gradient_descent.py:102: UserWarning: The `lr` argument is deprecated, use `learning_rate` instead.\n",
            "  super(SGD, self).__init__(name, **kwargs)\n"
          ]
        },
        {
          "output_type": "stream",
          "name": "stdout",
          "text": [
            "Run: 1, exploration_rate: 1, score: 12\n",
            "Run: 2, exploration_rate: 1, score: 10\n",
            "Run: 3, exploration_rate: 1, score: 32\n",
            "Run: 4, exploration_rate: 1, score: 38\n",
            "Run: 5, exploration_rate: 1, score: 14\n",
            "Run: 6, exploration_rate: 1, score: 13\n",
            "Run: 7, exploration_rate: 1, score: 14\n",
            "Run: 8, exploration_rate: 1, score: 11\n",
            "Run: 9, exploration_rate: 1, score: 39\n",
            "Run: 10, exploration_rate: 1, score: 71\n",
            "Run: 11, exploration_rate: 0.95, score: 26\n",
            "Run: 12, exploration_rate: 0.9025, score: 15\n",
            "Run: 13, exploration_rate: 0.8573749999999999, score: 18\n",
            "Run: 14, exploration_rate: 0.8145062499999999, score: 15\n",
            "Run: 15, exploration_rate: 0.7737809374999999, score: 34\n",
            "Run: 16, exploration_rate: 0.7350918906249998, score: 41\n",
            "Run: 17, exploration_rate: 0.6983372960937497, score: 64\n",
            "Run: 18, exploration_rate: 0.6634204312890623, score: 77\n",
            "Run: 19, exploration_rate: 0.6302494097246091, score: 54\n",
            "Run: 20, exploration_rate: 0.5987369392383786, score: 30\n",
            "Run: 21, exploration_rate: 0.5688000922764596, score: 53\n",
            "Run: 22, exploration_rate: 0.5403600876626365, score: 38\n",
            "Run: 23, exploration_rate: 0.5133420832795047, score: 45\n",
            "Run: 24, exploration_rate: 0.48767497911552943, score: 127\n",
            "Run: 25, exploration_rate: 0.46329123015975293, score: 94\n",
            "Run: 26, exploration_rate: 0.44012666865176525, score: 160\n",
            "Run: 27, exploration_rate: 0.41812033521917696, score: 138\n",
            "Run: 28, exploration_rate: 0.3972143184582181, score: 49\n",
            "Run: 29, exploration_rate: 0.37735360253530714, score: 45\n",
            "Run: 30, exploration_rate: 0.35848592240854177, score: 36\n",
            "Run: 31, exploration_rate: 0.34056162628811465, score: 182\n",
            "Run: 32, exploration_rate: 0.3235335449737089, score: 84\n",
            "Run: 33, exploration_rate: 0.30735686772502346, score: 45\n",
            "Run: 34, exploration_rate: 0.2919890243387723, score: 34\n",
            "Run: 35, exploration_rate: 0.27738957312183365, score: 109\n",
            "Run: 36, exploration_rate: 0.263520094465742, score: 94\n",
            "Run: 37, exploration_rate: 0.25034408974245487, score: 63\n",
            "Run: 38, exploration_rate: 0.2378268852553321, score: 55\n",
            "Run: 39, exploration_rate: 0.2259355409925655, score: 46\n",
            "Run: 40, exploration_rate: 0.2146387639429372, score: 43\n",
            "Run: 41, exploration_rate: 0.20390682574579033, score: 101\n",
            "Run: 42, exploration_rate: 0.1937114844585008, score: 60\n",
            "Run: 43, exploration_rate: 0.18402591023557577, score: 174\n",
            "Run: 44, exploration_rate: 0.17482461472379698, score: 62\n",
            "Run: 45, exploration_rate: 0.16608338398760714, score: 67\n",
            "Run: 46, exploration_rate: 0.15777921478822676, score: 71\n",
            "Run: 47, exploration_rate: 0.14989025404881542, score: 148\n",
            "Run: 48, exploration_rate: 0.14239574134637464, score: 53\n",
            "Run: 49, exploration_rate: 0.1352759542790559, score: 57\n",
            "Run: 50, exploration_rate: 0.1285121565651031, score: 156\n"
          ]
        }
      ]
    },
    {
      "cell_type": "markdown",
      "metadata": {
        "id": "7Ypv40rRygJg"
      },
      "source": [
        "# Visualize your DQN agent"
      ]
    },
    {
      "cell_type": "code",
      "source": [
        "dqn_solver.policynetwork.predict([[-0.1, -0.1, -0.1, -0.1]])"
      ],
      "metadata": {
        "colab": {
          "base_uri": "https://localhost:8080/"
        },
        "id": "9WimdmurYaVb",
        "outputId": "6dcd565e-cc2f-4e74-8a4b-a63e437681e3"
      },
      "execution_count": 20,
      "outputs": [
        {
          "output_type": "execute_result",
          "data": {
            "text/plain": [
              "array([[0.5024356, 0.4979674]], dtype=float32)"
            ]
          },
          "metadata": {},
          "execution_count": 20
        }
      ]
    },
    {
      "cell_type": "code",
      "source": [
        "dqn_solver.policynetwork.predict([[0.1, 0.1, 0.1, 0.1]])"
      ],
      "metadata": {
        "colab": {
          "base_uri": "https://localhost:8080/"
        },
        "id": "mM6QAVJYccJ_",
        "outputId": "ccda8c44-d855-433e-87e4-a152a914c1ef"
      },
      "execution_count": 21,
      "outputs": [
        {
          "output_type": "execute_result",
          "data": {
            "text/plain": [
              "array([[0.4865983, 0.5126854]], dtype=float32)"
            ]
          },
          "metadata": {},
          "execution_count": 21
        }
      ]
    },
    {
      "cell_type": "code",
      "source": [
        "dqn_solver.policynetwork.predict(state)"
      ],
      "metadata": {
        "colab": {
          "base_uri": "https://localhost:8080/"
        },
        "id": "lLvltkbrcaIj",
        "outputId": "2b6387e4-26bd-4d9b-f71e-cc61f03f7a66"
      },
      "execution_count": 22,
      "outputs": [
        {
          "output_type": "execute_result",
          "data": {
            "text/plain": [
              "array([[0.488394  , 0.49053654]], dtype=float32)"
            ]
          },
          "metadata": {},
          "execution_count": 22
        }
      ]
    },
    {
      "cell_type": "code",
      "metadata": {
        "id": "21EB_anZygJg"
      },
      "source": [
        "def dqn_agent(state):\n",
        "  return dqn_solver.act(state.reshape([1, observation_space]), greedy = True)"
      ],
      "execution_count": 23,
      "outputs": []
    },
    {
      "cell_type": "code",
      "metadata": {
        "id": "B674CVbxVNn-"
      },
      "source": [
        "visualize(dqn_agent)"
      ],
      "execution_count": null,
      "outputs": []
    },
    {
      "cell_type": "markdown",
      "metadata": {
        "id": "bP9eqba4ygJh"
      },
      "source": [
        "# Concluding Remarks"
      ]
    },
    {
      "cell_type": "markdown",
      "metadata": {
        "id": "XwrR0BLfygJh"
      },
      "source": [
        "One good thing about using neural networks is that you can easily train an agent with very complex / high-dimensional state spaces as inputs.\n",
        "However, you lose out on the interpretability of the model.\n",
        "Compare your DQN agent to that of the heuristic-based agent earlier using the following guiding questions:\n",
        "- Which is easier to understand by humans?\n",
        "- Which requires more human input?\n",
        "- Which requires longer code?\n",
        "- If someone were to ask you how your AI system works, which kind of model would you feel more confident explaining?"
      ]
    },
    {
      "cell_type": "code",
      "source": [
        ""
      ],
      "metadata": {
        "id": "ozARAnMdatAA"
      },
      "execution_count": 24,
      "outputs": []
    }
  ]
}