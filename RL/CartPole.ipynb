{
  "nbformat": 4,
  "nbformat_minor": 0,
  "metadata": {
    "kernelspec": {
      "display_name": "Python 3",
      "language": "python",
      "name": "python3"
    },
    "language_info": {
      "codemirror_mode": {
        "name": "ipython",
        "version": 3
      },
      "file_extension": ".py",
      "mimetype": "text/x-python",
      "name": "python",
      "nbconvert_exporter": "python",
      "pygments_lexer": "ipython3",
      "version": "3.7.6"
    },
    "colab": {
      "name": "CartPole.ipynb",
      "provenance": [],
      "collapsed_sections": []
    },
    "gpuClass": "standard"
  },
  "cells": [
    {
      "cell_type": "markdown",
      "metadata": {
        "id": "9DRkH9PbygJO"
      },
      "source": [
        "## The Cart Pole"
      ]
    },
    {
      "cell_type": "markdown",
      "metadata": {
        "id": "mkJv5bqsV9qK"
      },
      "source": [
        "\n",
        "This problem requires balancing a pole up on a cart for as long as possible.\n",
        "\n",
        "### State: \n",
        "\n",
        "(0) Cart Position (-2.4 to 2.4)\n",
        "\n",
        "(1) Cart Velocity (-infinity to infinity)\n",
        "\n",
        "(2) Pole Angle (-41.8 to 41.8)\n",
        "\n",
        "(3) Pole Velocity at Tip (-infinity to infinity)\n",
        "\n",
        "### Actions: \n",
        "\n",
        "Left or Right (Force of -1 or +1 to the cart)\n",
        "\n",
        "### Reward: \n",
        "\n",
        "For each second the pole is upright, reward + 1\n",
        "\n",
        "Max reward: 500 (+1 for a total of 500 time steps)\n",
        "\n",
        "### Starting State:\n",
        "\n",
        "All state variables assigned a uniform random value, magnitude less than 0.05\n",
        "\n",
        "### Termination:\n",
        "\n",
        "The episode ends when:\n",
        "\n",
        "(1) The pole is more than 12 degrees from vertical\n",
        "\n",
        "(2) The cart moves more than 2.4 units from the center\n",
        "\n",
        "(3) Episode length greater than 500"
      ]
    },
    {
      "cell_type": "markdown",
      "metadata": {
        "id": "qY4xctIIBxaG"
      },
      "source": [
        "# Install Pre-requisites/Dependencies\n",
        "\n",
        "The following dependencies are required to get the gym environment working and also to display the gym environment as a video"
      ]
    },
    {
      "cell_type": "code",
      "metadata": {
        "id": "88geA5rdAA_k"
      },
      "source": [
        "#remove \" > /dev/null 2>&1\" to see what is going on under the hood\n",
        "!pip install gym pyvirtualdisplay > /dev/null 2>&1\n",
        "!apt-get install -y xvfb python-opengl ffmpeg > /dev/null 2>&1"
      ],
      "execution_count": 1,
      "outputs": []
    },
    {
      "cell_type": "code",
      "metadata": {
        "id": "PJNU9nV5AlPv",
        "colab": {
          "base_uri": "https://localhost:8080/",
          "height": 357
        },
        "outputId": "0b4f6c47-0086-4aa9-95eb-7a50d0190e51"
      },
      "source": [
        "!apt-get update > /dev/null 2>&1\n",
        "!apt-get install cmake > /dev/null 2>&1\n",
        "!pip install --upgrade setuptools 2>&1\n",
        "!pip install ez_setup > /dev/null 2>&1\n",
        "!pip install gym > /dev/null 2>&1"
      ],
      "execution_count": 2,
      "outputs": [
        {
          "output_type": "stream",
          "name": "stdout",
          "text": [
            "Looking in indexes: https://pypi.org/simple, https://us-python.pkg.dev/colab-wheels/public/simple/\n",
            "Requirement already satisfied: setuptools in /usr/local/lib/python3.7/dist-packages (63.0.0)\n",
            "Collecting setuptools\n",
            "  Downloading setuptools-63.1.0-py3-none-any.whl (1.2 MB)\n",
            "\u001b[K     |████████████████████████████████| 1.2 MB 4.2 MB/s \n",
            "\u001b[?25hInstalling collected packages: setuptools\n",
            "  Attempting uninstall: setuptools\n",
            "    Found existing installation: setuptools 63.0.0\n",
            "    Uninstalling setuptools-63.0.0:\n",
            "      Successfully uninstalled setuptools-63.0.0\n",
            "\u001b[31mERROR: pip's dependency resolver does not currently take into account all the packages that are installed. This behaviour is the source of the following dependency conflicts.\n",
            "datascience 0.10.6 requires folium==0.2.1, but you have folium 0.8.3 which is incompatible.\u001b[0m\n",
            "Successfully installed setuptools-63.1.0\n"
          ]
        },
        {
          "output_type": "display_data",
          "data": {
            "application/vnd.colab-display-data+json": {
              "pip_warning": {
                "packages": [
                  "_distutils_hack",
                  "pkg_resources",
                  "setuptools"
                ]
              }
            }
          },
          "metadata": {}
        }
      ]
    },
    {
      "cell_type": "markdown",
      "metadata": {
        "id": "59z1uNHhBSyb"
      },
      "source": [
        "# Configure Colab to display video of our agent!\n",
        "\n",
        "The code below simply configures Colab to display a video of the environment for us to visualize."
      ]
    },
    {
      "cell_type": "code",
      "metadata": {
        "id": "GSnZsMBt_vkJ",
        "colab": {
          "base_uri": "https://localhost:8080/"
        },
        "outputId": "442e6bfa-191a-4387-b0ab-a3777f01cbda"
      },
      "source": [
        "import gym\n",
        "from gym import logger as gymlogger\n",
        "from gym.wrappers import Monitor\n",
        "import matplotlib.pyplot as plt\n",
        "%matplotlib inline\n",
        "import glob\n",
        "import io\n",
        "import base64\n",
        "import numpy as np\n",
        "from IPython.display import HTML\n",
        "from IPython import display as ipythondisplay\n",
        "\n",
        "from pyvirtualdisplay import Display\n",
        "display = Display(visible=0, size=(1400, 900))\n",
        "display.start()"
      ],
      "execution_count": 3,
      "outputs": [
        {
          "output_type": "execute_result",
          "data": {
            "text/plain": [
              "<pyvirtualdisplay.display.Display at 0x7f9326d17110>"
            ]
          },
          "metadata": {},
          "execution_count": 3
        }
      ]
    },
    {
      "cell_type": "code",
      "metadata": {
        "id": "_GOz9bH_-9zY"
      },
      "source": [
        "\"\"\"\n",
        "Utility functions to enable video recording of gym environment and displaying it\n",
        "To enable video, just do \"env = wrap_env(env)\"\"\n",
        "\"\"\"\n",
        "def show_video():\n",
        "  mp4list = glob.glob('video/*.mp4')\n",
        "  if len(mp4list) > 0:\n",
        "    mp4 = mp4list[0]\n",
        "    video = io.open(mp4, 'r+b').read()\n",
        "    encoded = base64.b64encode(video)\n",
        "    ipythondisplay.display(HTML(data='''<video alt=\"test\" autoplay \n",
        "                loop controls style=\"height: 400px;\">\n",
        "                <source src=\"data:video/mp4;base64,{0}\" type=\"video/mp4\" />\n",
        "             </video>'''.format(encoded.decode('ascii'))))\n",
        "  else: \n",
        "    print(\"Could not find video\")\n",
        "def wrap_env(env):\n",
        "  env = Monitor(env, './video', force=True)\n",
        "  return env"
      ],
      "execution_count": 4,
      "outputs": []
    },
    {
      "cell_type": "markdown",
      "metadata": {
        "id": "xCMc6oW2ygJT"
      },
      "source": [
        "# Environment Visualization"
      ]
    },
    {
      "cell_type": "markdown",
      "metadata": {
        "id": "EEJoYAdBygJU"
      },
      "source": [
        "Gym is a very useful package by OpenAI (https://gym.openai.com/) that comes built in with many environments to train our agents on.\n",
        "\n",
        "Here, we will use the CartPole environment using:\n",
        "\n",
        "*env = gym.make('CartPole-v0')*\n",
        "\n",
        "We reset the environment to its initial state using:\n",
        "\n",
        "*env.reset()*\n",
        "\n",
        "We visualize the environment using:\n",
        "\n",
        "*env.render()*\n",
        "\n",
        "We take an action in the environment using:\n",
        "\n",
        "*env.step(action)*\n",
        "\n",
        "We create a function \"visualize\" that lets us visualize the actions of an agent using decision_function to choose the actions."
      ]
    },
    {
      "cell_type": "code",
      "metadata": {
        "id": "OPmdfB7tygJU"
      },
      "source": [
        " env_name = 'CartPole-v1'\n",
        " env = wrap_env(gym.make(env_name))\n",
        " \n",
        " def visualize(decision_function):\n",
        "  env = wrap_env(gym.make(env_name))\n",
        "  state = env.reset()\n",
        "  totalreward = 0\n",
        "  for t in range(500):\n",
        "      env.render()\n",
        "      action = decision_function(state)\n",
        "      state, reward, done, _ = env.step(action)\n",
        "      totalreward += reward\n",
        "      if done:\n",
        "          break\n",
        "  print(\"Episode finished after {} timesteps with reward {}\".format(t+1, totalreward))\n",
        "  env.close()\n",
        "  show_video()"
      ],
      "execution_count": 5,
      "outputs": []
    },
    {
      "cell_type": "markdown",
      "metadata": {
        "id": "HlIz6-jJUiyK"
      },
      "source": [
        "We visualize the actions of a random agent:"
      ]
    },
    {
      "cell_type": "code",
      "metadata": {
        "id": "GPdQ1ZUzUHKu"
      },
      "source": [
        "def random_action(state):\n",
        "  return env.action_space.sample()"
      ],
      "execution_count": 6,
      "outputs": []
    },
    {
      "cell_type": "code",
      "metadata": {
        "id": "hwyWAi-4VWVy",
        "colab": {
          "base_uri": "https://localhost:8080/",
          "height": 439
        },
        "outputId": "e5af88bf-215b-499f-9127-9c11562a1e50"
      },
      "source": [
        "visualize(random_action)"
      ],
      "execution_count": 7,
      "outputs": [
        {
          "output_type": "stream",
          "name": "stdout",
          "text": [
            "Episode finished after 46 timesteps with reward 46.0\n"
          ]
        },
        {
          "output_type": "display_data",
          "data": {
            "text/plain": [
              "<IPython.core.display.HTML object>"
            ],
            "text/html": [
              "<video alt=\"test\" autoplay \n",
              "                loop controls style=\"height: 400px;\">\n",
              "                <source src=\"data:video/mp4;base64,AAAAIGZ0eXBpc29tAAACAGlzb21pc28yYXZjMW1wNDEAAAAIZnJlZQAAEuBtZGF0AAACrgYF//+q3EXpvebZSLeWLNgg2SPu73gyNjQgLSBjb3JlIDE1MiByMjg1NCBlOWE1OTAzIC0gSC4yNjQvTVBFRy00IEFWQyBjb2RlYyAtIENvcHlsZWZ0IDIwMDMtMjAxNyAtIGh0dHA6Ly93d3cudmlkZW9sYW4ub3JnL3gyNjQuaHRtbCAtIG9wdGlvbnM6IGNhYmFjPTEgcmVmPTMgZGVibG9jaz0xOjA6MCBhbmFseXNlPTB4MzoweDExMyBtZT1oZXggc3VibWU9NyBwc3k9MSBwc3lfcmQ9MS4wMDowLjAwIG1peGVkX3JlZj0xIG1lX3JhbmdlPTE2IGNocm9tYV9tZT0xIHRyZWxsaXM9MSA4eDhkY3Q9MSBjcW09MCBkZWFkem9uZT0yMSwxMSBmYXN0X3Bza2lwPTEgY2hyb21hX3FwX29mZnNldD0tMiB0aHJlYWRzPTMgbG9va2FoZWFkX3RocmVhZHM9MSBzbGljZWRfdGhyZWFkcz0wIG5yPTAgZGVjaW1hdGU9MSBpbnRlcmxhY2VkPTAgYmx1cmF5X2NvbXBhdD0wIGNvbnN0cmFpbmVkX2ludHJhPTAgYmZyYW1lcz0zIGJfcHlyYW1pZD0yIGJfYWRhcHQ9MSBiX2JpYXM9MCBkaXJlY3Q9MSB3ZWlnaHRiPTEgb3Blbl9nb3A9MCB3ZWlnaHRwPTIga2V5aW50PTI1MCBrZXlpbnRfbWluPTI1IHNjZW5lY3V0PTQwIGludHJhX3JlZnJlc2g9MCByY19sb29rYWhlYWQ9NDAgcmM9Y3JmIG1idHJlZT0xIGNyZj0yMy4wIHFjb21wPTAuNjAgcXBtaW49MCBxcG1heD02OSBxcHN0ZXA9NCBpcF9yYXRpbz0xLjQwIGFxPTE6MS4wMACAAAACBmWIhAAv//72rvzLK0cLlS4dWXuzUfLoSXL9iDB9aAAAAwAAAwAAJuKiZ0WFMeJsgAAALmAIWElDyDzETFWKgSvGXwTjAgAT4n+EDpWCnDJmr0bJYYPKCGhGYeLQLOBw4uzTjrGq8diky8+6DvdB5dugd0K02aYwOti33SeYG0vsIzDmmg1ckeA2AA6U2YcnpCBHFgHkkhmAqMPswBsB+sccNMSfNzxvShR7clga3+6AAQw6upT9DCAH65WhnoFcPq3qkqA+HqgARrdc7a8JADEGVPtF5k3csZdq7V2dvFW1mxngh254AJLV9GFPcsoLcBkN7OwmvhXnqteK8Ks2jPQCVmAAFElSklgHCxsdef411ac33j/hU1IaXGif/hgnUUFI+w3qEcFlF2qcrUPdREZVlTgxgJwHKE7c2dPqIPzCLA0Abm1vmfDSATqPD80rI4xDRo0xJmIABd0PX9TariD0kOeELAyM15YI4WmCPkfMpcTRzys41g4AdJyfbLsn+66eIasGO6659dFe6/5M2X+/GM18V3id7kEpQTedsyAAMFTu4JWvEp46LS43NgU1wA1NTzTEjj8id1lR+1nApiAAA1z5n/wSBuEsLQBe3pAsEY8CbSSDR1n3F8aPsLORVVvl4ExZw71JmIwHLLoKGaQ2Rz7KIUXWO+3pICAAAAMAAAMAANmBAAAAs0GaImxC//6MsAAARkAEogAvsj/jyvg5IePr5CzcYufm7wT2+lIukGJA0sUlZnAZuA5dbbeDgeK4JHi2VndiXhczQtVToGnQi+kCve79RNH0DuCgTGEvj6u0MyJaPfaYDvPG8wUkqdVyyUAnaBaXvWuKGWktcJXMHmFO9q+JNMNbjG1jKke6mIZ2ZBBsE0wpcO1kOX6EX4YvArNFUKw3T50dw4tAAAADAABh1t2qVk/GHZybAAAALgGeQXkf/wAAI8M8Hw2WpnTYhKOK+zF+Ju1z6626ifkCtEdPAAADAAANDjLAu4EAAACSQZpGPCGTKYQv//6MsAAARhN1GYAmxZC6L7C0EuseSIsv2RS3mixZ0gjnfRyAqQikBs0dPC0RloCqsYDFWi7pUZMViNlpCkkdwpv8xA9QiHsqtWey4PHWnUObvY1xpTBi0Xni9llFpU//T5DoWCn8dVCtvD0VE+J8Mezwu3MEXpQIKQvKlQP2Q5fEle6KcYrTA2AAAAArQZ5kalPCPwAAFm5PLqqPplobfup8UQQ3cbZOzDCqYdAecaYQNYpvowX/wQAAACYBnoN0R/8AACPDQlgcGbSIVM1T6f1UdYjFDFhTDJtMZib29xFFwQAAAB0BnoVqR/8AACOxzCv5FtsqtBt859J5iRpMgExvPwAAADtBmolJqEFomUwIX//+jLAAAEYplFOyaawMEhD9+PO8PxPo/P/rCQ9cBCAmF2ha57zrumZjaCCnRR6YMwAAACBBnqdFESwj/wAAAwAsWIebbi97aK7J0B0NG3euKE1Z8AAAACEBnshqR/8AACPHxxs4r8jH4XAIaUeQaY5QFXVkwh5TWzAAAABkQZrNSahBbJlMCF///oywAAAKBXs3tgBB/ClMM+qxkb6NGBI9t2yLPvQ6qYvBCBMI2elZ2KVInaXc2WANMo61DYX4s+m7Z+sI/7en7rQYXl6OFJBF13zxedlDqkkDhb8E+82dBQAAAEVBnutFFSwj/wAAAwM5MHmtI7gA/DwCMOEhpA3DRWe7ZmluUO9VAWMG+QlWV7TMhv5Agzjvio65yyNbH2U1CxyT1NY63+AAAAAyAZ8KdEf/AAADAebJJQAXUAfEa4c2xqBApRXJ9ZswvhWbZzwas06ZxE9+J687fc+mzUgAAAAiAZ8Makf/AAAFH6jL08YR+3+FjeIaoRArJHNakCkNOE6jAwAAAE9Bmw5JqEFsmUwIX//+jLAAABnr2TABLkVHlE+lDN5wX7XJRD/7LVRj2YEGNl3+X8zQPXN+/gdVFUOTvllJdCiqakkNB37OEY6OHg2ruxJhAAAAOkGbMEnhClJlMFFSwz/+nhAAAEVlQSLrLkX4xvU/48DNTbmFeG7h0668es7zd2ABAejVXNW2AXKK+1EAAABBAZ9Pakf/AAAjvwQnYQhdBlmpXTSI3LQOWTs//3ul2MvAN4agckAwAH86FPim9GzFNcG2XYOMo7nGzQsN5LcMCYEAAABrQZtUSeEOiZTAhn/+nhAAAEV9DVYdVpQA47hV2PcctDEOTWQOXzPnxJfAk1JDVt41yMkVuw/ggbob9X8k3upHbOiRkf6VSjJRHUKrv8ERtHaPjifdQ7A0st1n0aJ+53Nr9P/72eIYXwCD8CAAAAAmQZ9yRRU8I/8AABanzQcis3/LWMuyZSGRT96QQbeb+sAnrZd32YEAAAAdAZ+RdEf/AAAjwxd1aHRvOXMC1NE2XX/91r76LFQAAAAcAZ+Takf/AAAjvwQn7onKVCFwM5NDNlWwW0iD/AAAAINBm5hJqEFomUwIZ//+nhAAAEWWfgcABGBvBZ6M5jSAVapGZNkjZ//dbo00svPK6lVX/B0KRJr9gGP9yTQtiCCzajJQ4IgITbdBLAu7bOxmG18hJKRAe61QQCoo5wAnhVfx191WssJP5IkmKClzpjBEB7mBDt17SCLe0qXopc59NPdDBwAAAGNBn7ZFESwj/wAAFrTMwkt65IOQyXQKwVUoV6oaf+I80Ooy3MTy3Hjuxy4jMVeYgz0e+PZLDH+r6kDhYjWZvtE9G/KfFAhp5+sKFvBvkNNeoTd1D/OHKj5OKM+cNhzuETmt7ZgAAAA4AZ/VdEf/AAAjwz4N8kgABdRBb9PDKf7lmrI5E0GmsGVpAa2T3uo8NgIEmAS7hKpsAA5ZSRdcp58AAAAlAZ/Xakf/AAANgm4mZ9zALnRQZjBMTdCQFUbHqHxl+VRn0/jT4QAAAJJBm9xJqEFsmUwIZ//+nhAAAEWDSJJP9wARgaxl0utyuYTTkTypRRInvW7HzX03NGGe3SYVvHtAORwC1x92hxAiW9SZcllvBiFbrPcGNvqgwLSZx7LmuzYK/IMLwl7KrBEe//0v0BSB7u7TuCEclAdL3x/kymH5T2lBO84e+2xj9b4uVZFm4jGGkFbFK1wBAmCtoAAAAD5Bn/pFFSwj/wAAFp3s2vznaBbyBWlHTcFLl0AVwYnS86MtujsZWqn8vWTFxsc7P0xxUD99hhxrlv1tOtLwYQAAADIBnhl0R/8AACM70EA433UN8hZjMklgAWCGf7JG10PNgpBh1OJvRPxLlCq5+fm3R5uZJgAAAC4BnhtqR/8AACOZrvnJUVZzxm2GwAXDCHvwOXW1DYZAxragYtKMPVCU5+ATphkBAAAAU0GaAEmoQWyZTAhf//6MsAAARfsEsAN0hHGBvM3CezFHSqHVM0PzHAV8nu71l9w8V8rZ2NXyoDIPN+1eYSlKb6Z7D61ez4csfWEJT0GILpkiI1bBAAAAM0GePkUVLCP/AAAWvEcV/wWHmQFJQAmq7tq8sywXgFo0gqZUeWswdiIh/spkjmiOpaF2YAAAADMBnl10R/8AACKsPn47V90OABdOb397PHCxZJ2z8oI3//DPwlOxWBk/N7TobCx6SzWqz4AAAAAhAZ5fakf/AAAjnhSXG8JolftIHUkHnvQcdOamN+d5ONdnAAAAoEGaREmoQWyZTAhf//6MsAAARhDxQjACMSa1fxq8TUiis7lmJDbBvwbqoled3IfyVJ8yh74m5Bsv/QTWoWudd3E5xAWz6BS83Z4F95gaL19sz6Q2Y5Djrqs+5jZK48xpNpxWwjxxTRswXaR+SiVPRA2H72RWlvLWHIARCaNLNnAszmr8T8Wl8d0kP8NBlGc7jeCT2dWegZuKa/igbJokCnAAAABHQZ5iRRUsI/8AABZsE27FgB7yJp+duyZ9Ec99Ozo8C4v8omijEvlajWR35gAEyOV6bnv7GGm0c30CrhVsDuKDPB0gNtL9yoEAAABCAZ6BdEf/AAAjmLYvpnbG0yy/VJ396jORTG27EY1nKTCTOPfllW2QAmlzVWN1XnuKmyHf7/wXKTgh7sc3MQ14zUPSAAAAPgGeg2pH/wAAI5IsvcjOeXkpe1CyU8Fvm5eN9uQJUmv56Da84VmqDeOQAe9aGqn08RQQYckHRWl38mJiUjUhAAAAt0GaiEmoQWyZTAhf//6MsAAARhRLD8buAIjsPPTtrbJc1tY8QZ29nAD8QAG/fA+Syg726jHijBLOVN/elrD1C6fRS7VzAb+1hTw7CZdJdoVDPgGXKjpqDSNr07J4HcFz34DpjnauuxqfvtEZKGoV+RK7SUFJFG/DzOTmKGIoFZh7NrC0tegY24EqEcP43x7uGyHJZWim49i6zrFlwXfK3i9uo5TkDmqtbeyDitfrEjCsMBuXnPm6gQAAAFtBnqZFFSwj/wAAFrth7IApPCrCbA0gx7Vea1dNF2xExA0YtbFRvK0lze7i88uCkl9F8kGinNg05qaABM7KVmXReszHn+TEql5O7NTvpqnFsQ9AkXHkciU2+XJfAAAASQGexXRH/wAAIz3O0r8ndF9PohfwT3MNcwY4Lj5HgyvNOxopQJ9mNAvPABGPKf0JmXHVblqIquWWY6cvtVWvUp3ncIvbaG4GJbEAAAA+AZ7Hakf/AAAjeo1KAOUw6YF3gyrpXofJ5McOeh3mwrum4p4r0xa8eU35hANGRv3pYJEa9A+sCl+O4Ss08AgAAAB7QZrMSahBbJlMCE///fEAAAMCnviqObcn7fIOOPhAAvVTD6jPIhI5u/1RbHBMSWl8HdH2IxA5x8w6jVABt1drmD9LnEsfX+gzEo87U8x2K2x4XvLLWuYlqJvAh3oNsdB4vwtXpmFlHJ+DodZWFvXH5JOq8bB2iWFP2NvAAAAAYkGe6kUVLCP/AAAWvZfeAKwuRPBdg2IrX7VrIQBGQxpTRpJlOt/s2kE8uH6e5NzY8ofoJXgY45+6VW03KBQ35ggB63kfgaFcOPKnh/RASAHynr/7r72N3PSkE8u/WThKSNhHAAAAKQGfCXRH/wAAIqxCZMuQ6grP29kh23ydQ+FxIozeWMtJW8jFbbOwU2K2AAAAUwGfC2pH/wAAI73O61IAViX1+lDZjPQGdQLPp9wfGx9YXGULYLbbyRgdc4Au3iT142NmNLx6mVRd8bC4lpy+NC5KmQXmJsIv2FW8iSxZ8lvSZX9MAAAAcEGbDkmoQWyZTBRMf/yEAAAP2aBN7NtMQfzgii6CYFYwlVdWO43hxfG8gAXQAp/uIxCJ5ULe1qFp/cEDduimk1CH26bLWUbThd34JtatpGdx/1/Gi1lEsk4+kQZYVWZARd+gzecUtYCSrLyIq6JEjh0AAABgAZ8takf/AAAjvZYAlWRQdbXdJk3dxuz72nXu4+Sl1UYEn8BEjUPAHUsjZ1T4rnc5opvVsKxSWAxSAAfwdoFURcLgDnUIFEisODcYKa014prf3YkDKK2efpBKDdiec1ItAAAFP21vb3YAAABsbXZoZAAAAAAAAAAAAAAAAAAAA+gAAAOsAAEAAAEAAAAAAAAAAAAAAAABAAAAAAAAAAAAAAAAAAAAAQAAAAAAAAAAAAAAAAAAQAAAAAAAAAAAAAAAAAAAAAAAAAAAAAAAAAAAAAAAAAIAAARpdHJhawAAAFx0a2hkAAAAAwAAAAAAAAAAAAAAAQAAAAAAAAOsAAAAAAAAAAAAAAAAAAAAAAABAAAAAAAAAAAAAAAAAAAAAQAAAAAAAAAAAAAAAAAAQAAAAAJYAAABkAAAAAAAJGVkdHMAAAAcZWxzdAAAAAAAAAABAAADrAAAAgAAAQAAAAAD4W1kaWEAAAAgbWRoZAAAAAAAAAAAAAAAAAAAMgAAAC8AVcQAAAAAAC1oZGxyAAAAAAAAAAB2aWRlAAAAAAAAAAAAAAAAVmlkZW9IYW5kbGVyAAAAA4xtaW5mAAAAFHZtaGQAAAABAAAAAAAAAAAAAAAkZGluZgAAABxkcmVmAAAAAAAAAAEAAAAMdXJsIAAAAAEAAANMc3RibAAAAJhzdHNkAAAAAAAAAAEAAACIYXZjMQAAAAAAAAABAAAAAAAAAAAAAAAAAAAAAAJYAZAASAAAAEgAAAAAAAAAAQAAAAAAAAAAAAAAAAAAAAAAAAAAAAAAAAAAAAAAAAAAABj//wAAADJhdmNDAWQAH//hABlnZAAfrNlAmDPl4QAAAwABAAADAGQPGDGWAQAGaOvjyyLAAAAAGHN0dHMAAAAAAAAAAQAAAC8AAAEAAAAAFHN0c3MAAAAAAAAAAQAAAAEAAAGAY3R0cwAAAAAAAAAuAAAAAQAAAgAAAAABAAADAAAAAAEAAAEAAAAAAQAABQAAAAABAAACAAAAAAEAAAAAAAAAAQAAAQAAAAABAAAEAAAAAAIAAAEAAAAAAQAABQAAAAABAAACAAAAAAEAAAAAAAAAAQAAAQAAAAABAAACAAAAAAEAAAMAAAAAAQAAAQAAAAABAAAFAAAAAAEAAAIAAAAAAQAAAAAAAAABAAABAAAAAAEAAAUAAAAAAQAAAgAAAAABAAAAAAAAAAEAAAEAAAAAAQAABQAAAAABAAACAAAAAAEAAAAAAAAAAQAAAQAAAAABAAAFAAAAAAEAAAIAAAAAAQAAAAAAAAABAAABAAAAAAEAAAUAAAAAAQAAAgAAAAABAAAAAAAAAAEAAAEAAAAAAQAABQAAAAABAAACAAAAAAEAAAAAAAAAAQAAAQAAAAABAAAFAAAAAAEAAAIAAAAAAQAAAAAAAAABAAABAAAAAAEAAAMAAAAAAQAAAQAAAAAcc3RzYwAAAAAAAAABAAAAAQAAAC8AAAABAAAA0HN0c3oAAAAAAAAAAAAAAC8AAAS8AAAAtwAAADIAAACWAAAALwAAACoAAAAhAAAAPwAAACQAAAAlAAAAaAAAAEkAAAA2AAAAJgAAAFMAAAA+AAAARQAAAG8AAAAqAAAAIQAAACAAAACHAAAAZwAAADwAAAApAAAAlgAAAEIAAAA2AAAAMgAAAFcAAAA3AAAANwAAACUAAACkAAAASwAAAEYAAABCAAAAuwAAAF8AAABNAAAAQgAAAH8AAABmAAAALQAAAFcAAAB0AAAAZAAAABRzdGNvAAAAAAAAAAEAAAAwAAAAYnVkdGEAAABabWV0YQAAAAAAAAAhaGRscgAAAAAAAAAAbWRpcmFwcGwAAAAAAAAAAAAAAAAtaWxzdAAAACWpdG9vAAAAHWRhdGEAAAABAAAAAExhdmY1Ny44My4xMDA=\" type=\"video/mp4\" />\n",
              "             </video>"
            ]
          },
          "metadata": {}
        }
      ]
    },
    {
      "cell_type": "markdown",
      "metadata": {
        "id": "7QLXPbY7ygJX"
      },
      "source": [
        "# Check out the actions"
      ]
    },
    {
      "cell_type": "code",
      "metadata": {
        "id": "qeWvHpDlygJX",
        "colab": {
          "base_uri": "https://localhost:8080/"
        },
        "outputId": "9ac37508-1520-4ea6-fe35-12144f9f8f3f"
      },
      "source": [
        "print('Number of actions:', env.action_space.n)"
      ],
      "execution_count": 8,
      "outputs": [
        {
          "output_type": "stream",
          "name": "stdout",
          "text": [
            "Number of actions: 2\n"
          ]
        }
      ]
    },
    {
      "cell_type": "code",
      "metadata": {
        "id": "hEqTaowBygJY",
        "colab": {
          "base_uri": "https://localhost:8080/"
        },
        "outputId": "7485fb1d-1551-4059-f6e5-0d0d965a3583"
      },
      "source": [
        "# Run this cell many times and see what is output\n",
        "print('A random action is:', env.action_space.sample())"
      ],
      "execution_count": 9,
      "outputs": [
        {
          "output_type": "stream",
          "name": "stdout",
          "text": [
            "A random action is: 0\n"
          ]
        }
      ]
    },
    {
      "cell_type": "markdown",
      "metadata": {
        "id": "NpOXzVqhygJY"
      },
      "source": [
        "# Check out the observations"
      ]
    },
    {
      "cell_type": "code",
      "metadata": {
        "id": "oSA4r1ezygJZ",
        "colab": {
          "base_uri": "https://localhost:8080/"
        },
        "outputId": "3ce1069b-c6fb-4156-f223-cac2e2ff7414"
      },
      "source": [
        "env.reset()\n",
        "state, reward, done, info = env.step(0)\n",
        "print('State:', state)\n",
        "print('Reward:', reward)\n",
        "print('Done:', done)\n",
        "print('Info:', info)"
      ],
      "execution_count": 10,
      "outputs": [
        {
          "output_type": "stream",
          "name": "stdout",
          "text": [
            "State: [-0.00429803 -0.15320743 -0.02881669  0.2658298 ]\n",
            "Reward: 1.0\n",
            "Done: False\n",
            "Info: {}\n"
          ]
        }
      ]
    },
    {
      "cell_type": "markdown",
      "metadata": {
        "id": "zf7dIklUygJb"
      },
      "source": [
        "# Agent 1: Human-expertise guided approach (Heuristics)"
      ]
    },
    {
      "cell_type": "markdown",
      "metadata": {
        "id": "HxWNUdnlygJb"
      },
      "source": [
        "One way to solve cart pole is to just use simple heuristics (some external knowledge about what is good and bad) to determine the action.\n",
        "\n",
        "One way is to say that when the pole angle is negative (pole tilted to the left), then we move the cart to the left (action 0) so as to try to regain balance.\n",
        "\n",
        "Otherwise, we move it to the right (action 1)"
      ]
    },
    {
      "cell_type": "code",
      "metadata": {
        "id": "EOTpqMSCygJb"
      },
      "source": [
        "def select_action_good(state):\n",
        "    cart_pos, cart_vel, pole_ang, pole_vel = state\n",
        "    if pole_ang < 0:\n",
        "        return 0\n",
        "    else:\n",
        "        return 1"
      ],
      "execution_count": 11,
      "outputs": []
    },
    {
      "cell_type": "code",
      "metadata": {
        "id": "ks5CHik9ygJb",
        "colab": {
          "base_uri": "https://localhost:8080/",
          "height": 439
        },
        "outputId": "7c5b7e6f-6e06-4c80-93f7-1064a5479051"
      },
      "source": [
        "visualize(select_action_good)"
      ],
      "execution_count": 12,
      "outputs": [
        {
          "output_type": "stream",
          "name": "stdout",
          "text": [
            "Episode finished after 47 timesteps with reward 47.0\n"
          ]
        },
        {
          "output_type": "display_data",
          "data": {
            "text/plain": [
              "<IPython.core.display.HTML object>"
            ],
            "text/html": [
              "<video alt=\"test\" autoplay \n",
              "                loop controls style=\"height: 400px;\">\n",
              "                <source src=\"data:video/mp4;base64,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\" type=\"video/mp4\" />\n",
              "             </video>"
            ]
          },
          "metadata": {}
        }
      ]
    },
    {
      "cell_type": "markdown",
      "metadata": {
        "id": "lilNQX93ygJc"
      },
      "source": [
        "# Can we do better by taking into account other factors like the pole velocity?"
      ]
    },
    {
      "cell_type": "markdown",
      "metadata": {
        "id": "yo56Sx_PygJc"
      },
      "source": [
        "### Individual exercise / discussion\n",
        "\n",
        "Try to configure the code below using if else statements, and try to get the pole to consistently reach **timestep 200** if possible!\n",
        "\n",
        "Note:\n",
        "\n",
        "- Action value of 0 represents moving the cart to the left\n",
        "- Action value of 1 represents moving the cart to the right\n",
        "- Negative angles/position/velocity represent towards the left\n",
        "- Positive angles/position/velocity represent towards the right"
      ]
    },
    {
      "cell_type": "code",
      "metadata": {
        "id": "DZX403CoygJd"
      },
      "source": [
        "def select_action_better(state):\n",
        "    cart_pos, cart_vel, pole_ang, pole_vel = state\n",
        "    if pole_vel < 0:\n",
        "        return 0\n",
        "    elif pole_ang < 0:\n",
        "        return 0\n",
        "#     elif cart_pos < 0:\n",
        "#         return 0\n",
        "#     elif cart_vel < 0:\n",
        "#         return 0\n",
        "    else:\n",
        "        return 1"
      ],
      "execution_count": 13,
      "outputs": []
    },
    {
      "cell_type": "code",
      "metadata": {
        "id": "453zQz5bygJd",
        "colab": {
          "base_uri": "https://localhost:8080/",
          "height": 439
        },
        "outputId": "d4fa0620-5b73-46ff-c2f4-d7d6797cb721"
      },
      "source": [
        "visualize(select_action_better)"
      ],
      "execution_count": 14,
      "outputs": [
        {
          "output_type": "stream",
          "name": "stdout",
          "text": [
            "Episode finished after 110 timesteps with reward 110.0\n"
          ]
        },
        {
          "output_type": "display_data",
          "data": {
            "text/plain": [
              "<IPython.core.display.HTML object>"
            ],
            "text/html": [
              "<video alt=\"test\" autoplay \n",
              "                loop controls style=\"height: 400px;\">\n",
              "                <source src=\"data:video/mp4;base64,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\" type=\"video/mp4\" />\n",
              "             </video>"
            ]
          },
          "metadata": {}
        }
      ]
    },
    {
      "cell_type": "markdown",
      "metadata": {
        "id": "2X4fdnR8ygJd"
      },
      "source": [
        "# Agent 2: Doing it without human expertise - Deep Q-Network (DQN) [Advanced]\n",
        "\n",
        "We simply train a single neural network that takes in the state space as input, and outputs two values:\n",
        "\n",
        "- Q-value for Action 0\n",
        "- Q-value for Action 1\n",
        "\n",
        "The chosen action will then be whichever action gives the highest Q-value. \n",
        "\n",
        "You can treat the Q-value as the proxy for the total accumulated future reward that you can get from a state if you choose an action."
      ]
    },
    {
      "cell_type": "markdown",
      "metadata": {
        "id": "1Prq30xVygJd"
      },
      "source": [
        "# Additional Concepts (Optional)"
      ]
    },
    {
      "cell_type": "markdown",
      "metadata": {
        "id": "y1jUOrBwygJd"
      },
      "source": [
        "### Compute Q-learning Temporal Difference error:\n",
        "\n",
        "(This is equivalent to the difference between what the expected reward of what the current step predicts, compared to what the next step predicts\n",
        "\n",
        "-> Think of it as the further you go into time, the more accurate your prediction of the outcome because there is less uncertainty \n",
        "\n",
        "-> Hence if we try to match current step prediction with the next step prediction's values, we will be more and more accurate at predicting the future)\n",
        "\n",
        "\n",
        "The loss $L$ which we use to train the neural network is defined as:\n",
        "\n",
        "$$ L = { 1 \\over N} \\sum_i [ Q_{\\theta}(s,a) - Q_{reference}(s,a) ] ^2 $$\n",
        "\n",
        "with $Q_{reference}$ defined as:\n",
        "\n",
        "$$ Q_{reference}(s,a) = r(s,a) + \\gamma \\cdot max_{a'} Q_{target}(s', a') $$\n",
        "\n",
        "Where\n",
        "* $Q_{target}(s',a')$ denotes q-value of next state and next action predicted by __target_network__\n",
        "* $Q_{\\theta}(s,a)$ denotes q-value of current state and action predicted by __policy_network__\n",
        "* $s, a, r, s'$ are current state, action, reward and next state respectively\n",
        "* $\\gamma$ is a discount factor to discount future rewards\n",
        "* $N$ is the number of experiences sampled from the replay buffer\n",
        "\n",
        "### Replay Buffer \n",
        "In order to prevent high correlation between the input samples, we store our accumulated experience into a replay buffer, and then sample randomly from it to learn. \n",
        "\n",
        "A human analog is that we replay our experiences in the day in our dreams, and learn from our dreams at night."
      ]
    },
    {
      "cell_type": "markdown",
      "metadata": {
        "id": "F31GHq1AygJe"
      },
      "source": [
        "# The Code"
      ]
    },
    {
      "cell_type": "markdown",
      "metadata": {
        "id": "5uAliG1KygJe"
      },
      "source": [
        "Since we use a neural network, we import tensorflow/keras (https://keras.io/) for the neural network training.\n",
        "\n",
        "We also import random (https://docs.python.org/3/library/random.html) so that we can randomly sample our replay buffer."
      ]
    },
    {
      "cell_type": "code",
      "metadata": {
        "id": "K12LTd4QygJe"
      },
      "source": [
        "from tensorflow.keras.models import Sequential\n",
        "from tensorflow.keras.layers import Dense, Input, BatchNormalization\n",
        "from tensorflow.keras.optimizers import Adam, SGD\n",
        "import tensorflow as tf\n",
        "\n",
        "import random\n",
        "import os"
      ],
      "execution_count": 15,
      "outputs": []
    },
    {
      "cell_type": "markdown",
      "metadata": {
        "id": "oHaCru1kygJe"
      },
      "source": [
        "We set certain hyperparameters (= not trained within the model) in order to influence the way the agent learns.\n",
        "\n",
        "When you are more familiar with deep learning/reinforcement learning, you can adjust this, but for now, this has been tuned and you should just use this."
      ]
    },
    {
      "cell_type": "code",
      "metadata": {
        "id": "bAH46tneygJe"
      },
      "source": [
        "## HYPERPARAMETERS\n",
        "# These can be modified for you to understand the importance of these values\n",
        "GAMMA = 0.95 # Discounted value of future rewards: Between 0 and 1\n",
        "LEARNING_RATE = 0.01 # How fast you want the neural network to learn: Between 0 and 1. \n",
        "MEMORY_SIZE = 10000 # Number of memories the replay buffer can store: Positive Integer\n",
        "BATCH_SIZE = 64 # Number of samples to learn from replay buffer: Positive Integer, lower than MEMORY_SIZE\n",
        "EPSILON = 0.95 # Decay factor for exploration: Between 0 and 1\n",
        "MODEL_UPDATE = 2 # how many runs to update the model\n",
        "MEMORY_PER_RUN = 1 # number of memory updates required per run\n",
        "NUM_RUNS = 100 # number of runs to train the agent on"
      ],
      "execution_count": 65,
      "outputs": []
    },
    {
      "cell_type": "markdown",
      "metadata": {
        "id": "DcbzdTRRygJf"
      },
      "source": [
        "DQNSolver is a class that uses DQN in order to solve the Cart Pole problem\n",
        "\n",
        "It has:\n",
        "- an __init__ function, which initializes the solver. If there is an existing weights file 'cartpole_dqn_weights.h5', it initializes to that set of weights\n",
        "- a getmodel function, which creates the neural network\n",
        "- an updateweights function, which updates the target network to the policy's networks weights, and saves a copy of the weights to 'cartpole_dqn_weights.h5'\n",
        "- a remember function, in order to store memory into the replay buffer\n",
        "- an act function, which selects an action randomly a fraction **exploration_rate** of the time, and otherwise selects the best action (greedy selection)\n",
        "- an experience_replay function, which samples memories to learn from the replay buffer"
      ]
    },
    {
      "cell_type": "code",
      "source": [
        "def rewardshape(done, step, reward):\n",
        "  ''' Modifies the reward to make it easier to learn '''\n",
        "  if done:\n",
        "    return -1\n",
        "  else:\n",
        "    return 1/100"
      ],
      "metadata": {
        "id": "pNVrYjYWekLn"
      },
      "execution_count": 66,
      "outputs": []
    },
    {
      "cell_type": "code",
      "metadata": {
        "id": "pp9BZ4tmygJf"
      },
      "source": [
        "class DQNSolver:\n",
        "    def __init__(self, observation_space, action_space):\n",
        "        self.memory = []\n",
        "        self.exploration_rate = 1.0\n",
        "        self.observation_space = observation_space\n",
        "        self.action_space = action_space\n",
        "        self.policynetwork = self.getmodel()\n",
        "        self.targetnetwork = self.getmodel()\n",
        "        self.loss_function = tf.keras.losses.Huber()\n",
        "        self.optimizer = Adam(lr = LEARNING_RATE)\n",
        "        # check if there is already a saved model, then load it\n",
        "        if os.path.exists('cartpole_dqn_weights.h5'):\n",
        "            self.policynetwork.load_weights('cartpole_dqn_weights.h5')\n",
        "            self.targetnetwork.load_weights('cartpole_dqn_weights.h5')\n",
        "\n",
        "    def getmodel(self):\n",
        "        model = Sequential()\n",
        "        model.add(Input(shape = (self.observation_space,))) # Input layer with observation_space number of nodes to represent state space\n",
        "        # model.add(BatchNormalization()) # make the input normalized for better backprop training\n",
        "        model.add(Dense(128, activation=\"relu\")) # Hidden layer for better representation ability\n",
        "        # model.add(BatchNormalization()) # make the hidden output normalized for better backprop training\n",
        "        model.add(Dense(self.action_space, activation=\"linear\"))  # Output layer: Must have self.action_space number of nodes\n",
        "        # model.compile(loss=\"huber\", optimizer=Adam(lr=LEARNING_RATE))\n",
        "        return model\n",
        "\n",
        "    def updateweights(self):\n",
        "        self.policynetwork.save_weights('cartpole_dqn_weights.h5')\n",
        "        self.targetnetwork.load_weights('cartpole_dqn_weights.h5')\n",
        "\n",
        "    def remember(self, state, action, reward, next_state, done):\n",
        "        # add a memory to the replay buffer\n",
        "        self.memory.append((state, action, reward, next_state, done))\n",
        "        # only keep the most recent MEMORY_SIZE number of memories\n",
        "        self.memory =  self.memory[-MEMORY_SIZE:]\n",
        "\n",
        "    def act(self, state, greedy = False):\n",
        "        # Only explore if less than exploration rate\n",
        "        if np.random.rand() < self.exploration_rate and not greedy:\n",
        "            return env.action_space.sample()\n",
        "        # Otherwise, choose the best action\n",
        "        state = state.reshape((1, observation_space))\n",
        "        q_values = self.policynetwork.predict(state)\n",
        "        return np.argmax(q_values[0])\n",
        "\n",
        "    def experience_replay(self):\n",
        "        # only start sampling the replay buffer when there is enough memory\n",
        "        if len(self.memory) < BATCH_SIZE:\n",
        "            return\n",
        "\n",
        "        # Get indices of samples for replay buffer\n",
        "        indices = np.random.choice(range(len(self.memory)), size=BATCH_SIZE)\n",
        "\n",
        "        # Using list comprehension to sample from replay buffer\n",
        "        state_sample = np.array([self.memory[i][0] for i in indices])\n",
        "        action_sample = [self.memory[i][1] for i in indices]\n",
        "        rewards_sample = [self.memory[i][2] for i in indices]\n",
        "        state_next_sample = np.array([self.memory[i][3] for i in indices])\n",
        "        done_sample = tf.convert_to_tensor(\n",
        "            [float(self.memory[i][4]) for i in indices]\n",
        "        )\n",
        "\n",
        "        # Build the updated Q-values for the sampled future states\n",
        "        # Use the target model for stability\n",
        "        future_rewards = self.targetnetwork.predict(state_next_sample)\n",
        "\n",
        "        # Q value = reward + discount factor * expected future reward (if not done)\n",
        "        # Q value = reward (if done)\n",
        "        updated_q_values = rewards_sample + (1.0 - done_sample)*(GAMMA * tf.reduce_max(\n",
        "            future_rewards, axis=1\n",
        "        ))\n",
        "\n",
        "        # Create a mask so we only calculate loss on the updated Q-values\n",
        "        masks = tf.one_hot(action_sample, self.action_space)\n",
        "\n",
        "        with tf.GradientTape() as tape:\n",
        "            # Train the model on the states and updated Q-values\n",
        "            q_values = self.policynetwork(state_sample)\n",
        "\n",
        "            # Apply the masks to the Q-values to get the Q-value for action taken\n",
        "            q_action = tf.reduce_sum(tf.multiply(q_values, masks), axis=1)\n",
        "\n",
        "            # Calculate loss between new Q-value and old Q-value\n",
        "            loss = self.loss_function(updated_q_values, q_action)\n",
        "\n",
        "        # Backpropagation\n",
        "        grads = tape.gradient(loss, self.policynetwork.trainable_variables)\n",
        "        self.optimizer.apply_gradients(zip(grads, self.policynetwork.trainable_variables))\n",
        "            \n",
        "        # Explore less next run by decaying exploration rate (minium 0.1)\n",
        "        self.exploration_rate = max(0.1, self.exploration_rate*EPSILON)"
      ],
      "execution_count": 67,
      "outputs": []
    },
    {
      "cell_type": "markdown",
      "metadata": {
        "id": "RheyGQ8fygJf"
      },
      "source": [
        "Now we run the environment and let the DQN algorithm learn:\n",
        "\n",
        "If the agent does not perform well, run the code again.\n",
        "\n",
        "This is because the rate of learning in DQN is highly dependent on the starting configuration, so a good starting state will enable it to learn much better.\n",
        "\n",
        "Keep running this cell to make the agent perform better, as the DQNSolver will retrain from existing \"my_model_weights.h5\" weights to improve upon it."
      ]
    },
    {
      "cell_type": "code",
      "metadata": {
        "id": "mTfxdgxgygJf",
        "colab": {
          "base_uri": "https://localhost:8080/"
        },
        "outputId": "8b648377-4663-4e02-b7d4-078dfcbf8d5c"
      },
      "source": [
        "env = gym.make('CartPole-v1')\n",
        "observation_space = env.observation_space.shape[0]\n",
        "action_space = env.action_space.n\n",
        "dqn_solver = DQNSolver(observation_space, action_space)\n",
        "\n",
        "stephistory = []\n",
        "for run in range(NUM_RUNS):\n",
        "    # give some time for buffer to fill up\n",
        "    if len(dqn_solver.memory) > BATCH_SIZE and run >= 10:\n",
        "        dqn_solver.experience_replay()\n",
        "    newmemory = 0\n",
        "    while newmemory < MEMORY_PER_RUN:\n",
        "        state = env.reset()\n",
        "        state = state.reshape(observation_space)\n",
        "        for step in range(500):\n",
        "            action = dqn_solver.act(state)\n",
        "            state_next, reward, done, info = env.step(action)\n",
        "            reward = rewardshape(done, step, reward)\n",
        "            state_next = state_next.reshape(observation_space)\n",
        "            dqn_solver.remember(state, action, reward, state_next, done)\n",
        "            state = state_next\n",
        "            if done:\n",
        "                print (\"Run: \" + str(run+1) + \", exploration_rate: \" + str(dqn_solver.exploration_rate) + \", score: \" + str(step))\n",
        "                newmemory += step\n",
        "                stephistory.append(step)\n",
        "                break\n",
        "                \n",
        "        # terminate early if bad start\n",
        "        if run==10 and np.mean(stephistory)<20: break\n",
        "          \n",
        "    # update target network after every MODEL_UPDATE runs\n",
        "    if run % MODEL_UPDATE == 0:\n",
        "        dqn_solver.updateweights()"
      ],
      "execution_count": 68,
      "outputs": [
        {
          "output_type": "stream",
          "name": "stderr",
          "text": [
            "/usr/local/lib/python3.7/dist-packages/keras/optimizer_v2/adam.py:105: UserWarning: The `lr` argument is deprecated, use `learning_rate` instead.\n",
            "  super(Adam, self).__init__(name, **kwargs)\n"
          ]
        },
        {
          "output_type": "stream",
          "name": "stdout",
          "text": [
            "Run: 1, exploration_rate: 1.0, score: 7\n",
            "Run: 2, exploration_rate: 1.0, score: 13\n",
            "Run: 3, exploration_rate: 1.0, score: 32\n",
            "Run: 4, exploration_rate: 1.0, score: 28\n",
            "Run: 5, exploration_rate: 1.0, score: 35\n",
            "Run: 6, exploration_rate: 1.0, score: 12\n",
            "Run: 7, exploration_rate: 1.0, score: 40\n",
            "Run: 8, exploration_rate: 1.0, score: 40\n",
            "Run: 9, exploration_rate: 1.0, score: 9\n",
            "Run: 10, exploration_rate: 1.0, score: 22\n",
            "Run: 11, exploration_rate: 0.95, score: 31\n",
            "Run: 12, exploration_rate: 0.9025, score: 22\n",
            "Run: 13, exploration_rate: 0.8573749999999999, score: 26\n",
            "Run: 14, exploration_rate: 0.8145062499999999, score: 31\n",
            "Run: 15, exploration_rate: 0.7737809374999999, score: 20\n",
            "Run: 16, exploration_rate: 0.7350918906249998, score: 18\n",
            "Run: 17, exploration_rate: 0.6983372960937497, score: 35\n",
            "Run: 18, exploration_rate: 0.6634204312890623, score: 83\n",
            "Run: 19, exploration_rate: 0.6302494097246091, score: 37\n",
            "Run: 20, exploration_rate: 0.5987369392383786, score: 46\n",
            "Run: 21, exploration_rate: 0.5688000922764596, score: 29\n",
            "Run: 22, exploration_rate: 0.5403600876626365, score: 20\n",
            "Run: 23, exploration_rate: 0.5133420832795047, score: 8\n",
            "Run: 24, exploration_rate: 0.48767497911552943, score: 8\n",
            "Run: 25, exploration_rate: 0.46329123015975293, score: 28\n",
            "Run: 26, exploration_rate: 0.44012666865176525, score: 27\n",
            "Run: 27, exploration_rate: 0.41812033521917696, score: 9\n",
            "Run: 28, exploration_rate: 0.3972143184582181, score: 11\n",
            "Run: 29, exploration_rate: 0.37735360253530714, score: 35\n",
            "Run: 30, exploration_rate: 0.35848592240854177, score: 62\n",
            "Run: 31, exploration_rate: 0.34056162628811465, score: 93\n",
            "Run: 32, exploration_rate: 0.3235335449737089, score: 27\n",
            "Run: 33, exploration_rate: 0.30735686772502346, score: 41\n",
            "Run: 34, exploration_rate: 0.2919890243387723, score: 34\n",
            "Run: 35, exploration_rate: 0.27738957312183365, score: 28\n",
            "Run: 36, exploration_rate: 0.263520094465742, score: 37\n",
            "Run: 37, exploration_rate: 0.25034408974245487, score: 51\n",
            "Run: 38, exploration_rate: 0.2378268852553321, score: 81\n",
            "Run: 39, exploration_rate: 0.2259355409925655, score: 96\n",
            "Run: 40, exploration_rate: 0.2146387639429372, score: 90\n",
            "Run: 41, exploration_rate: 0.20390682574579033, score: 70\n",
            "Run: 42, exploration_rate: 0.1937114844585008, score: 77\n",
            "Run: 43, exploration_rate: 0.18402591023557577, score: 207\n",
            "Run: 44, exploration_rate: 0.17482461472379698, score: 140\n",
            "Run: 45, exploration_rate: 0.16608338398760714, score: 61\n",
            "Run: 46, exploration_rate: 0.15777921478822676, score: 14\n",
            "Run: 47, exploration_rate: 0.14989025404881542, score: 9\n",
            "Run: 48, exploration_rate: 0.14239574134637464, score: 14\n",
            "Run: 49, exploration_rate: 0.1352759542790559, score: 10\n",
            "Run: 50, exploration_rate: 0.1285121565651031, score: 10\n",
            "Run: 51, exploration_rate: 0.12208654873684793, score: 9\n",
            "Run: 52, exploration_rate: 0.11598222130000553, score: 9\n",
            "Run: 53, exploration_rate: 0.11018311023500525, score: 9\n",
            "Run: 54, exploration_rate: 0.10467395472325498, score: 8\n",
            "Run: 55, exploration_rate: 0.1, score: 8\n",
            "Run: 56, exploration_rate: 0.1, score: 8\n",
            "Run: 57, exploration_rate: 0.1, score: 8\n",
            "Run: 58, exploration_rate: 0.1, score: 10\n",
            "Run: 59, exploration_rate: 0.1, score: 12\n",
            "Run: 60, exploration_rate: 0.1, score: 9\n",
            "Run: 61, exploration_rate: 0.1, score: 7\n",
            "Run: 62, exploration_rate: 0.1, score: 9\n",
            "Run: 63, exploration_rate: 0.1, score: 102\n",
            "Run: 64, exploration_rate: 0.1, score: 158\n",
            "Run: 65, exploration_rate: 0.1, score: 65\n",
            "Run: 66, exploration_rate: 0.1, score: 74\n",
            "Run: 67, exploration_rate: 0.1, score: 36\n",
            "Run: 68, exploration_rate: 0.1, score: 30\n",
            "Run: 69, exploration_rate: 0.1, score: 19\n",
            "Run: 70, exploration_rate: 0.1, score: 14\n",
            "Run: 71, exploration_rate: 0.1, score: 23\n",
            "Run: 72, exploration_rate: 0.1, score: 48\n",
            "Run: 73, exploration_rate: 0.1, score: 91\n",
            "Run: 74, exploration_rate: 0.1, score: 126\n",
            "Run: 75, exploration_rate: 0.1, score: 91\n",
            "Run: 76, exploration_rate: 0.1, score: 73\n",
            "Run: 77, exploration_rate: 0.1, score: 41\n",
            "Run: 78, exploration_rate: 0.1, score: 115\n",
            "Run: 79, exploration_rate: 0.1, score: 100\n",
            "Run: 80, exploration_rate: 0.1, score: 95\n",
            "Run: 81, exploration_rate: 0.1, score: 109\n",
            "Run: 82, exploration_rate: 0.1, score: 160\n",
            "Run: 83, exploration_rate: 0.1, score: 61\n",
            "Run: 84, exploration_rate: 0.1, score: 48\n",
            "Run: 85, exploration_rate: 0.1, score: 25\n",
            "Run: 86, exploration_rate: 0.1, score: 36\n",
            "Run: 87, exploration_rate: 0.1, score: 16\n",
            "Run: 88, exploration_rate: 0.1, score: 27\n",
            "Run: 89, exploration_rate: 0.1, score: 22\n",
            "Run: 90, exploration_rate: 0.1, score: 32\n",
            "Run: 91, exploration_rate: 0.1, score: 38\n",
            "Run: 92, exploration_rate: 0.1, score: 45\n",
            "Run: 93, exploration_rate: 0.1, score: 54\n",
            "Run: 94, exploration_rate: 0.1, score: 71\n",
            "Run: 95, exploration_rate: 0.1, score: 68\n",
            "Run: 96, exploration_rate: 0.1, score: 110\n",
            "Run: 97, exploration_rate: 0.1, score: 147\n",
            "Run: 98, exploration_rate: 0.1, score: 251\n",
            "Run: 99, exploration_rate: 0.1, score: 198\n",
            "Run: 100, exploration_rate: 0.1, score: 231\n"
          ]
        }
      ]
    },
    {
      "cell_type": "markdown",
      "metadata": {
        "id": "7Ypv40rRygJg"
      },
      "source": [
        "# Visualize your DQN agent"
      ]
    },
    {
      "cell_type": "code",
      "source": [
        "# agent should predict left\n",
        "dqn_solver.policynetwork.predict([[-0.1, -0.1, -0.1, -0.1]])"
      ],
      "metadata": {
        "id": "9WimdmurYaVb",
        "colab": {
          "base_uri": "https://localhost:8080/"
        },
        "outputId": "6d475c55-90d3-4ac8-9de7-49a941b0a38a"
      },
      "execution_count": 73,
      "outputs": [
        {
          "output_type": "execute_result",
          "data": {
            "text/plain": [
              "array([[0.4725811 , 0.40087628]], dtype=float32)"
            ]
          },
          "metadata": {},
          "execution_count": 73
        }
      ]
    },
    {
      "cell_type": "code",
      "source": [
        "# agent should predict right\n",
        "dqn_solver.policynetwork.predict([[0.1, 0.1, 0.1, 0.1]])"
      ],
      "metadata": {
        "id": "mM6QAVJYccJ_",
        "colab": {
          "base_uri": "https://localhost:8080/"
        },
        "outputId": "b1556d31-aa6a-431d-ab63-1a30b922fb80"
      },
      "execution_count": 74,
      "outputs": [
        {
          "output_type": "execute_result",
          "data": {
            "text/plain": [
              "array([[0.4043657 , 0.47297633]], dtype=float32)"
            ]
          },
          "metadata": {},
          "execution_count": 74
        }
      ]
    },
    {
      "cell_type": "code",
      "metadata": {
        "id": "21EB_anZygJg"
      },
      "source": [
        "def dqn_agent(state):\n",
        "  return dqn_solver.act(state, greedy = True)"
      ],
      "execution_count": 75,
      "outputs": []
    },
    {
      "cell_type": "code",
      "metadata": {
        "id": "B674CVbxVNn-",
        "colab": {
          "base_uri": "https://localhost:8080/",
          "height": 439
        },
        "outputId": "9909b764-70ca-4115-c2c7-db659a2a88d2"
      },
      "source": [
        "visualize(dqn_agent)"
      ],
      "execution_count": 76,
      "outputs": [
        {
          "output_type": "stream",
          "name": "stdout",
          "text": [
            "Episode finished after 500 timesteps with reward 500.0\n"
          ]
        },
        {
          "output_type": "display_data",
          "data": {
            "text/plain": [
              "<IPython.core.display.HTML object>"
            ],
            "text/html": [
              "<video alt=\"test\" autoplay \n",
              "                loop controls style=\"height: 400px;\">\n",
              "                <source src=\"data:video/mp4;base64,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\" type=\"video/mp4\" />\n",
              "             </video>"
            ]
          },
          "metadata": {}
        }
      ]
    },
    {
      "cell_type": "markdown",
      "metadata": {
        "id": "bP9eqba4ygJh"
      },
      "source": [
        "# Concluding Remarks"
      ]
    },
    {
      "cell_type": "markdown",
      "metadata": {
        "id": "XwrR0BLfygJh"
      },
      "source": [
        "One good thing about using neural networks is that you can easily train an agent with very complex / high-dimensional state spaces as inputs.\n",
        "However, you lose out on the interpretability of the model.\n",
        "Compare your DQN agent to that of the heuristic-based agent earlier using the following guiding questions:\n",
        "- Which is easier to understand by humans?\n",
        "- Which requires more human input?\n",
        "- Which requires longer code?\n",
        "- If someone were to ask you how your AI system works, which kind of model would you feel more confident explaining?"
      ]
    }
  ]
}