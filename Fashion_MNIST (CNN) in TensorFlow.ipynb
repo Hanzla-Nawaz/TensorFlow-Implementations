{
  "cells": [
    {
      "cell_type": "markdown",
      "metadata": {
        "id": "qnyTxjK_GbOD"
      },
      "source": [
        "# Using TensorFlow for Classification (CNN)\n",
        "\n",
        "Created by John Tan Chong Min (2022). Kindly acknowledge if using this notebook.\n",
        "\n",
        "Let us use TensorFlow and implement a CNN to classify 10 object classes from Fashion MNIST."
      ]
    },
    {
      "cell_type": "markdown",
      "metadata": {
        "id": "H41FYgtlHPjW"
      },
      "source": [
        "## Start Coding\n",
        "\n",
        "This is what we had from the MLP notebook."
      ]
    },
    {
      "cell_type": "code",
      "execution_count": 1,
      "metadata": {
        "id": "q3KzJyjv3rnA",
        "colab": {
          "base_uri": "https://localhost:8080/"
        },
        "outputId": "984e0cbe-8c42-49ed-fb77-2ad15555e128"
      },
      "outputs": [
        {
          "output_type": "stream",
          "name": "stdout",
          "text": [
            "2.8.0\n",
            "Epoch 1/5\n",
            "1875/1875 [==============================] - 10s 5ms/step - loss: 0.5027 - accuracy: 0.8249\n",
            "Epoch 2/5\n",
            "1875/1875 [==============================] - 5s 3ms/step - loss: 0.3779 - accuracy: 0.8646\n",
            "Epoch 3/5\n",
            "1875/1875 [==============================] - 5s 3ms/step - loss: 0.3411 - accuracy: 0.8759\n",
            "Epoch 4/5\n",
            "1875/1875 [==============================] - 5s 3ms/step - loss: 0.3162 - accuracy: 0.8842\n",
            "Epoch 5/5\n",
            "1875/1875 [==============================] - 5s 3ms/step - loss: 0.2972 - accuracy: 0.8902\n",
            "313/313 [==============================] - 1s 3ms/step - loss: 0.3405 - accuracy: 0.8780\n"
          ]
        },
        {
          "output_type": "execute_result",
          "data": {
            "text/plain": [
              "[0.3405190408229828, 0.878000020980835]"
            ]
          },
          "metadata": {},
          "execution_count": 1
        }
      ],
      "source": [
        "import tensorflow as tf\n",
        "print(tf.__version__)\n",
        "\n",
        "mnist = tf.keras.datasets.fashion_mnist\n",
        "\n",
        "(training_images, training_labels) ,  (test_images, test_labels) = mnist.load_data()\n",
        "\n",
        "training_images = training_images/255.0\n",
        "test_images = test_images/255.0\n",
        "\n",
        "model = tf.keras.models.Sequential([tf.keras.layers.Input(shape = (28,28)),\n",
        "                                    tf.keras.layers.Flatten(),\n",
        "                                    tf.keras.layers.Dense(128, activation=tf.nn.relu),\n",
        "                                    tf.keras.layers.Dense(10, activation=tf.nn.softmax)])\n",
        "\n",
        "model.compile(optimizer = 'adam',\n",
        "              loss = 'sparse_categorical_crossentropy', metrics = ['accuracy'])\n",
        "\n",
        "model.fit(training_images, training_labels, epochs=5)\n",
        "\n",
        "model.evaluate(test_images, test_labels)"
      ]
    },
    {
      "cell_type": "markdown",
      "metadata": {
        "id": "vUmZYplfsQXc"
      },
      "source": [
        "As you can see, the accuracy is not that great. It is around 0.87 for me.\n",
        "Now, let us change the model to that of a Convolutional Neural Network and see how it performs."
      ]
    },
    {
      "cell_type": "code",
      "execution_count": 17,
      "metadata": {
        "id": "IatZd21bsQXc"
      },
      "outputs": [],
      "source": [
        "model = tf.keras.models.Sequential([\n",
        "    tf.keras.layers.Input(shape = (28,28,1)),\n",
        "    tf.keras.layers.Conv2D(filters=16, kernel_size=(3,3), strides=(1,1), padding='same', activation = tf.nn.relu),\n",
        "    tf.keras.layers.MaxPooling2D(pool_size = (2,2)),\n",
        "    tf.keras.layers.Flatten(),\n",
        "    tf.keras.layers.Dense(128, activation= tf.nn.relu),\n",
        "    tf.keras.layers.Dense(10, activation = tf.nn.softmax)\n",
        "])"
      ]
    },
    {
      "cell_type": "code",
      "execution_count": 18,
      "metadata": {
        "colab": {
          "base_uri": "https://localhost:8080/",
          "height": 564
        },
        "id": "vMrxu1f-sQXd",
        "outputId": "a024850d-5330-4080-99bd-88cd658c9cab"
      },
      "outputs": [
        {
          "output_type": "execute_result",
          "data": {
            "text/plain": [
              "<IPython.core.display.Image object>"
            ],
            "image/png": "[encoded data removed]"
          },
          "metadata": {},
          "execution_count": 18
        }
      ],
      "source": [
        "tf.keras.utils.plot_model(model)"
      ]
    },
    {
      "cell_type": "code",
      "execution_count": 19,
      "metadata": {
        "colab": {
          "base_uri": "https://localhost:8080/"
        },
        "id": "1lD-41ILsQXd",
        "outputId": "467ef63b-f014-4f4d-85f8-eb090552d970"
      },
      "outputs": [
        {
          "output_type": "stream",
          "name": "stdout",
          "text": [
            "Model: \"sequential_9\"\n",
            "_________________________________________________________________\n",
            " Layer (type)                Output Shape              Param #   \n",
            "=================================================================\n",
            " conv2d_12 (Conv2D)          (None, 28, 28, 16)        160       \n",
            "                                                                 \n",
            " max_pooling2d_11 (MaxPoolin  (None, 14, 14, 16)       0         \n",
            " g2D)                                                            \n",
            "                                                                 \n",
            " flatten_8 (Flatten)         (None, 3136)              0         \n",
            "                                                                 \n",
            " dense_17 (Dense)            (None, 128)               401536    \n",
            "                                                                 \n",
            " dense_18 (Dense)            (None, 10)                1290      \n",
            "                                                                 \n",
            "=================================================================\n",
            "Total params: 402,986\n",
            "Trainable params: 402,986\n",
            "Non-trainable params: 0\n",
            "_________________________________________________________________\n"
          ]
        }
      ],
      "source": [
        "model.summary()"
      ]
    },
    {
      "cell_type": "code",
      "execution_count": 20,
      "metadata": {
        "colab": {
          "base_uri": "https://localhost:8080/"
        },
        "id": "CL_SsqapsQXe",
        "outputId": "0a3e33f9-a23f-4c83-c28f-56d836cf8114"
      },
      "outputs": [
        {
          "output_type": "stream",
          "name": "stdout",
          "text": [
            "Epoch 1/5\n",
            "1875/1875 [==============================] - 8s 4ms/step - loss: 0.4080 - accuracy: 0.8553\n",
            "Epoch 2/5\n",
            "1875/1875 [==============================] - 8s 4ms/step - loss: 0.2734 - accuracy: 0.9009\n",
            "Epoch 3/5\n",
            "1875/1875 [==============================] - 8s 4ms/step - loss: 0.2303 - accuracy: 0.9155\n",
            "Epoch 4/5\n",
            "1875/1875 [==============================] - 8s 4ms/step - loss: 0.2001 - accuracy: 0.9259\n",
            "Epoch 5/5\n",
            "1875/1875 [==============================] - 8s 4ms/step - loss: 0.1751 - accuracy: 0.9352\n",
            "313/313 [==============================] - 1s 3ms/step - loss: 0.2540 - accuracy: 0.9109\n"
          ]
        },
        {
          "output_type": "execute_result",
          "data": {
            "text/plain": [
              "[0.2539825141429901, 0.9108999967575073]"
            ]
          },
          "metadata": {},
          "execution_count": 20
        }
      ],
      "source": [
        "model.compile(optimizer = 'adam',\n",
        "              loss = 'sparse_categorical_crossentropy', metrics = ['accuracy'])\n",
        "\n",
        "# reshape the input to add a channel dimension at the end for CNN processing\n",
        "model.fit(training_images.reshape((-1,28,28,1)), training_labels, epochs=5)\n",
        "\n",
        "model.evaluate(test_images.reshape(-1,28,28,1), test_labels)"
      ]
    },
    {
      "cell_type": "markdown",
      "source": [
        "Not too bad. I got around 91.1% accuracy on the test set, which is significantly better than the MLP model, although at x4 the number of model parameters (MLP has 101,770 parameters)."
      ],
      "metadata": {
        "id": "KljvM8QevP3X"
      }
    },
    {
      "cell_type": "markdown",
      "metadata": {
        "id": "-PsqQ08RsQXe"
      },
      "source": [
        "# Optional: Functional API\n",
        "We can also define the model in a functional form, for greater flexibility.\n",
        "This is exactly the same as the earlier model. Uncomment the cell to run it."
      ]
    },
    {
      "cell_type": "code",
      "execution_count": 6,
      "metadata": {
        "id": "Vd75TisfsQXf"
      },
      "outputs": [],
      "source": [
        "# inputs = tf.keras.layers.Input(shape = (28,28,1))\n",
        "# x = tf.keras.layers.Conv2D(filters=16, kernel_size=(3,3), strides=(1,1), padding='same', activation = tf.nn.relu)(inputs)\n",
        "# x = tf.keras.layers.MaxPooling2D(pool_size = (2,2))(x)\n",
        "# x = tf.keras.layers.Flatten()(x)\n",
        "# x = tf.keras.layers.Dense(128, activation = tf.nn.relu)(x)\n",
        "# outputs = tf.keras.layers.Dense(10, activation = tf.nn.softmax)(x)\n",
        " \n",
        "# model = tf.keras.Model(inputs = inputs, outputs = outputs)"
      ]
    },
    {
      "cell_type": "markdown",
      "metadata": {
        "id": "OrCb5NdtsQXf"
      },
      "source": [
        "# Visualize predictions"
      ]
    },
    {
      "cell_type": "code",
      "execution_count": 7,
      "metadata": {
        "colab": {
          "base_uri": "https://localhost:8080/",
          "height": 485
        },
        "id": "D-lCnPz5sQXg",
        "outputId": "d7c69f3f-1617-4c0f-90ea-a285ea12828d"
      },
      "outputs": [
        {
          "output_type": "display_data",
          "data": {
            "text/plain": [
              "<Figure size 1440x576 with 15 Axes>"
            ],
            "image/png": "[encoded data removed]"
          },
          "metadata": {}
        }
      ],
      "source": [
        "import matplotlib.pyplot as plt\n",
        "import numpy as np\n",
        "\n",
        "labels = ['T-shirt/top','Trouser','Pullover','Dress','Coat','Sandal','Shirt','Sneaker','Bag','Ankle boot']\n",
        "y_hat = model.predict(test_images.reshape(-1,28,28,1))\n",
        "\n",
        "# Plot a random sample of 10 test images, their predicted labels and ground truth\n",
        "figure = plt.figure(figsize=(20, 8))\n",
        "for i, index in enumerate(np.random.choice(test_images.shape[0], size=15, replace=False)):\n",
        "    ax = figure.add_subplot(3, 5, i + 1, xticks=[], yticks=[])\n",
        "    # Display each image\n",
        "    ax.imshow(np.squeeze(test_images[index]))\n",
        "    predict_index = np.argmax(y_hat[index])\n",
        "    true_index = test_labels[index]\n",
        "    # Set the title for each image\n",
        "    ax.set_title(\"{} ({})\".format(labels[predict_index], \n",
        "                                  labels[true_index]),\n",
        "                                  color=(\"green\" if predict_index == true_index else \"red\"))\n",
        "    \n",
        "plt.show()"
      ]
    },
    {
      "cell_type": "markdown",
      "metadata": {
        "id": "gMGTr9xWsQXg"
      },
      "source": [
        "# Visualize Filters"
      ]
    },
    {
      "cell_type": "code",
      "execution_count": 8,
      "metadata": {
        "id": "FPc9d3gJ3jWF"
      },
      "outputs": [],
      "source": [
        "import numpy as np\n",
        "np.set_printoptions(linewidth=200)\n",
        "import matplotlib.pyplot as plt\n",
        "\n",
        "def visualize_filters(model, max_filters_to_display = 32):\n",
        "    '''Displays the filter weights (only for the first channel for the first 32 filters)\n",
        "    Inputs: \n",
        "    model: the Tensorflow model\n",
        "    max_filters_to_display: upper limit of the number of filters to show\n",
        "    '''\n",
        "    for layer in model.layers:\n",
        "        # only do for conv layers\n",
        "        if 'conv' not in layer.name: continue\n",
        "        # retrieve weights from the layer\n",
        "        filters, biases = layer.get_weights()\n",
        "        filternum = min(max_filters_to_display, filters.shape[-1])\n",
        "\n",
        "        figure = plt.figure(figsize=(20, filternum//8*2))\n",
        "        print(f'Filter weights in {layer.name} layer')\n",
        "        for i in range(filternum):\n",
        "            # get the filter\n",
        "            f = filters[:, :, :, i]\n",
        "\n",
        "            # specify subplot and turn of axis\n",
        "            ax = figure.add_subplot(filternum//8, 8, i + 1, xticks=[], yticks=[])\n",
        "            ax.set_xticks([])\n",
        "            ax.set_yticks([])\n",
        "            # plot filter channel in grayscale (only for first filter level)\n",
        "            c = ax.imshow(f[:, :, 0], cmap='binary')\n",
        "            plt.colorbar(c, orientation = 'vertical')\n",
        "        # show the figure\n",
        "        plt.show()"
      ]
    },
    {
      "cell_type": "code",
      "execution_count": 9,
      "metadata": {
        "colab": {
          "base_uri": "https://localhost:8080/",
          "height": 271
        },
        "id": "Bb6odebfsQXh",
        "outputId": "81449b12-170d-42d9-bf29-8998174512aa"
      },
      "outputs": [
        {
          "output_type": "stream",
          "name": "stdout",
          "text": [
            "Filter weights in conv2d layer\n"
          ]
        },
        {
          "output_type": "display_data",
          "data": {
            "text/plain": [
              "<Figure size 1440x288 with 32 Axes>"
            ],
            "image/png": "[encoded data removed]"
          },
          "metadata": {
            "needs_background": "light"
          }
        }
      ],
      "source": [
        "visualize_filters(model)"
      ]
    },
    {
      "cell_type": "markdown",
      "metadata": {
        "id": "6Rk1r3DHsQXh"
      },
      "source": [
        "# Exploration Exercises\n",
        "\n",
        "Now that we got the basics up, let us change parts of the model and see what happens.\n",
        "\n",
        "# Exercise 1: Double Conv2D\n",
        "Let us try adding another Conv2D layer."
      ]
    },
    {
      "cell_type": "code",
      "execution_count": 10,
      "metadata": {
        "colab": {
          "base_uri": "https://localhost:8080/"
        },
        "id": "o2ppeKBmsQXi",
        "outputId": "81e7c81c-1c48-41b9-c13f-8fdcf6b650d5"
      },
      "outputs": [
        {
          "output_type": "stream",
          "name": "stdout",
          "text": [
            "2.8.0\n",
            "Epoch 1/5\n",
            "1875/1875 [==============================] - 9s 5ms/step - loss: 0.4266 - accuracy: 0.8465\n",
            "Epoch 2/5\n",
            "1875/1875 [==============================] - 9s 5ms/step - loss: 0.2858 - accuracy: 0.8971\n",
            "Epoch 3/5\n",
            "1875/1875 [==============================] - 9s 5ms/step - loss: 0.2395 - accuracy: 0.9139\n",
            "Epoch 4/5\n",
            "1875/1875 [==============================] - 9s 5ms/step - loss: 0.2095 - accuracy: 0.9230\n",
            "Epoch 5/5\n",
            "1875/1875 [==============================] - 9s 5ms/step - loss: 0.1860 - accuracy: 0.9315\n",
            "313/313 [==============================] - 1s 4ms/step - loss: 0.2861 - accuracy: 0.8975\n"
          ]
        },
        {
          "output_type": "execute_result",
          "data": {
            "text/plain": [
              "[0.2861064672470093, 0.8974999785423279]"
            ]
          },
          "metadata": {},
          "execution_count": 10
        }
      ],
      "source": [
        "import tensorflow as tf\n",
        "print(tf.__version__)\n",
        "\n",
        "mnist = tf.keras.datasets.fashion_mnist\n",
        "\n",
        "(training_images, training_labels) ,  (test_images, test_labels) = mnist.load_data()\n",
        "\n",
        "training_images = training_images/255.0\n",
        "test_images = test_images/255.0\n",
        "\n",
        "model = tf.keras.models.Sequential([\n",
        "    tf.keras.layers.Input(shape = (28,28,1)),\n",
        "    tf.keras.layers.Conv2D(filters=16, kernel_size=(3,3), strides=(1,1), padding='same', activation = tf.nn.relu),\n",
        "    tf.keras.layers.MaxPooling2D(pool_size = (2,2)),\n",
        "    tf.keras.layers.Conv2D(filters=32, kernel_size=(3,3), strides=(1,1), padding='same', activation = tf.nn.relu),\n",
        "    tf.keras.layers.MaxPooling2D(pool_size = (2,2)),\n",
        "    tf.keras.layers.Flatten(),\n",
        "    tf.keras.layers.Dense(128, activation= tf.nn.relu),\n",
        "    tf.keras.layers.Dense(10, activation = tf.nn.softmax)\n",
        "])\n",
        "\n",
        "model.compile(optimizer = 'adam',\n",
        "              loss = 'sparse_categorical_crossentropy', metrics = ['accuracy'])\n",
        "\n",
        "model.fit(training_images.reshape(-1,28,28,1), training_labels, epochs=5)\n",
        "\n",
        "model.evaluate(test_images.reshape(-1,28,28,1), test_labels)"
      ]
    },
    {
      "cell_type": "markdown",
      "source": [
        "I got around 90% accuracy, which is slightly lower than the base model. Perhaps we may need to tune the learning rate if we add more layers."
      ],
      "metadata": {
        "id": "Ccl5cGYLwSVx"
      }
    },
    {
      "cell_type": "markdown",
      "metadata": {
        "id": "B9LA1uAysQXi"
      },
      "source": [
        "# Exercise 2: More filters\n",
        "How about just increasing the number of filters?"
      ]
    },
    {
      "cell_type": "code",
      "execution_count": 11,
      "metadata": {
        "colab": {
          "base_uri": "https://localhost:8080/"
        },
        "id": "PCzzR9j6sQXi",
        "outputId": "98b28243-ee07-4e55-ef07-e6770c5a6af0"
      },
      "outputs": [
        {
          "output_type": "stream",
          "name": "stdout",
          "text": [
            "2.8.0\n",
            "Epoch 1/5\n",
            "1875/1875 [==============================] - 9s 4ms/step - loss: 0.3859 - accuracy: 0.8623\n",
            "Epoch 2/5\n",
            "1875/1875 [==============================] - 8s 4ms/step - loss: 0.2616 - accuracy: 0.9039\n",
            "Epoch 3/5\n",
            "1875/1875 [==============================] - 8s 4ms/step - loss: 0.2161 - accuracy: 0.9199\n",
            "Epoch 4/5\n",
            "1875/1875 [==============================] - 8s 4ms/step - loss: 0.1810 - accuracy: 0.9325\n",
            "Epoch 5/5\n",
            "1875/1875 [==============================] - 8s 4ms/step - loss: 0.1544 - accuracy: 0.9425\n",
            "313/313 [==============================] - 1s 4ms/step - loss: 0.2431 - accuracy: 0.9171\n"
          ]
        },
        {
          "output_type": "execute_result",
          "data": {
            "text/plain": [
              "[0.24313952028751373, 0.9171000123023987]"
            ]
          },
          "metadata": {},
          "execution_count": 11
        }
      ],
      "source": [
        "import tensorflow as tf\n",
        "print(tf.__version__)\n",
        "\n",
        "mnist = tf.keras.datasets.fashion_mnist\n",
        "\n",
        "(training_images, training_labels) ,  (test_images, test_labels) = mnist.load_data()\n",
        "\n",
        "training_images = training_images/255.0\n",
        "test_images = test_images/255.0\n",
        "\n",
        "model = tf.keras.models.Sequential([\n",
        "    tf.keras.layers.Input(shape = (28,28,1)),\n",
        "    tf.keras.layers.Conv2D(filters=32, kernel_size=(3,3), strides=(1,1), padding='same', activation = tf.nn.relu),\n",
        "    tf.keras.layers.MaxPooling2D(pool_size = (2,2)),\n",
        "    tf.keras.layers.Flatten(),\n",
        "    tf.keras.layers.Dense(128, activation= tf.nn.relu),\n",
        "    tf.keras.layers.Dense(10, activation = tf.nn.softmax)\n",
        "])\n",
        "\n",
        "model.compile(optimizer = 'adam',\n",
        "              loss = 'sparse_categorical_crossentropy', metrics = ['accuracy'])\n",
        "\n",
        "model.fit(training_images.reshape(-1,28,28,1), training_labels, epochs=5)\n",
        "\n",
        "model.evaluate(test_images.reshape(-1,28,28,1), test_labels)"
      ]
    },
    {
      "cell_type": "markdown",
      "source": [
        "I got around 91.7% accuracy, which is better than the basic model."
      ],
      "metadata": {
        "id": "p-KuOlyYwZfI"
      }
    },
    {
      "cell_type": "markdown",
      "metadata": {
        "id": "qyF_lE0vsQXi"
      },
      "source": [
        "# Exercise 3: Double Conv2D + More Filters\n",
        "Let us try increasing the filters for two Conv2D layers"
      ]
    },
    {
      "cell_type": "code",
      "execution_count": 12,
      "metadata": {
        "colab": {
          "base_uri": "https://localhost:8080/"
        },
        "id": "TMugeUeksQXj",
        "outputId": "08c9d8b3-448e-4d25-b359-c27f0d266c50"
      },
      "outputs": [
        {
          "output_type": "stream",
          "name": "stdout",
          "text": [
            "2.8.0\n",
            "Epoch 1/5\n",
            "1875/1875 [==============================] - 12s 6ms/step - loss: 0.3970 - accuracy: 0.8563\n",
            "Epoch 2/5\n",
            "1875/1875 [==============================] - 12s 6ms/step - loss: 0.2590 - accuracy: 0.9060\n",
            "Epoch 3/5\n",
            "1875/1875 [==============================] - 12s 6ms/step - loss: 0.2142 - accuracy: 0.9216\n",
            "Epoch 4/5\n",
            "1875/1875 [==============================] - 12s 6ms/step - loss: 0.1822 - accuracy: 0.9316\n",
            "Epoch 5/5\n",
            "1875/1875 [==============================] - 12s 6ms/step - loss: 0.1564 - accuracy: 0.9414\n",
            "313/313 [==============================] - 1s 4ms/step - loss: 0.2498 - accuracy: 0.9167\n",
            "[0.24981781840324402, 0.916700005531311]\n"
          ]
        }
      ],
      "source": [
        "import tensorflow as tf\n",
        "print(tf.__version__)\n",
        "\n",
        "mnist = tf.keras.datasets.fashion_mnist\n",
        "\n",
        "(training_images, training_labels) ,  (test_images, test_labels) = mnist.load_data()\n",
        "\n",
        "training_images = training_images/255.0\n",
        "test_images = test_images/255.0\n",
        "\n",
        "model = tf.keras.models.Sequential([\n",
        "    tf.keras.layers.Input(shape = (28,28,1)),\n",
        "    tf.keras.layers.Conv2D(filters=32, kernel_size=(3,3), strides=(1,1), padding='same', activation = tf.nn.relu),\n",
        "    tf.keras.layers.MaxPooling2D(pool_size = (2,2)),\n",
        "    tf.keras.layers.Conv2D(filters=64, kernel_size=(3,3), strides=(1,1), padding='same', activation = tf.nn.relu),\n",
        "    tf.keras.layers.MaxPooling2D(pool_size = (2,2)),\n",
        "    tf.keras.layers.Flatten(),\n",
        "    tf.keras.layers.Dense(128, activation= tf.nn.relu),\n",
        "    tf.keras.layers.Dense(10, activation = tf.nn.softmax)\n",
        "])\n",
        "\n",
        "model.compile(optimizer = 'adam',\n",
        "              loss = 'sparse_categorical_crossentropy', metrics = ['accuracy'])\n",
        "\n",
        "model.fit(training_images.reshape(-1,28,28,1), training_labels, epochs=5)\n",
        "\n",
        "print(model.evaluate(test_images.reshape(-1,28,28,1), test_labels))"
      ]
    },
    {
      "cell_type": "markdown",
      "source": [
        "I got around 91.7% accuracy, which is better than the base model."
      ],
      "metadata": {
        "id": "xtXkzX-xwiz6"
      }
    },
    {
      "cell_type": "markdown",
      "metadata": {
        "id": "4pOyHV4KsQXj"
      },
      "source": [
        "# Exercise 4: Dropout\n",
        "Let us add in dropout for the final layer for regularization purposes."
      ]
    },
    {
      "cell_type": "code",
      "execution_count": 34,
      "metadata": {
        "colab": {
          "base_uri": "https://localhost:8080/"
        },
        "id": "9Ek6rurssQXj",
        "outputId": "9efb756b-355c-4bb3-c021-bd680ab7649c"
      },
      "outputs": [
        {
          "output_type": "stream",
          "name": "stdout",
          "text": [
            "2.8.0\n",
            "Epoch 1/5\n",
            "1875/1875 [==============================] - 35s 6ms/step - loss: 0.5003 - accuracy: 0.8196\n",
            "Epoch 2/5\n",
            "1875/1875 [==============================] - 12s 6ms/step - loss: 0.3380 - accuracy: 0.8783\n",
            "Epoch 3/5\n",
            "1875/1875 [==============================] - 12s 6ms/step - loss: 0.2898 - accuracy: 0.8967\n",
            "Epoch 4/5\n",
            "1875/1875 [==============================] - 12s 7ms/step - loss: 0.2576 - accuracy: 0.9058\n",
            "Epoch 5/5\n",
            "1875/1875 [==============================] - 12s 6ms/step - loss: 0.2354 - accuracy: 0.9143\n",
            "313/313 [==============================] - 1s 4ms/step - loss: 0.2421 - accuracy: 0.9141\n",
            "[0.2420986294746399, 0.9140999913215637]\n"
          ]
        }
      ],
      "source": [
        "import tensorflow as tf\n",
        "print(tf.__version__)\n",
        "\n",
        "mnist = tf.keras.datasets.fashion_mnist\n",
        "\n",
        "(training_images, training_labels) ,  (test_images, test_labels) = mnist.load_data()\n",
        "\n",
        "training_images = training_images/255.0\n",
        "test_images = test_images/255.0\n",
        "\n",
        "model = tf.keras.models.Sequential([\n",
        "    tf.keras.layers.Input(shape = (28,28,1)),\n",
        "    tf.keras.layers.Conv2D(filters=32, kernel_size=(3,3), strides=(1,1), padding='same', activation = tf.nn.relu),\n",
        "    tf.keras.layers.MaxPooling2D(pool_size = (2,2)),\n",
        "    tf.keras.layers.Conv2D(filters=64, kernel_size=(3,3), strides=(1,1), padding='same', activation = tf.nn.relu),\n",
        "    tf.keras.layers.MaxPooling2D(pool_size = (2,2)),\n",
        "    tf.keras.layers.Flatten(),\n",
        "    tf.keras.layers.Dense(128, activation= tf.nn.relu),\n",
        "    tf.keras.layers.Dropout(0.5),\n",
        "    tf.keras.layers.Dense(10, activation = tf.nn.softmax)\n",
        "])\n",
        "\n",
        "model.compile(optimizer = 'adam',\n",
        "              loss = 'sparse_categorical_crossentropy', metrics = ['accuracy'])\n",
        "\n",
        "model.fit(training_images.reshape(-1,28,28,1), training_labels, epochs=5)\n",
        "\n",
        "print(model.evaluate(test_images.reshape(-1,28,28,1), test_labels))"
      ]
    },
    {
      "cell_type": "markdown",
      "source": [
        "I got around 91.4% accuracy, which is about the same as the base model."
      ],
      "metadata": {
        "id": "h886J3ND7Or2"
      }
    },
    {
      "cell_type": "markdown",
      "metadata": {
        "id": "p6yYfXJbsQXj"
      },
      "source": [
        "# Exercise 5: Filter size 5x5\n",
        "What if we use a larger filter size?"
      ]
    },
    {
      "cell_type": "code",
      "execution_count": 23,
      "metadata": {
        "colab": {
          "base_uri": "https://localhost:8080/",
          "height": 495
        },
        "id": "jnogDqI-sQXj",
        "outputId": "2f2cb41a-891d-4527-d939-d40441f87225"
      },
      "outputs": [
        {
          "output_type": "stream",
          "name": "stdout",
          "text": [
            "2.8.0\n",
            "Epoch 1/5\n",
            "1875/1875 [==============================] - 9s 4ms/step - loss: 0.4090 - accuracy: 0.8547\n",
            "Epoch 2/5\n",
            "1875/1875 [==============================] - 8s 4ms/step - loss: 0.2786 - accuracy: 0.8991\n",
            "Epoch 3/5\n",
            "1875/1875 [==============================] - 8s 4ms/step - loss: 0.2357 - accuracy: 0.9136\n",
            "Epoch 4/5\n",
            "1875/1875 [==============================] - 8s 4ms/step - loss: 0.2014 - accuracy: 0.9257\n",
            "Epoch 5/5\n",
            "1875/1875 [==============================] - 8s 4ms/step - loss: 0.1763 - accuracy: 0.9336\n",
            "313/313 [==============================] - 1s 3ms/step - loss: 0.2602 - accuracy: 0.9117\n",
            "[0.26022160053253174, 0.9117000102996826]\n",
            "Filter weights in conv2d_13 layer\n"
          ]
        },
        {
          "output_type": "display_data",
          "data": {
            "text/plain": [
              "<Figure size 1440x288 with 32 Axes>"
            ],
            "image/png": "[encoded data removed]"
          },
          "metadata": {
            "needs_background": "light"
          }
        }
      ],
      "source": [
        "import tensorflow as tf\n",
        "print(tf.__version__)\n",
        "\n",
        "mnist = tf.keras.datasets.fashion_mnist\n",
        "\n",
        "(training_images, training_labels) ,  (test_images, test_labels) = mnist.load_data()\n",
        "\n",
        "training_images = training_images/255.0\n",
        "test_images = test_images/255.0\n",
        "\n",
        "model = tf.keras.models.Sequential([\n",
        "    tf.keras.layers.Input(shape = (28,28,1)),\n",
        "    tf.keras.layers.Conv2D(filters=16, kernel_size=(5,5), strides=(1,1), padding='same', activation = tf.nn.relu),\n",
        "    tf.keras.layers.MaxPooling2D(pool_size = (2,2)),\n",
        "    tf.keras.layers.Flatten(),\n",
        "    tf.keras.layers.Dense(128, activation= tf.nn.relu),\n",
        "    tf.keras.layers.Dense(10, activation = tf.nn.softmax)\n",
        "])\n",
        "\n",
        "model.compile(optimizer = 'adam',\n",
        "              loss = 'sparse_categorical_crossentropy', metrics = ['accuracy'])\n",
        "\n",
        "model.fit(training_images.reshape(-1,28,28,1), training_labels, epochs=5)\n",
        "\n",
        "print(model.evaluate(test_images.reshape(-1,28,28,1), test_labels))\n",
        "\n",
        "visualize_filters(model)"
      ]
    },
    {
      "cell_type": "markdown",
      "source": [
        "I got around 91.2% accuracy, which is about the same as the base model. The filter weights show more well defined shapes, which can be useful if there is only one Conv2D layer like this model, but also can be less general when used for subsequent layers which require combining features from the earlier layers."
      ],
      "metadata": {
        "id": "9my7--eO7UV-"
      }
    },
    {
      "cell_type": "markdown",
      "metadata": {
        "id": "rqYFzmT8sQXj"
      },
      "source": [
        "# Exercise 6: Stride size 2\n",
        "What if we use a larger stride size?"
      ]
    },
    {
      "cell_type": "code",
      "execution_count": 24,
      "metadata": {
        "id": "QC68e8tOsQXk",
        "colab": {
          "base_uri": "https://localhost:8080/"
        },
        "outputId": "7b019050-d424-479f-b1b9-5631e5d2c05f"
      },
      "outputs": [
        {
          "output_type": "stream",
          "name": "stdout",
          "text": [
            "2.8.0\n",
            "Epoch 1/5\n",
            "1875/1875 [==============================] - 7s 3ms/step - loss: 0.5016 - accuracy: 0.8222\n",
            "Epoch 2/5\n",
            "1875/1875 [==============================] - 8s 4ms/step - loss: 0.3449 - accuracy: 0.8768\n",
            "Epoch 3/5\n",
            "1875/1875 [==============================] - 8s 4ms/step - loss: 0.2988 - accuracy: 0.8919\n",
            "Epoch 4/5\n",
            "1875/1875 [==============================] - 8s 4ms/step - loss: 0.2702 - accuracy: 0.9015\n",
            "Epoch 5/5\n",
            "1875/1875 [==============================] - 7s 4ms/step - loss: 0.2463 - accuracy: 0.9106\n",
            "313/313 [==============================] - 1s 3ms/step - loss: 0.2822 - accuracy: 0.8998\n"
          ]
        },
        {
          "output_type": "execute_result",
          "data": {
            "text/plain": [
              "[0.28221291303634644, 0.8998000025749207]"
            ]
          },
          "metadata": {},
          "execution_count": 24
        }
      ],
      "source": [
        "import tensorflow as tf\n",
        "print(tf.__version__)\n",
        "\n",
        "mnist = tf.keras.datasets.fashion_mnist\n",
        "\n",
        "(training_images, training_labels) ,  (test_images, test_labels) = mnist.load_data()\n",
        "\n",
        "training_images = training_images/255.0\n",
        "test_images = test_images/255.0\n",
        "\n",
        "model = tf.keras.models.Sequential([\n",
        "    tf.keras.layers.Input(shape = (28,28,1)),\n",
        "    tf.keras.layers.Conv2D(filters=16, kernel_size=(3,3), strides=(2,2), padding='same', activation = tf.nn.relu),\n",
        "    tf.keras.layers.MaxPooling2D(pool_size = (2,2)),\n",
        "    tf.keras.layers.Flatten(),\n",
        "    tf.keras.layers.Dense(128, activation= tf.nn.relu),\n",
        "    tf.keras.layers.Dense(10, activation = tf.nn.softmax)\n",
        "])\n",
        "\n",
        "model.compile(optimizer = 'adam',\n",
        "              loss = 'sparse_categorical_crossentropy', metrics = ['accuracy'])\n",
        "\n",
        "model.fit(training_images.reshape(-1,28,28,1), training_labels, epochs=5)\n",
        "\n",
        "model.evaluate(test_images.reshape(-1,28,28,1), test_labels)"
      ]
    },
    {
      "cell_type": "markdown",
      "source": [
        "I got around 90% accuracy, which is lower than the base model. Having stride > 1 decreases the amount of information that passes through to the next model. Hence, while it decreases the layer size in the next layer, it comes at a cost."
      ],
      "metadata": {
        "id": "wEfq142n7bsX"
      }
    },
    {
      "cell_type": "markdown",
      "metadata": {
        "id": "JyieEoSYsQXk"
      },
      "source": [
        "# Exercise 7: Global Average Pooling\n",
        "What if we just use global average pooling instead of fully connected layers at the end?"
      ]
    },
    {
      "cell_type": "code",
      "execution_count": 39,
      "metadata": {
        "colab": {
          "base_uri": "https://localhost:8080/"
        },
        "id": "YXhpRh-IsQXk",
        "outputId": "8112b97e-033a-49c2-85ae-508e419f8fe4"
      },
      "outputs": [
        {
          "output_type": "stream",
          "name": "stdout",
          "text": [
            "2.8.0\n",
            "Epoch 1/5\n",
            "1875/1875 [==============================] - 9s 5ms/step - loss: 1.2688 - accuracy: 0.5357\n",
            "Epoch 2/5\n",
            "1875/1875 [==============================] - 9s 5ms/step - loss: 0.8336 - accuracy: 0.7014\n",
            "Epoch 3/5\n",
            "1875/1875 [==============================] - 8s 4ms/step - loss: 0.7404 - accuracy: 0.7320\n",
            "Epoch 4/5\n",
            "1875/1875 [==============================] - 8s 4ms/step - loss: 0.6922 - accuracy: 0.7476\n",
            "Epoch 5/5\n",
            "1875/1875 [==============================] - 8s 4ms/step - loss: 0.6595 - accuracy: 0.7600\n",
            "313/313 [==============================] - 1s 3ms/step - loss: 0.6771 - accuracy: 0.7488\n"
          ]
        },
        {
          "output_type": "execute_result",
          "data": {
            "text/plain": [
              "[0.6770840883255005, 0.7487999796867371]"
            ]
          },
          "metadata": {},
          "execution_count": 39
        }
      ],
      "source": [
        "import tensorflow as tf\n",
        "print(tf.__version__)\n",
        "\n",
        "mnist = tf.keras.datasets.fashion_mnist\n",
        "\n",
        "(training_images, training_labels) ,  (test_images, test_labels) = mnist.load_data()\n",
        "\n",
        "training_images = training_images/255.0\n",
        "test_images = test_images/255.0\n",
        "\n",
        "model = tf.keras.models.Sequential([\n",
        "    tf.keras.layers.Input(shape = (28,28,1)),\n",
        "    tf.keras.layers.Conv2D(filters=16, kernel_size=(3,3), strides=(1,1), padding='same', activation = tf.nn.relu),\n",
        "    tf.keras.layers.MaxPooling2D(pool_size = (2,2)),\n",
        "    tf.keras.layers.Conv2D(filters=32, kernel_size=(3,3), strides=(1,1), padding='same', activation = tf.nn.relu),\n",
        "    tf.keras.layers.MaxPooling2D(pool_size = (2,2)),\n",
        "    tf.keras.layers.Conv2D(filters=10, kernel_size=(1,1), strides=(1,1), padding='same', activation = tf.nn.relu),   \n",
        "    tf.keras.layers.GlobalAveragePooling2D(),\n",
        "    tf.keras.layers.Dense(10, activation = tf.nn.softmax)\n",
        "])\n",
        "\n",
        "model.compile(optimizer = 'adam',\n",
        "              loss = 'sparse_categorical_crossentropy', metrics = ['accuracy'])\n",
        "\n",
        "model.fit(training_images.reshape(-1,28,28,1), training_labels, epochs=5)\n",
        "\n",
        "model.evaluate(test_images.reshape(-1,28,28,1), test_labels)"
      ]
    },
    {
      "cell_type": "markdown",
      "source": [
        "I got around 74.9% accuracy, which is lower than the base model. Hence, GlobalAveragePooling in this case may not work out that well if we prematurely compress the information into just 10 filters.\n",
        "\n",
        "The typical CNN structure has more filters as we progress down the layers, in order to contain the information from the earlier layers into more buckets, as we reduce the size of each bucket (via MaxPooling etc.)"
      ],
      "metadata": {
        "id": "1ljrRlqY7yli"
      }
    },
    {
      "cell_type": "markdown",
      "source": [
        "# Exercise 8: Try to get > 92% test accuracy\n",
        "\n",
        "Using some or all of the tricks above, try to get > 92% accuracy."
      ],
      "metadata": {
        "id": "-ltlXkT4736A"
      }
    },
    {
      "cell_type": "code",
      "source": [
        "import tensorflow as tf\n",
        "print(tf.__version__)\n",
        "\n",
        "mnist = tf.keras.datasets.fashion_mnist\n",
        "\n",
        "(training_images, training_labels) ,  (test_images, test_labels) = mnist.load_data()\n",
        "\n",
        "training_images = training_images/255.0\n",
        "test_images = test_images/255.0\n",
        "\n",
        "model = tf.keras.models.Sequential([\n",
        "    tf.keras.layers.Input(shape = (28,28,1)),\n",
        "    tf.keras.layers.Conv2D(filters=64, kernel_size=(3,3), strides=(1,1), padding='same', activation = tf.nn.relu),\n",
        "    tf.keras.layers.Conv2D(filters=64, kernel_size=(3,3), strides=(1,1), padding='same', activation = tf.nn.relu),\n",
        "    tf.keras.layers.MaxPooling2D(pool_size = (2,2)),\n",
        "    tf.keras.layers.Conv2D(filters=128, kernel_size=(3,3), strides=(1,1), padding='same', activation = tf.nn.relu),\n",
        "    tf.keras.layers.Conv2D(filters=128, kernel_size=(3,3), strides=(1,1), padding='same', activation = tf.nn.relu),\n",
        "    tf.keras.layers.MaxPooling2D(pool_size = (2,2)),\n",
        "    tf.keras.layers.Flatten(),\n",
        "    tf.keras.layers.Dense(128, activation= tf.nn.relu),\n",
        "    tf.keras.layers.Dropout(0.5),\n",
        "    tf.keras.layers.Dense(10, activation = tf.nn.softmax)\n",
        "])\n",
        "\n",
        "model.compile(optimizer = 'adam',\n",
        "              loss = 'sparse_categorical_crossentropy', metrics = ['accuracy'])\n",
        "\n",
        "model.fit(training_images.reshape(-1,28,28,1), training_labels, epochs=5)\n",
        "\n",
        "model.evaluate(test_images, test_labels)"
      ],
      "metadata": {
        "colab": {
          "base_uri": "https://localhost:8080/"
        },
        "id": "0LoopEdr73sY",
        "outputId": "8d303be2-8896-4ac3-c2c8-d22215105019"
      },
      "execution_count": 33,
      "outputs": [
        {
          "output_type": "stream",
          "name": "stdout",
          "text": [
            "2.8.0\n",
            "Epoch 1/5\n",
            "1875/1875 [==============================] - 36s 19ms/step - loss: 0.4560 - accuracy: 0.8363\n",
            "Epoch 2/5\n",
            "1875/1875 [==============================] - 36s 19ms/step - loss: 0.2860 - accuracy: 0.8982\n",
            "Epoch 3/5\n",
            "1875/1875 [==============================] - 36s 19ms/step - loss: 0.2387 - accuracy: 0.9148\n",
            "Epoch 4/5\n",
            "1875/1875 [==============================] - 36s 19ms/step - loss: 0.2081 - accuracy: 0.9249\n",
            "Epoch 5/5\n",
            "1875/1875 [==============================] - 36s 19ms/step - loss: 0.1826 - accuracy: 0.9334\n",
            "313/313 [==============================] - 3s 8ms/step - loss: 0.2082 - accuracy: 0.9262\n"
          ]
        },
        {
          "output_type": "execute_result",
          "data": {
            "text/plain": [
              "[0.2082330584526062, 0.9261999726295471]"
            ]
          },
          "metadata": {},
          "execution_count": 33
        }
      ]
    },
    {
      "cell_type": "markdown",
      "source": [
        "By having Conv2D layers of 64 filters x2 and 128 filters x2, with a Dropout of 0.5, I was able to achieve test accuracy of 92.6%.\n",
        "\n",
        "Of course, we can further improve the test accuracy via data augmentation, adding \"normalization\" layers such as BatchNormalization, skip connections (e.g. ResNet), transfer learning from a larger dataset, which are beyond the scope of this notebook."
      ],
      "metadata": {
        "id": "P3E1sObeAY95"
      }
    }
  ],
  "metadata": {
    "colab": {
      "collapsed_sections": [],
      "name": "Fashion MNIST (CNN) in TensorFlow.ipynb",
      "provenance": []
    },
    "kernelspec": {
      "display_name": "Python 3",
      "language": "python",
      "name": "python3"
    },
    "language_info": {
      "codemirror_mode": {
        "name": "ipython",
        "version": 3
      },
      "file_extension": ".py",
      "mimetype": "text/x-python",
      "name": "python",
      "nbconvert_exporter": "python",
      "pygments_lexer": "ipython3",
      "version": "3.7.6"
    },
    "accelerator": "GPU"
  },
  "nbformat": 4,
  "nbformat_minor": 0
}