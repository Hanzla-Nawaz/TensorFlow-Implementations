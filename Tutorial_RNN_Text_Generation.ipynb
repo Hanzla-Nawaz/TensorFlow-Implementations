{
  "cells": [
    {
      "cell_type": "markdown",
      "metadata": {
        "id": "t09eeeR5prIJ",
        "papermill": {
          "duration": 0.078286,
          "end_time": "2022-03-16T11:36:01.917192",
          "exception": false,
          "start_time": "2022-03-16T11:36:01.838906",
          "status": "completed"
        },
        "tags": []
      },
      "source": [
        "# Text Generation using RNNs\n",
        "\n",
        "RNN Code modified (and simplified) from TensorFlow Website with additional challenges by John Tan Chong Min (2022).\n",
        "\n",
        "Original Notebook at: https://www.tensorflow.org/text/tutorials/text_generation\n",
        "\n",
        "This notebook generates \n",
        "Shakespearean text using a character-based RNN."
      ],
      "id": "t09eeeR5prIJ"
    },
    {
      "cell_type": "markdown",
      "metadata": {
        "id": "srXC6pLGLwS6",
        "papermill": {
          "duration": 0.074545,
          "end_time": "2022-03-16T11:36:02.829795",
          "exception": false,
          "start_time": "2022-03-16T11:36:02.755250",
          "status": "completed"
        },
        "tags": []
      },
      "source": [
        "## Setup"
      ],
      "id": "srXC6pLGLwS6"
    },
    {
      "cell_type": "markdown",
      "metadata": {
        "id": "WGyKZj3bzf9p",
        "papermill": {
          "duration": 0.071063,
          "end_time": "2022-03-16T11:36:02.973871",
          "exception": false,
          "start_time": "2022-03-16T11:36:02.902808",
          "status": "completed"
        },
        "tags": []
      },
      "source": [
        "### Import TensorFlow and other libraries"
      ],
      "id": "WGyKZj3bzf9p"
    },
    {
      "cell_type": "code",
      "execution_count": 1,
      "metadata": {
        "execution": {
          "iopub.execute_input": "2022-03-16T11:36:03.136322Z",
          "iopub.status.busy": "2022-03-16T11:36:03.135435Z",
          "iopub.status.idle": "2022-03-16T11:36:09.135504Z",
          "shell.execute_reply": "2022-03-16T11:36:09.134702Z"
        },
        "id": "yG_n40gFzf9s",
        "papermill": {
          "duration": 6.086197,
          "end_time": "2022-03-16T11:36:09.135675",
          "exception": false,
          "start_time": "2022-03-16T11:36:03.049478",
          "status": "completed"
        },
        "tags": []
      },
      "outputs": [],
      "source": [
        "import tensorflow as tf\n",
        "\n",
        "import numpy as np\n",
        "import os\n",
        "import time"
      ],
      "id": "yG_n40gFzf9s"
    },
    {
      "cell_type": "markdown",
      "metadata": {
        "id": "EHDoRoc5PKWz",
        "papermill": {
          "duration": 0.074848,
          "end_time": "2022-03-16T11:36:09.287409",
          "exception": false,
          "start_time": "2022-03-16T11:36:09.212561",
          "status": "completed"
        },
        "tags": []
      },
      "source": [
        "### Download the Shakespeare dataset\n",
        "\n",
        "Challenge 1: Change the following line to run this code on your own data."
      ],
      "id": "EHDoRoc5PKWz"
    },
    {
      "cell_type": "code",
      "execution_count": 2,
      "metadata": {
        "execution": {
          "iopub.execute_input": "2022-03-16T11:36:09.475790Z",
          "iopub.status.busy": "2022-03-16T11:36:09.473383Z",
          "iopub.status.idle": "2022-03-16T11:36:11.049247Z",
          "shell.execute_reply": "2022-03-16T11:36:11.048437Z"
        },
        "id": "pD_55cOxLkAb",
        "papermill": {
          "duration": 1.678054,
          "end_time": "2022-03-16T11:36:11.049507",
          "exception": false,
          "start_time": "2022-03-16T11:36:09.371453",
          "status": "completed"
        },
        "tags": [],
        "colab": {
          "base_uri": "https://localhost:8080/"
        },
        "outputId": "ac93a8bc-ab49-4ff9-82e9-2ea8c7a013bc"
      },
      "outputs": [
        {
          "output_type": "stream",
          "name": "stdout",
          "text": [
            "Downloading data from https://storage.googleapis.com/download.tensorflow.org/data/shakespeare.txt\n",
            "1122304/1115394 [==============================] - 0s 0us/step\n",
            "1130496/1115394 [==============================] - 0s 0us/step\n"
          ]
        }
      ],
      "source": [
        "path_to_file = tf.keras.utils.get_file('shakespeare.txt', 'https://storage.googleapis.com/download.tensorflow.org/data/shakespeare.txt')"
      ],
      "id": "pD_55cOxLkAb"
    },
    {
      "cell_type": "markdown",
      "metadata": {
        "id": "UHjdCjDuSvX_",
        "papermill": {
          "duration": 0.073722,
          "end_time": "2022-03-16T11:36:11.200708",
          "exception": false,
          "start_time": "2022-03-16T11:36:11.126986",
          "status": "completed"
        },
        "tags": []
      },
      "source": [
        "### Read the data\n",
        "\n",
        "First, look in the text:"
      ],
      "id": "UHjdCjDuSvX_"
    },
    {
      "cell_type": "code",
      "execution_count": 3,
      "metadata": {
        "execution": {
          "iopub.execute_input": "2022-03-16T11:36:11.358836Z",
          "iopub.status.busy": "2022-03-16T11:36:11.357816Z",
          "iopub.status.idle": "2022-03-16T11:36:11.363527Z",
          "shell.execute_reply": "2022-03-16T11:36:11.364116Z"
        },
        "id": "aavnuByVymwK",
        "outputId": "3c85d8f8-0128-4a37-d0f5-e3f9c5f31234",
        "papermill": {
          "duration": 0.086137,
          "end_time": "2022-03-16T11:36:11.364293",
          "exception": false,
          "start_time": "2022-03-16T11:36:11.278156",
          "status": "completed"
        },
        "tags": [],
        "colab": {
          "base_uri": "https://localhost:8080/"
        }
      },
      "outputs": [
        {
          "output_type": "stream",
          "name": "stdout",
          "text": [
            "Length of text: 1115394 characters\n"
          ]
        }
      ],
      "source": [
        "# Read, then decode for py2 compat.\n",
        "text = open(path_to_file, 'rb').read().decode(encoding='utf-8')\n",
        "# length of text is the number of characters in it\n",
        "print(f'Length of text: {len(text)} characters')"
      ],
      "id": "aavnuByVymwK"
    },
    {
      "cell_type": "code",
      "execution_count": 4,
      "metadata": {
        "execution": {
          "iopub.execute_input": "2022-03-16T11:36:11.714368Z",
          "iopub.status.busy": "2022-03-16T11:36:11.713560Z",
          "iopub.status.idle": "2022-03-16T11:36:11.717309Z",
          "shell.execute_reply": "2022-03-16T11:36:11.716642Z"
        },
        "id": "Duhg9NrUymwO",
        "outputId": "643a0ca4-ed0f-4d37-8034-8f4e11b34592",
        "papermill": {
          "duration": 0.092887,
          "end_time": "2022-03-16T11:36:11.717457",
          "exception": false,
          "start_time": "2022-03-16T11:36:11.624570",
          "status": "completed"
        },
        "tags": [],
        "colab": {
          "base_uri": "https://localhost:8080/"
        }
      },
      "outputs": [
        {
          "output_type": "stream",
          "name": "stdout",
          "text": [
            "First Citizen:\n",
            "Before we proceed any further, hear me speak.\n",
            "\n",
            "All:\n",
            "Speak, speak.\n",
            "\n",
            "First Citizen:\n",
            "You are all resolved rather to die than to famish?\n",
            "\n",
            "All:\n",
            "Resolved. resolved.\n",
            "\n",
            "First Citizen:\n",
            "First, you know Caius Marcius is chief enemy to the people.\n",
            "\n"
          ]
        }
      ],
      "source": [
        "# Take a look at the first 250 characters in text\n",
        "print(text[:250])"
      ],
      "id": "Duhg9NrUymwO"
    },
    {
      "cell_type": "code",
      "execution_count": 5,
      "metadata": {
        "execution": {
          "iopub.execute_input": "2022-03-16T11:36:11.888085Z",
          "iopub.status.busy": "2022-03-16T11:36:11.887045Z",
          "iopub.status.idle": "2022-03-16T11:36:11.891239Z",
          "shell.execute_reply": "2022-03-16T11:36:11.891743Z"
        },
        "id": "IlCgQBRVymwR",
        "outputId": "cef240ad-2b43-45c0-d40e-6eda666fa320",
        "papermill": {
          "duration": 0.097218,
          "end_time": "2022-03-16T11:36:11.891931",
          "exception": false,
          "start_time": "2022-03-16T11:36:11.794713",
          "status": "completed"
        },
        "tags": [],
        "colab": {
          "base_uri": "https://localhost:8080/"
        }
      },
      "outputs": [
        {
          "output_type": "stream",
          "name": "stdout",
          "text": [
            "A total of 65 unique characters:\n",
            "['\\n', ' ', '!', '$', '&', \"'\", ',', '-', '.', '3', ':', ';', '?', 'A', 'B', 'C', 'D', 'E', 'F', 'G', 'H', 'I', 'J', 'K', 'L', 'M', 'N', 'O', 'P', 'Q', 'R', 'S', 'T', 'U', 'V', 'W', 'X', 'Y', 'Z', 'a', 'b', 'c', 'd', 'e', 'f', 'g', 'h', 'i', 'j', 'k', 'l', 'm', 'n', 'o', 'p', 'q', 'r', 's', 't', 'u', 'v', 'w', 'x', 'y', 'z']\n"
          ]
        }
      ],
      "source": [
        "# The unique characters in the file\n",
        "vocab = sorted(set(text))\n",
        "print(f'A total of {len(vocab)} unique characters:')\n",
        "print(sorted(list(set(text))))"
      ],
      "id": "IlCgQBRVymwR"
    },
    {
      "cell_type": "code",
      "execution_count": 6,
      "metadata": {
        "id": "hV474cnaUj-D"
      },
      "outputs": [],
      "source": [
        "char_to_num = {char: num for num, char in enumerate(vocab)}\n",
        "num_to_char = {num: char for num, char in enumerate(vocab)}"
      ],
      "id": "hV474cnaUj-D"
    },
    {
      "cell_type": "markdown",
      "metadata": {
        "id": "DCVhz6GDUj-E"
      },
      "source": [
        "# Split the input text and index the text\n",
        "\n",
        "Pass the indexed text into a TensorFlow dataset, then make the dataset be in batches of *seq_length* + 1.\n",
        "\n",
        "Within each batch, we then make the input text the first *seq_length* characters, and the output text is last *seq_length* characters (input right shifted by 1)."
      ],
      "id": "DCVhz6GDUj-E"
    },
    {
      "cell_type": "code",
      "execution_count": 7,
      "metadata": {
        "id": "71ybMFLkUj-E"
      },
      "outputs": [],
      "source": [
        "def get_text(index_list, default = ' '):\n",
        "    ''' This gets back the text based on a list of indices \n",
        "    If index is not present in dictionary, defaults to ' ' '''\n",
        "    return ''.join(num_to_char[k.numpy()] if k.numpy() in num_to_char else default for k in index_list)\n",
        "\n",
        "def get_indices(char_list, default = 0):\n",
        "    ''' This gets the indices based on the list of text \n",
        "    If character is not present in dictionary, defaults to index 0\n",
        "    '''\n",
        "    return [char_to_num[c] if c in char_to_num else default for c in char_list]"
      ],
      "id": "71ybMFLkUj-E"
    },
    {
      "cell_type": "code",
      "execution_count": 8,
      "metadata": {
        "id": "jF5IAQ34Uj-E"
      },
      "outputs": [],
      "source": [
        "all_ids = get_indices(text)\n",
        "ids_dataset = tf.data.Dataset.from_tensor_slices(all_ids)"
      ],
      "id": "jF5IAQ34Uj-E"
    },
    {
      "cell_type": "code",
      "execution_count": 9,
      "metadata": {
        "colab": {
          "base_uri": "https://localhost:8080/"
        },
        "id": "EED7GV1lUj-F",
        "outputId": "de719e75-a038-42d8-ae1c-7ed196acf1f3"
      },
      "outputs": [
        {
          "output_type": "stream",
          "name": "stdout",
          "text": [
            "tf.Tensor(18, shape=(), dtype=int32) F\n",
            "tf.Tensor(47, shape=(), dtype=int32) i\n",
            "tf.Tensor(56, shape=(), dtype=int32) r\n",
            "tf.Tensor(57, shape=(), dtype=int32) s\n",
            "tf.Tensor(58, shape=(), dtype=int32) t\n",
            "tf.Tensor(1, shape=(), dtype=int32)  \n",
            "tf.Tensor(15, shape=(), dtype=int32) C\n",
            "tf.Tensor(47, shape=(), dtype=int32) i\n",
            "tf.Tensor(58, shape=(), dtype=int32) t\n",
            "tf.Tensor(47, shape=(), dtype=int32) i\n"
          ]
        }
      ],
      "source": [
        "# See the first 10 characters of the text\n",
        "for ids in ids_dataset.take(10):\n",
        "    print(ids, get_text([ids]))"
      ],
      "id": "EED7GV1lUj-F"
    },
    {
      "cell_type": "code",
      "execution_count": 10,
      "metadata": {
        "colab": {
          "base_uri": "https://localhost:8080/"
        },
        "id": "uhWewH7zUj-F",
        "outputId": "16494ba2-b14a-40ff-d810-7d0bee9805e6"
      },
      "outputs": [
        {
          "output_type": "stream",
          "name": "stdout",
          "text": [
            "Indexed Sequence:\n",
            "tf.Tensor(\n",
            "[18 47 56 57 58  1 15 47 58 47 64 43 52 10  0 14 43 44 53 56 43  1 61 43\n",
            "  1 54 56 53 41 43 43 42  1 39 52 63  1 44 59 56 58 46 43 56  6  1 46 43\n",
            " 39 56  1 51 43  1 57 54 43 39 49  8  0  0 13 50 50 10  0 31 54 43 39 49\n",
            "  6  1 57 54 43 39 49  8  0  0 18 47 56 57 58  1 15 47 58 47 64 43 52 10\n",
            "  0 37 53 59  1], shape=(101,), dtype=int32)\n",
            "Actual Sequence:\n",
            "['First Citizen:\\nBefore we proceed any further, hear me speak.\\n\\nAll:\\nSpeak, speak.\\n\\nFirst Citizen:\\nYou ']\n"
          ]
        }
      ],
      "source": [
        "seq_length = 100\n",
        "sequences = ids_dataset.batch(seq_length+1, drop_remainder=True)\n",
        "for seq in sequences.take(1):\n",
        "    print('Indexed Sequence:')\n",
        "    print(seq)\n",
        "    print('Actual Sequence:')\n",
        "    print([get_text(seq)])"
      ],
      "id": "uhWewH7zUj-F"
    },
    {
      "cell_type": "code",
      "execution_count": 11,
      "metadata": {
        "id": "YrdwzEUiUj-F"
      },
      "outputs": [],
      "source": [
        "def split_input_target(sequence):\n",
        "    input_text = tf.squeeze(sequence[:-1])\n",
        "    target_text = tf.squeeze(sequence[1:])\n",
        "    return input_text, target_text"
      ],
      "id": "YrdwzEUiUj-F"
    },
    {
      "cell_type": "code",
      "execution_count": 12,
      "metadata": {
        "id": "r2NRsApUUj-G"
      },
      "outputs": [],
      "source": [
        "dataset = sequences.map(split_input_target)"
      ],
      "id": "r2NRsApUUj-G"
    },
    {
      "cell_type": "code",
      "execution_count": 13,
      "metadata": {
        "colab": {
          "base_uri": "https://localhost:8080/"
        },
        "id": "KMGRgmznUj-G",
        "outputId": "4e212d6b-462e-4687-d360-8bfad9557b95"
      },
      "outputs": [
        {
          "output_type": "stream",
          "name": "stdout",
          "text": [
            "Input shape: (100,)\n",
            "Output shape: (100,)\n",
            "Input : ['First Citizen:\\nBefore we proceed any further, hear me speak.\\n\\nAll:\\nSpeak, speak.\\n\\nFirst Citizen:\\nYou']\n",
            "Target: ['irst Citizen:\\nBefore we proceed any further, hear me speak.\\n\\nAll:\\nSpeak, speak.\\n\\nFirst Citizen:\\nYou ']\n"
          ]
        }
      ],
      "source": [
        "for input_example, target_example in dataset.take(1):\n",
        "    print(\"Input shape:\", input_example.shape)\n",
        "    print(\"Output shape:\", target_example.shape)\n",
        "    print(\"Input :\", [get_text(input_example)])\n",
        "    print(\"Target:\", [get_text(target_example)])"
      ],
      "id": "KMGRgmznUj-G"
    },
    {
      "cell_type": "markdown",
      "metadata": {
        "id": "p7Gm6zwHUj-G"
      },
      "source": [
        "# Creating suitably-sized datasets\n",
        "\n",
        "Add in a buffer so that we do not load the entire dataset at one go (this dataset is huge).\n",
        "We also add in batching for faster training."
      ],
      "id": "p7Gm6zwHUj-G"
    },
    {
      "cell_type": "code",
      "execution_count": 14,
      "metadata": {
        "id": "G9yr7jNcUj-G"
      },
      "outputs": [],
      "source": [
        "# Batch size\n",
        "BATCH_SIZE = 64\n",
        "\n",
        "# Buffer size to shuffle the dataset\n",
        "# (TF data is designed to work with possibly infinite sequences,\n",
        "# so it doesn't attempt to shuffle the entire sequence in memory. Instead,\n",
        "# it maintains a buffer in which it shuffles elements).\n",
        "BUFFER_SIZE = 10000\n",
        "\n",
        "dataset = (\n",
        "    dataset\n",
        "    .shuffle(BUFFER_SIZE)\n",
        "    .batch(BATCH_SIZE, drop_remainder=True)\n",
        "    .prefetch(tf.data.experimental.AUTOTUNE))"
      ],
      "id": "G9yr7jNcUj-G"
    },
    {
      "cell_type": "markdown",
      "metadata": {
        "id": "r6oUuElIMgVx",
        "papermill": {
          "duration": 0.086166,
          "end_time": "2022-03-16T11:36:18.737364",
          "exception": false,
          "start_time": "2022-03-16T11:36:18.651198",
          "status": "completed"
        },
        "tags": []
      },
      "source": [
        "## Build The Model"
      ],
      "id": "r6oUuElIMgVx"
    },
    {
      "cell_type": "markdown",
      "metadata": {
        "id": "RkA5upJIJ7W7",
        "papermill": {
          "duration": 0.085161,
          "end_time": "2022-03-16T11:36:19.645295",
          "exception": false,
          "start_time": "2022-03-16T11:36:19.560134",
          "status": "completed"
        },
        "tags": []
      },
      "source": [
        "For each character the model looks up the embedding, we run the GRU one timestep with the embedding as input, and apply the dense layer to generate logits predicting the log-likelihood of the next character:\n",
        "\n",
        "![A drawing of the data passing through the model](https://github.com/tensorflow/text/blob/master/docs/tutorials/images/text_generation_training.png?raw=1)"
      ],
      "id": "RkA5upJIJ7W7"
    },
    {
      "cell_type": "markdown",
      "metadata": {
        "id": "m8gPwEjRzf-Z",
        "papermill": {
          "duration": 0.082566,
          "end_time": "2022-03-16T11:36:18.905109",
          "exception": false,
          "start_time": "2022-03-16T11:36:18.822543",
          "status": "completed"
        },
        "tags": []
      },
      "source": [
        "This model has three layers:\n",
        "\n",
        "* `tf.keras.layers.Embedding`: The input layer. A trainable lookup table that will map each character-ID to a vector with `embedding_dim` dimensions;\n",
        "* `tf.keras.layers.GRU`: A type of RNN with size `units=rnn_units` (You can also use an LSTM layer here.)\n",
        "* `tf.keras.layers.Dense`: The output layer, with `vocab_size` outputs. It outputs one logit for each character in the vocabulary. These are the log-likelihood of each character according to the model.\n",
        "\n",
        "The model takes in an entire *seq_length* of text as an input (can be any length), and outputs logit probabilities of the next character for each character of the input."
      ],
      "id": "m8gPwEjRzf-Z"
    },
    {
      "cell_type": "code",
      "execution_count": 15,
      "metadata": {
        "execution": {
          "iopub.execute_input": "2022-03-16T11:36:19.081151Z",
          "iopub.status.busy": "2022-03-16T11:36:19.080339Z",
          "iopub.status.idle": "2022-03-16T11:36:19.082537Z",
          "shell.execute_reply": "2022-03-16T11:36:19.083093Z"
        },
        "id": "zHT8cLh7EAsg",
        "papermill": {
          "duration": 0.093165,
          "end_time": "2022-03-16T11:36:19.083289",
          "exception": false,
          "start_time": "2022-03-16T11:36:18.990124",
          "status": "completed"
        },
        "tags": []
      },
      "outputs": [],
      "source": [
        "# Length of the vocabulary in chars\n",
        "vocab_size = len(vocab)\n",
        "\n",
        "# The embedding dimension\n",
        "embedding_dim = 256\n",
        "\n",
        "# Number of RNN hidden nodes\n",
        "rnn_units = 1024"
      ],
      "id": "zHT8cLh7EAsg"
    },
    {
      "cell_type": "code",
      "execution_count": 16,
      "metadata": {
        "id": "FFbgTbRwUj-H"
      },
      "outputs": [],
      "source": [
        "model = tf.keras.models.Sequential([\n",
        "    tf.keras.layers.Input(batch_input_shape = (None, None)),\n",
        "    tf.keras.layers.Embedding(vocab_size, embedding_dim), \n",
        "    # Let us create a GRU layer which returns all intermediate sequences\n",
        "    # Challenge 2: For RNN use tf.keras.layers.SimpleRNN, For LSTM use tf.keras.layers.LSTM\n",
        "    tf.keras.layers.GRU(rnn_units, return_sequences = True), # Note you can also try out RNN or LSTM\n",
        "    tf.keras.layers.Dense(vocab_size, activation = tf.nn.softmax)]\n",
        ")"
      ],
      "id": "FFbgTbRwUj-H"
    },
    {
      "cell_type": "markdown",
      "source": [
        "We can also run a similar code using the Functional API. Check it out by uncommenting the cell below!"
      ],
      "metadata": {
        "id": "bR0SP8wwfuF3"
      },
      "id": "bR0SP8wwfuF3"
    },
    {
      "cell_type": "code",
      "source": [
        "# inputs = tf.keras.layers.Input(batch_input_shape = (None, None))\n",
        "# x = tf.keras.layers.Embedding(vocab_size, embedding_dim)(inputs)\n",
        "# x = tf.keras.layers.GRU(rnn_units, return_sequences = True)(x)\n",
        "# outputs = tf.keras.layers.Dense(vocab_size, activation = tf.nn.softmax)(x)\n",
        "# model = tf.keras.Model(inputs = inputs, outputs = outputs)"
      ],
      "metadata": {
        "id": "jauMLRynfeZk"
      },
      "id": "jauMLRynfeZk",
      "execution_count": 17,
      "outputs": []
    },
    {
      "cell_type": "markdown",
      "metadata": {
        "id": "Q6NzLBi4VM4o",
        "papermill": {
          "duration": 0.092412,
          "end_time": "2022-03-16T11:36:25.470717",
          "exception": false,
          "start_time": "2022-03-16T11:36:25.378305",
          "status": "completed"
        },
        "tags": []
      },
      "source": [
        "In the above example the sequence length of the input is `100` but the model can be run on inputs of any length:"
      ],
      "id": "Q6NzLBi4VM4o"
    },
    {
      "cell_type": "code",
      "execution_count": 18,
      "metadata": {
        "execution": {
          "iopub.execute_input": "2022-03-16T11:36:25.663897Z",
          "iopub.status.busy": "2022-03-16T11:36:25.662465Z",
          "iopub.status.idle": "2022-03-16T11:36:25.668781Z",
          "shell.execute_reply": "2022-03-16T11:36:25.667803Z"
        },
        "id": "vPGmAAXmVLGC",
        "outputId": "2a0efeef-773d-44fb-9ec7-735a6377d782",
        "papermill": {
          "duration": 0.107527,
          "end_time": "2022-03-16T11:36:25.668997",
          "exception": false,
          "start_time": "2022-03-16T11:36:25.561470",
          "status": "completed"
        },
        "tags": [],
        "colab": {
          "base_uri": "https://localhost:8080/"
        }
      },
      "outputs": [
        {
          "output_type": "stream",
          "name": "stdout",
          "text": [
            "Model: \"sequential\"\n",
            "_________________________________________________________________\n",
            " Layer (type)                Output Shape              Param #   \n",
            "=================================================================\n",
            " embedding (Embedding)       (None, None, 256)         16640     \n",
            "                                                                 \n",
            " gru (GRU)                   (None, None, 1024)        3938304   \n",
            "                                                                 \n",
            " dense (Dense)               (None, None, 65)          66625     \n",
            "                                                                 \n",
            "=================================================================\n",
            "Total params: 4,021,569\n",
            "Trainable params: 4,021,569\n",
            "Non-trainable params: 0\n",
            "_________________________________________________________________\n"
          ]
        }
      ],
      "source": [
        "model.summary()"
      ],
      "id": "vPGmAAXmVLGC"
    },
    {
      "cell_type": "code",
      "execution_count": 19,
      "metadata": {
        "colab": {
          "base_uri": "https://localhost:8080/",
          "height": 369
        },
        "id": "OM7jEonrUj-I",
        "outputId": "e3236d4f-df4c-45d7-c27d-38e1cf2f2190"
      },
      "outputs": [
        {
          "output_type": "execute_result",
          "data": {
            "text/plain": [
              "<IPython.core.display.Image object>"
            ],
            "image/png": "[encoded data removed]"
          },
          "metadata": {},
          "execution_count": 19
        }
      ],
      "source": [
        "tf.keras.utils.plot_model(model)"
      ],
      "id": "OM7jEonrUj-I"
    },
    {
      "cell_type": "code",
      "execution_count": 20,
      "metadata": {
        "execution": {
          "iopub.execute_input": "2022-03-16T11:36:28.904265Z",
          "iopub.status.busy": "2022-03-16T11:36:28.903364Z",
          "iopub.status.idle": "2022-03-16T11:36:28.917000Z",
          "shell.execute_reply": "2022-03-16T11:36:28.917516Z"
        },
        "id": "DDl1_Een6rL0",
        "papermill": {
          "duration": 0.113405,
          "end_time": "2022-03-16T11:36:28.917744",
          "exception": false,
          "start_time": "2022-03-16T11:36:28.804339",
          "status": "completed"
        },
        "tags": []
      },
      "outputs": [],
      "source": [
        "model.compile(optimizer = tf.optimizers.Adam(),\n",
        "              loss = 'sparse_categorical_crossentropy',\n",
        "              metrics=['accuracy'])"
      ],
      "id": "DDl1_Een6rL0"
    },
    {
      "cell_type": "code",
      "source": [
        "for i, o in dataset.take(1):\n",
        "  print('Input (with batch dimension) shape:', i.shape, 'Output (with batch dimension) shape:', o.shape)"
      ],
      "metadata": {
        "colab": {
          "base_uri": "https://localhost:8080/"
        },
        "id": "Yx0R1Ficf_Lh",
        "outputId": "c807137e-546f-4e4f-8b72-8846f4ab7ae4"
      },
      "id": "Yx0R1Ficf_Lh",
      "execution_count": 21,
      "outputs": [
        {
          "output_type": "stream",
          "name": "stdout",
          "text": [
            "Input (with batch dimension) shape: (64, 100) Output (with batch dimension) shape: (64, 100)\n"
          ]
        }
      ]
    },
    {
      "cell_type": "code",
      "execution_count": 22,
      "metadata": {
        "colab": {
          "base_uri": "https://localhost:8080/"
        },
        "id": "7md6UenCUj-I",
        "outputId": "1516be09-b2f6-4d2d-e6c8-25157fa73b99"
      },
      "outputs": [
        {
          "output_type": "stream",
          "name": "stdout",
          "text": [
            "Epoch 1/5\n",
            "172/172 [==============================] - 32s 140ms/step - loss: 2.7301 - accuracy: 0.2781\n",
            "Epoch 2/5\n",
            "172/172 [==============================] - 25s 138ms/step - loss: 1.9905 - accuracy: 0.4181\n",
            "Epoch 3/5\n",
            "172/172 [==============================] - 25s 138ms/step - loss: 1.7145 - accuracy: 0.4915\n",
            "Epoch 4/5\n",
            "172/172 [==============================] - 25s 137ms/step - loss: 1.5539 - accuracy: 0.5338\n",
            "Epoch 5/5\n",
            "172/172 [==============================] - 25s 137ms/step - loss: 1.4550 - accuracy: 0.5595\n"
          ]
        },
        {
          "output_type": "execute_result",
          "data": {
            "text/plain": [
              "<keras.callbacks.History at 0x7f4530204310>"
            ]
          },
          "metadata": {},
          "execution_count": 22
        }
      ],
      "source": [
        "model.fit(dataset, epochs=5)"
      ],
      "id": "7md6UenCUj-I"
    },
    {
      "cell_type": "markdown",
      "metadata": {
        "id": "uwv0gEkURfx1",
        "papermill": {
          "duration": 0.092919,
          "end_time": "2022-03-16T11:36:25.852269",
          "exception": false,
          "start_time": "2022-03-16T11:36:25.759350",
          "status": "completed"
        },
        "tags": []
      },
      "source": [
        "To get actual predictions from the model you need to sample from the output distribution, to get actual character indices. This distribution is defined by the logits over the character vocabulary.\n",
        "\n",
        "Note: It is important to _sample_ from this distribution as taking the _argmax_ of the distribution can easily get the model stuck in a loop."
      ],
      "id": "uwv0gEkURfx1"
    },
    {
      "cell_type": "markdown",
      "metadata": {
        "id": "kKkD5M6eoSiN",
        "papermill": {
          "duration": 0.761835,
          "end_time": "2022-03-16T12:47:55.186076",
          "exception": false,
          "start_time": "2022-03-16T12:47:54.424241",
          "status": "completed"
        },
        "tags": []
      },
      "source": [
        "## Generate text"
      ],
      "id": "kKkD5M6eoSiN"
    },
    {
      "cell_type": "markdown",
      "metadata": {
        "id": "oIdQ8c8NvMzV",
        "papermill": {
          "duration": 0.767086,
          "end_time": "2022-03-16T12:47:56.740452",
          "exception": false,
          "start_time": "2022-03-16T12:47:55.973366",
          "status": "completed"
        },
        "tags": []
      },
      "source": [
        "We will feed in an input of one character, and ask the model to predict the next character.\n",
        "\n",
        "The next character is sampled based on the logits output at the current time step, and fed to the model in the next time step.\n",
        "\n",
        "\n",
        "For the next character, we will feed in the entire set of characters from start time till that character, and ask the model to do the prediction. (NOTE: We could also do it by passing the model's internal state each time step to the next time step, and then just pass through one character, but doing so will require to do more complicated modelling.)\n",
        "\n",
        "![To generate text the model's output is fed back to the input](https://github.com/tensorflow/text/blob/master/docs/tutorials/images/text_generation_sampling.png?raw=1)"
      ],
      "id": "oIdQ8c8NvMzV"
    },
    {
      "cell_type": "code",
      "source": [
        "def generate_next_char(input_text = \"ROMEO:\", temp = 0.02):\n",
        "\n",
        "  ''' Given the input text, generate the next character\n",
        "  Inputs: \n",
        "  input_text (str): The text from start till now\n",
        "  temp (float): Controls how random the sampling is (< 1: similar to argmax, > 1: more random, = 1: original softmax probabilities)\n",
        "  '''\n",
        "\n",
        "  predicted_logits = model(tf.reshape(tf.convert_to_tensor(get_indices(input_text)), (1, -1)))\n",
        "\n",
        "  # Only use the last logit prediction\n",
        "  predicted_logits = predicted_logits[:, -1, :]\n",
        "  predicted_logits = predicted_logits/temp\n",
        "\n",
        "  # Sample the output logits to generate token IDs.\n",
        "  predicted_ids = tf.random.categorical(predicted_logits, num_samples=1)[0]\n",
        "  return get_text(predicted_ids)"
      ],
      "metadata": {
        "id": "vFu2kscoW9RI"
      },
      "id": "vFu2kscoW9RI",
      "execution_count": 23,
      "outputs": []
    },
    {
      "cell_type": "code",
      "source": [
        "print(generate_next_char(\"ROMEO: \"))"
      ],
      "metadata": {
        "colab": {
          "base_uri": "https://localhost:8080/"
        },
        "id": "Ekfd_sCVqdHl",
        "outputId": "47370f1e-5e71-4d0b-f7e1-ed9aa50cee0d"
      },
      "id": "Ekfd_sCVqdHl",
      "execution_count": 24,
      "outputs": [
        {
          "output_type": "stream",
          "name": "stdout",
          "text": [
            "I\n"
          ]
        }
      ]
    },
    {
      "cell_type": "markdown",
      "metadata": {
        "id": "p9yDoa0G3IgQ",
        "papermill": {
          "duration": 0.800943,
          "end_time": "2022-03-16T12:48:03.067164",
          "exception": false,
          "start_time": "2022-03-16T12:48:02.266221",
          "status": "completed"
        },
        "tags": []
      },
      "source": [
        "Run it in a loop to generate some text. Looking at the generated text, you'll see the model knows when to capitalize, make paragraphs and imitates a Shakespeare-like writing vocabulary. With the small number of training epochs, it has not yet learned to form coherent sentences."
      ],
      "id": "p9yDoa0G3IgQ"
    },
    {
      "cell_type": "code",
      "execution_count": 25,
      "metadata": {
        "execution": {
          "iopub.execute_input": "2022-03-16T12:48:04.638404Z",
          "iopub.status.busy": "2022-03-16T12:48:04.631908Z",
          "iopub.status.idle": "2022-03-16T12:48:08.726797Z",
          "shell.execute_reply": "2022-03-16T12:48:08.727643Z"
        },
        "id": "ST7PSyk9t1mT",
        "outputId": "bf13682b-1a5f-4328-ead2-458689476204",
        "papermill": {
          "duration": 4.877571,
          "end_time": "2022-03-16T12:48:08.727904",
          "exception": false,
          "start_time": "2022-03-16T12:48:03.850333",
          "status": "completed"
        },
        "tags": [],
        "colab": {
          "base_uri": "https://localhost:8080/"
        }
      },
      "outputs": [
        {
          "output_type": "stream",
          "name": "stdout",
          "text": [
            "ROMEO:\n",
            "The first thou hast not so the world in the brother\n",
            "That the matter that the prince of his country,\n",
            "That have been so fair and all the seatest of the wind\n",
            "That have been so fair and unto the prince.\n",
            "\n",
            "KING RICHARD III:\n",
            "What should be so for the sentence of the seaters of the Bolingbroke.\n",
            "\n",
            "KING RICHARD III:\n",
            "The sent the prince of his country and the prince of his country\n",
            "That which the best of the \n",
            "\n",
            "Run time: 6.238189697265625\n"
          ]
        }
      ],
      "source": [
        "start = time.time()\n",
        "num_char = 400      # Number of characters to generate\n",
        "num_prev_char = 100 # Number of previous characters to focus on\n",
        "mytext = \"ROMEO:\"\n",
        "\n",
        "for n in range(num_char):\n",
        "  next_char = generate_next_char(mytext[-num_prev_char:])\n",
        "  mytext += next_char\n",
        "\n",
        "print(mytext)\n",
        "end = time.time()\n",
        "print('\\nRun time:', end - start)"
      ],
      "id": "ST7PSyk9t1mT"
    },
    {
      "cell_type": "markdown",
      "source": [
        "# Additional Challenges\n",
        "\n",
        "Have fun playing around with this code and learn about RNNs!\n",
        "\n",
        "- Challenge 1: Use your own dataset and run the code to see if it can fit to your dataset\n",
        "- Challenge 2: Change the code to LSTM / RNN and test out which is better\n",
        "- Challenge 3: See if you can improve the output plausibility by modifying the embedding_dim, rnn_units, or epochs. (Hint: epochs is the most straightforward)\n",
        "\n",
        "\n",
        "For Challenge 2, for the same number of training epochs, you will find that LSTM/GRU model outputs are significantly better than those of RNN. This may be due to the \"vanishing/exploding\" gradient problem in the vanilla RNN."
      ],
      "metadata": {
        "id": "At_WyIZ4rZHc"
      },
      "id": "At_WyIZ4rZHc"
    },
    {
      "cell_type": "markdown",
      "source": [
        "# Advanced Challenge\n",
        "Can the model still work if we replace the Embedding Layer with One Hot Encoding instead?"
      ],
      "metadata": {
        "id": "qUzJGTbf5PRj"
      },
      "id": "qUzJGTbf5PRj"
    },
    {
      "cell_type": "code",
      "source": [
        "preprocessing_layer = tf.keras.layers.CategoryEncoding(vocab_size, 'one_hot')\n",
        "\n",
        "dataset2 = sequences.map(split_input_target)\n",
        "dataset2 = (\n",
        "    dataset2\n",
        "    .map(lambda x, y: (preprocessing_layer(x), y))\n",
        "    .shuffle(BUFFER_SIZE)\n",
        "    .batch(BATCH_SIZE, drop_remainder=True)\n",
        "    .prefetch(tf.data.experimental.AUTOTUNE))"
      ],
      "metadata": {
        "id": "Mlwvz-exvTXg"
      },
      "id": "Mlwvz-exvTXg",
      "execution_count": 26,
      "outputs": []
    },
    {
      "cell_type": "code",
      "source": [
        "for i, o in dataset2.take(1):\n",
        "  print(i.shape, o.shape)"
      ],
      "metadata": {
        "colab": {
          "base_uri": "https://localhost:8080/"
        },
        "id": "znmnY-Vk6Yc_",
        "outputId": "cb4fb966-ebff-40a5-e510-3ee429a19386"
      },
      "id": "znmnY-Vk6Yc_",
      "execution_count": 27,
      "outputs": [
        {
          "output_type": "stream",
          "name": "stdout",
          "text": [
            "(64, 100, 65) (64, 100)\n"
          ]
        }
      ]
    },
    {
      "cell_type": "markdown",
      "source": [
        "Redo the model with the new one-hot-encoding prepocessing and remove Embedding layer."
      ],
      "metadata": {
        "id": "E5xUGWaD6q8H"
      },
      "id": "E5xUGWaD6q8H"
    },
    {
      "cell_type": "code",
      "source": [
        "model2 = tf.keras.models.Sequential([\n",
        "    tf.keras.layers.Input(batch_input_shape = (None, None, vocab_size)),\n",
        "    tf.keras.layers.GRU(rnn_units, return_sequences = True), \n",
        "    tf.keras.layers.Dense(vocab_size, activation = tf.nn.softmax)]\n",
        ")"
      ],
      "metadata": {
        "id": "rfcbtHi46jaT"
      },
      "id": "rfcbtHi46jaT",
      "execution_count": 28,
      "outputs": []
    },
    {
      "cell_type": "code",
      "source": [
        "model2.summary()"
      ],
      "metadata": {
        "colab": {
          "base_uri": "https://localhost:8080/"
        },
        "id": "g1ToOcxG6xHy",
        "outputId": "34311ab2-cc46-40cc-f68d-68ee6898a5d3"
      },
      "id": "g1ToOcxG6xHy",
      "execution_count": 29,
      "outputs": [
        {
          "output_type": "stream",
          "name": "stdout",
          "text": [
            "Model: \"sequential_1\"\n",
            "_________________________________________________________________\n",
            " Layer (type)                Output Shape              Param #   \n",
            "=================================================================\n",
            " gru_1 (GRU)                 (None, None, 1024)        3351552   \n",
            "                                                                 \n",
            " dense_1 (Dense)             (None, None, 65)          66625     \n",
            "                                                                 \n",
            "=================================================================\n",
            "Total params: 3,418,177\n",
            "Trainable params: 3,418,177\n",
            "Non-trainable params: 0\n",
            "_________________________________________________________________\n"
          ]
        }
      ]
    },
    {
      "cell_type": "code",
      "source": [
        "model2.compile(optimizer = tf.optimizers.Adam(),\n",
        "              loss = 'sparse_categorical_crossentropy',\n",
        "              metrics=['accuracy'])"
      ],
      "metadata": {
        "id": "FsCdakgC6yMD"
      },
      "id": "FsCdakgC6yMD",
      "execution_count": 30,
      "outputs": []
    },
    {
      "cell_type": "code",
      "source": [
        "model2.fit(dataset2, epochs=5)"
      ],
      "metadata": {
        "colab": {
          "base_uri": "https://localhost:8080/"
        },
        "id": "chGFkTsd62C0",
        "outputId": "1eab3ff1-6b61-4eb3-de50-99c00fc063a9"
      },
      "id": "chGFkTsd62C0",
      "execution_count": 31,
      "outputs": [
        {
          "output_type": "stream",
          "name": "stdout",
          "text": [
            "Epoch 1/5\n",
            "172/172 [==============================] - 25s 125ms/step - loss: 2.8971 - accuracy: 0.2465\n",
            "Epoch 2/5\n",
            "172/172 [==============================] - 24s 126ms/step - loss: 2.1988 - accuracy: 0.3705\n",
            "Epoch 3/5\n",
            "172/172 [==============================] - 24s 125ms/step - loss: 2.0188 - accuracy: 0.4154\n",
            "Epoch 4/5\n",
            "172/172 [==============================] - 24s 125ms/step - loss: 1.8677 - accuracy: 0.4520\n",
            "Epoch 5/5\n",
            "172/172 [==============================] - 24s 125ms/step - loss: 1.7437 - accuracy: 0.4835\n"
          ]
        },
        {
          "output_type": "execute_result",
          "data": {
            "text/plain": [
              "<keras.callbacks.History at 0x7f45b2ee4810>"
            ]
          },
          "metadata": {},
          "execution_count": 31
        }
      ]
    },
    {
      "cell_type": "code",
      "source": [
        "def generate_next_char_onehot(input_text = \"ROMEO:\", temp = 0.02):\n",
        "\n",
        "  ''' Given the input text, generate the next character using one-hot encoding\n",
        "  Inputs: \n",
        "  input_text (str): The text from start till now\n",
        "  temp (float): Controls how random the sampling is (< 1: similar to argmax, > 1: more random, = 1: original softmax probabilities)\n",
        "  '''\n",
        "\n",
        "  indices = tf.reshape(tf.convert_to_tensor(get_indices(input_text)), (1, -1))\n",
        "  predicted_logits = model2(tf.one_hot(indices, vocab_size))\n",
        "\n",
        "  # Only use the last logit prediction\n",
        "  predicted_logits = predicted_logits[:, -1, :]\n",
        "  predicted_logits = predicted_logits/temp\n",
        "\n",
        "  # Sample the output logits to generate token IDs.\n",
        "  predicted_ids = tf.random.categorical(predicted_logits, num_samples=1)[0]\n",
        "  return get_text(predicted_ids)"
      ],
      "metadata": {
        "id": "NjT5kWI_73Vt"
      },
      "id": "NjT5kWI_73Vt",
      "execution_count": 32,
      "outputs": []
    },
    {
      "cell_type": "code",
      "source": [
        "start = time.time()\n",
        "num_char = 400      # Number of characters to generate\n",
        "num_prev_char = 100 # Number of previous characters to focus on\n",
        "mytext = \"ROMEO:\"\n",
        "\n",
        "for n in range(num_char):\n",
        "  next_char = generate_next_char_onehot(mytext[-num_prev_char:])\n",
        "  mytext += next_char\n",
        "\n",
        "print(mytext)\n",
        "end = time.time()\n",
        "print('\\nRun time:', end - start)"
      ],
      "metadata": {
        "colab": {
          "base_uri": "https://localhost:8080/"
        },
        "id": "-rT-dKXN64Ul",
        "outputId": "0a38487f-e798-499e-be48-cbc3f32e4048"
      },
      "id": "-rT-dKXN64Ul",
      "execution_count": 33,
      "outputs": [
        {
          "output_type": "stream",
          "name": "stdout",
          "text": [
            "ROMEO:\n",
            "I have be the stand of the come,\n",
            "And be the will be sone to see the rester with a mand\n",
            "That shall be sone and , and be the beath,\n",
            "And the beath me the rest good man.\n",
            "\n",
            "Second Catizen:\n",
            "What is the read of the Ore the will be the death,\n",
            "And we propest the death of the -and and the seath,\n",
            "And shall be the will so mane and be the will.\n",
            "\n",
            "KING HENRY VI:\n",
            "What is the rest and be the couster of the reads,\n",
            "\n",
            "\n",
            "Run time: 6.005336761474609\n"
          ]
        }
      ]
    },
    {
      "cell_type": "markdown",
      "source": [
        "We can see that the generated text is not as good as that with Embeddings. Embedding Layers help to put the vocabulary into a relevant semantic space to help it to generate better text.\n",
        "\n",
        "Even in a character-level model, similar character (capital or non-capital) may be semantically related, so they can be grouped in the same semantic space for better generalization."
      ],
      "metadata": {
        "id": "s_wDHBNS_UIi"
      },
      "id": "s_wDHBNS_UIi"
    },
    {
      "cell_type": "code",
      "source": [
        ""
      ],
      "metadata": {
        "id": "XrQ-QaGj_nL_"
      },
      "id": "XrQ-QaGj_nL_",
      "execution_count": 33,
      "outputs": []
    }
  ],
  "metadata": {
    "kernelspec": {
      "display_name": "Python 3",
      "language": "python",
      "name": "python3"
    },
    "language_info": {
      "codemirror_mode": {
        "name": "ipython",
        "version": 3
      },
      "file_extension": ".py",
      "mimetype": "text/x-python",
      "name": "python",
      "nbconvert_exporter": "python",
      "pygments_lexer": "ipython3",
      "version": "3.7.6"
    },
    "papermill": {
      "default_parameters": {},
      "duration": 4371.829277,
      "end_time": "2022-03-16T12:48:40.972849",
      "environment_variables": {},
      "exception": null,
      "input_path": "__notebook__.ipynb",
      "output_path": "__notebook__.ipynb",
      "parameters": {},
      "start_time": "2022-03-16T11:35:49.143572",
      "version": "2.3.3"
    },
    "colab": {
      "name": "RNN_Text_Generation.ipynb",
      "provenance": [],
      "collapsed_sections": []
    },
    "accelerator": "GPU"
  },
  "nbformat": 4,
  "nbformat_minor": 5
}