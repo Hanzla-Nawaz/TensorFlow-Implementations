{
  "cells": [
    {
      "cell_type": "markdown",
      "metadata": {
        "id": "ovpZyIhNIgoq"
      },
      "source": [
        "This notebook compares the generation capabilities of an RNN to a Markov chain method.\n",
        "\n",
        "The RNN code comes from TensorFlow, while the Markov chain is self-written.\n",
        "\n",
        "# Text generation with an RNN (Taken from TensorFlow website)"
      ]
    },
    {
      "cell_type": "markdown",
      "metadata": {
        "id": "srXC6pLGLwS6"
      },
      "source": [
        "## Setup"
      ]
    },
    {
      "cell_type": "markdown",
      "metadata": {
        "id": "WGyKZj3bzf9p"
      },
      "source": [
        "### Import TensorFlow and other libraries"
      ]
    },
    {
      "cell_type": "code",
      "execution_count": 1,
      "metadata": {
        "id": "yG_n40gFzf9s"
      },
      "outputs": [],
      "source": [
        "import tensorflow as tf\n",
        "\n",
        "import numpy as np\n",
        "import os\n",
        "import time"
      ]
    },
    {
      "cell_type": "markdown",
      "metadata": {
        "id": "UHjdCjDuSvX_"
      },
      "source": [
        "### Read the data\n",
        "\n",
        "First, look in the text:"
      ]
    },
    {
      "cell_type": "code",
      "execution_count": 2,
      "metadata": {
        "id": "aavnuByVymwK",
        "outputId": "def9b227-7a2e-48e9-ddf9-af56c7d27334",
        "colab": {
          "base_uri": "https://localhost:8080/"
        }
      },
      "outputs": [
        {
          "output_type": "stream",
          "name": "stdout",
          "text": [
            "Length of text: 22018 characters\n"
          ]
        }
      ],
      "source": [
        "# Read, then decode for py2 compat.\n",
        "text = open('coding.txt', 'rb').read().decode(encoding='utf-8')\n",
        "# length of text is the number of characters in it\n",
        "print(f'Length of text: {len(text)} characters')"
      ]
    },
    {
      "cell_type": "code",
      "source": [
        "''.join(sorted(list(set(text))))"
      ],
      "metadata": {
        "id": "eh7WQr4JgnDe",
        "outputId": "e5205364-ea79-4492-c2bf-35c4dc0d510c",
        "colab": {
          "base_uri": "https://localhost:8080/",
          "height": 35
        }
      },
      "execution_count": 3,
      "outputs": [
        {
          "output_type": "execute_result",
          "data": {
            "text/plain": [
              "'\\n !\"#%\\'()*+,-./0123456789:;<=>@ABCDEFGHIKLMNOPQRSTUVZ[\\\\]_`abcdefghijklmnopqrstuvwxyz{|}'"
            ],
            "application/vnd.google.colaboratory.intrinsic+json": {
              "type": "string"
            }
          },
          "metadata": {},
          "execution_count": 3
        }
      ]
    },
    {
      "cell_type": "code",
      "execution_count": 4,
      "metadata": {
        "id": "Duhg9NrUymwO",
        "outputId": "f84ad798-a90b-461e-c4af-9af7d408f5d0",
        "colab": {
          "base_uri": "https://localhost:8080/"
        }
      },
      "outputs": [
        {
          "output_type": "stream",
          "name": "stdout",
          "text": [
            "# Python3 program to add two numbers\n",
            "  \n",
            "number1 = input(\"First number: \")\n",
            "number2 = input(\"\\nSecond number: \")\n",
            "  \n",
            "# Adding two numbers\n",
            "# User might also enter float numbers\n",
            "sum = float(number1) + float(number2)\n",
            "  \n",
            "# Display the sum\n",
            "# will print value\n"
          ]
        }
      ],
      "source": [
        "# Take a look at the first 250 characters in text\n",
        "print(text[:250])"
      ]
    },
    {
      "cell_type": "code",
      "execution_count": 5,
      "metadata": {
        "id": "IlCgQBRVymwR",
        "outputId": "d988c727-93bb-47da-a4f4-cd170052c138",
        "colab": {
          "base_uri": "https://localhost:8080/"
        }
      },
      "outputs": [
        {
          "output_type": "stream",
          "name": "stdout",
          "text": [
            "87 unique characters\n"
          ]
        }
      ],
      "source": [
        "# The unique characters in the file\n",
        "vocab = sorted(set(text))\n",
        "print(f'{len(vocab)} unique characters')"
      ]
    },
    {
      "cell_type": "markdown",
      "metadata": {
        "id": "rNnrKn_lL-IJ"
      },
      "source": [
        "## Process the text"
      ]
    },
    {
      "cell_type": "markdown",
      "metadata": {
        "id": "LFjSVAlWzf-N"
      },
      "source": [
        "### Vectorize the text\n",
        "\n",
        "Before training, you need to convert the strings to a numerical representation. \n",
        "\n",
        "The `tf.keras.layers.StringLookup` layer can convert each character into a numeric ID. It just needs the text to be split into tokens first."
      ]
    },
    {
      "cell_type": "code",
      "execution_count": 6,
      "metadata": {
        "id": "a86OoYtO01go",
        "outputId": "616e9e71-4e57-4e1e-bfed-5f917509e932",
        "colab": {
          "base_uri": "https://localhost:8080/"
        }
      },
      "outputs": [
        {
          "output_type": "execute_result",
          "data": {
            "text/plain": [
              "<tf.RaggedTensor [[b'a', b'b', b'c', b'd', b'e', b'f', b'g'], [b'x', b'y', b'z']]>"
            ]
          },
          "metadata": {},
          "execution_count": 6
        }
      ],
      "source": [
        "example_texts = ['abcdefg', 'xyz']\n",
        "\n",
        "chars = tf.strings.unicode_split(example_texts, input_encoding='UTF-8')\n",
        "chars"
      ]
    },
    {
      "cell_type": "markdown",
      "metadata": {
        "id": "1s4f1q3iqY8f"
      },
      "source": [
        "Now create the `tf.keras.layers.StringLookup` layer:"
      ]
    },
    {
      "cell_type": "code",
      "execution_count": 7,
      "metadata": {
        "id": "6GMlCe3qzaL9"
      },
      "outputs": [],
      "source": [
        "ids_from_chars = tf.keras.layers.StringLookup(\n",
        "    vocabulary=list(vocab), mask_token=None)"
      ]
    },
    {
      "cell_type": "markdown",
      "metadata": {
        "id": "ZmX_jbgQqfOi"
      },
      "source": [
        "It converts from tokens to character IDs:"
      ]
    },
    {
      "cell_type": "code",
      "execution_count": 8,
      "metadata": {
        "id": "WLv5Q_2TC2pc",
        "outputId": "686e1de3-5a0b-444a-fceb-cc6bcf893f56",
        "colab": {
          "base_uri": "https://localhost:8080/"
        }
      },
      "outputs": [
        {
          "output_type": "execute_result",
          "data": {
            "text/plain": [
              "<tf.RaggedTensor [[59, 60, 61, 62, 63, 64, 65], [82, 83, 84]]>"
            ]
          },
          "metadata": {},
          "execution_count": 8
        }
      ],
      "source": [
        "ids = ids_from_chars(chars)\n",
        "ids"
      ]
    },
    {
      "cell_type": "markdown",
      "metadata": {
        "id": "tZfqhkYCymwX"
      },
      "source": [
        "Since the goal of this tutorial is to generate text, it will also be important to invert this representation and recover human-readable strings from it. For this you can use `tf.keras.layers.StringLookup(..., invert=True)`.  "
      ]
    },
    {
      "cell_type": "markdown",
      "metadata": {
        "id": "uenivzwqsDhp"
      },
      "source": [
        "Note: Here instead of passing the original vocabulary generated with `sorted(set(text))` use the `get_vocabulary()` method of the `tf.keras.layers.StringLookup` layer so that the `[UNK]` tokens is set the same way."
      ]
    },
    {
      "cell_type": "code",
      "execution_count": 9,
      "metadata": {
        "id": "Wd2m3mqkDjRj"
      },
      "outputs": [],
      "source": [
        "chars_from_ids = tf.keras.layers.StringLookup(\n",
        "    vocabulary=ids_from_chars.get_vocabulary(), invert=True, mask_token=None)"
      ]
    },
    {
      "cell_type": "markdown",
      "metadata": {
        "id": "pqTDDxS-s-H8"
      },
      "source": [
        "This layer recovers the characters from the vectors of IDs, and returns them as a `tf.RaggedTensor` of characters:"
      ]
    },
    {
      "cell_type": "code",
      "execution_count": 10,
      "metadata": {
        "id": "c2GCh0ySD44s",
        "outputId": "b88b33ff-393c-4d70-a54f-cd48d42e9e64",
        "colab": {
          "base_uri": "https://localhost:8080/"
        }
      },
      "outputs": [
        {
          "output_type": "execute_result",
          "data": {
            "text/plain": [
              "<tf.RaggedTensor [[b'a', b'b', b'c', b'd', b'e', b'f', b'g'], [b'x', b'y', b'z']]>"
            ]
          },
          "metadata": {},
          "execution_count": 10
        }
      ],
      "source": [
        "chars = chars_from_ids(ids)\n",
        "chars"
      ]
    },
    {
      "cell_type": "markdown",
      "metadata": {
        "id": "-FeW5gqutT3o"
      },
      "source": [
        "You can `tf.strings.reduce_join` to join the characters back into strings. "
      ]
    },
    {
      "cell_type": "code",
      "execution_count": 11,
      "metadata": {
        "id": "zxYI-PeltqKP",
        "outputId": "5633e8f0-a487-40e7-91f7-8a8782bb27fc",
        "colab": {
          "base_uri": "https://localhost:8080/"
        }
      },
      "outputs": [
        {
          "output_type": "execute_result",
          "data": {
            "text/plain": [
              "array([b'abcdefg', b'xyz'], dtype=object)"
            ]
          },
          "metadata": {},
          "execution_count": 11
        }
      ],
      "source": [
        "tf.strings.reduce_join(chars, axis=-1).numpy()"
      ]
    },
    {
      "cell_type": "code",
      "execution_count": 12,
      "metadata": {
        "id": "w5apvBDn9Ind"
      },
      "outputs": [],
      "source": [
        "def text_from_ids(ids):\n",
        "  return tf.strings.reduce_join(chars_from_ids(ids), axis=-1)"
      ]
    },
    {
      "cell_type": "markdown",
      "metadata": {
        "id": "bbmsf23Bymwe"
      },
      "source": [
        "### The prediction task"
      ]
    },
    {
      "cell_type": "markdown",
      "metadata": {
        "id": "wssHQ1oGymwe"
      },
      "source": [
        "Given a character, or a sequence of characters, what is the most probable next character? This is the task you're training the model to perform. The input to the model will be a sequence of characters, and you train the model to predict the output—the following character at each time step.\n",
        "\n",
        "Since RNNs maintain an internal state that depends on the previously seen elements, given all the characters computed until this moment, what is the next character?\n"
      ]
    },
    {
      "cell_type": "markdown",
      "metadata": {
        "id": "hgsVvVxnymwf"
      },
      "source": [
        "### Create training examples and targets\n",
        "\n",
        "Next divide the text into example sequences. Each input sequence will contain `seq_length` characters from the text.\n",
        "\n",
        "For each input sequence, the corresponding targets contain the same length of text, except shifted one character to the right.\n",
        "\n",
        "So break the text into chunks of `seq_length+1`. For example, say `seq_length` is 4 and our text is \"Hello\". The input sequence would be \"Hell\", and the target sequence \"ello\".\n",
        "\n",
        "To do this first use the `tf.data.Dataset.from_tensor_slices` function to convert the text vector into a stream of character indices."
      ]
    },
    {
      "cell_type": "code",
      "execution_count": 13,
      "metadata": {
        "id": "UopbsKi88tm5",
        "outputId": "9b2bea8b-c561-4f34-b072-8b20805c9a1d",
        "colab": {
          "base_uri": "https://localhost:8080/"
        }
      },
      "outputs": [
        {
          "output_type": "execute_result",
          "data": {
            "text/plain": [
              "<tf.Tensor: shape=(22018,), dtype=int64, numpy=array([ 5,  2, 46, ...,  9,  1,  1])>"
            ]
          },
          "metadata": {},
          "execution_count": 13
        }
      ],
      "source": [
        "all_ids = ids_from_chars(tf.strings.unicode_split(text, 'UTF-8'))\n",
        "all_ids"
      ]
    },
    {
      "cell_type": "code",
      "execution_count": 14,
      "metadata": {
        "id": "qmxrYDCTy-eL"
      },
      "outputs": [],
      "source": [
        "ids_dataset = tf.data.Dataset.from_tensor_slices(all_ids)"
      ]
    },
    {
      "cell_type": "code",
      "execution_count": 15,
      "metadata": {
        "id": "cjH5v45-yqqH",
        "outputId": "4e5fdfa2-8e26-4ab4-d2b0-2d41d6fb65c6",
        "colab": {
          "base_uri": "https://localhost:8080/"
        }
      },
      "outputs": [
        {
          "output_type": "stream",
          "name": "stdout",
          "text": [
            "#\n",
            " \n",
            "P\n",
            "y\n",
            "t\n",
            "h\n",
            "o\n",
            "n\n",
            "3\n",
            " \n",
            "p\n",
            "r\n",
            "o\n",
            "g\n",
            "r\n",
            "a\n",
            "m\n",
            " \n",
            "t\n",
            "o\n",
            " \n",
            "a\n",
            "d\n",
            "d\n",
            " \n",
            "t\n",
            "w\n",
            "o\n",
            " \n",
            "n\n"
          ]
        }
      ],
      "source": [
        "for ids in ids_dataset.take(30):\n",
        "    print(chars_from_ids(ids).numpy().decode('utf-8'))"
      ]
    },
    {
      "cell_type": "code",
      "execution_count": 16,
      "metadata": {
        "id": "C-G2oaTxy6km"
      },
      "outputs": [],
      "source": [
        "seq_length = 100\n",
        "examples_per_epoch = len(text)//(seq_length+1)"
      ]
    },
    {
      "cell_type": "markdown",
      "metadata": {
        "id": "-ZSYAcQV8OGP"
      },
      "source": [
        "The `batch` method lets you easily convert these individual characters to sequences of the desired size."
      ]
    },
    {
      "cell_type": "code",
      "execution_count": 17,
      "metadata": {
        "id": "BpdjRO2CzOfZ",
        "outputId": "b03c0190-a88a-41aa-9fce-59f5422dda50",
        "colab": {
          "base_uri": "https://localhost:8080/"
        }
      },
      "outputs": [
        {
          "output_type": "stream",
          "name": "stdout",
          "text": [
            "tf.Tensor(\n",
            "[b'#' b' ' b'P' b'y' b't' b'h' b'o' b'n' b'3' b' ' b'p' b'r' b'o' b'g'\n",
            " b'r' b'a' b'm' b' ' b't' b'o' b' ' b'a' b'd' b'd' b' ' b't' b'w' b'o'\n",
            " b' ' b'n' b'u' b'm' b'b' b'e' b'r' b's' b'\\n' b' ' b' ' b'\\n' b'n' b'u'\n",
            " b'm' b'b' b'e' b'r' b'1' b' ' b'=' b' ' b'i' b'n' b'p' b'u' b't' b'('\n",
            " b'\"' b'F' b'i' b'r' b's' b't' b' ' b'n' b'u' b'm' b'b' b'e' b'r' b':'\n",
            " b' ' b'\"' b')' b'\\n' b'n' b'u' b'm' b'b' b'e' b'r' b'2' b' ' b'=' b' '\n",
            " b'i' b'n' b'p' b'u' b't' b'(' b'\"' b'\\\\' b'n' b'S' b'e' b'c' b'o' b'n'\n",
            " b'd' b' ' b'n'], shape=(101,), dtype=string)\n"
          ]
        }
      ],
      "source": [
        "sequences = ids_dataset.batch(seq_length+1, drop_remainder=True)\n",
        "\n",
        "for seq in sequences.take(1):\n",
        "  print(chars_from_ids(seq))"
      ]
    },
    {
      "cell_type": "markdown",
      "metadata": {
        "id": "5PHW902-4oZt"
      },
      "source": [
        "It's easier to see what this is doing if you join the tokens back into strings:"
      ]
    },
    {
      "cell_type": "code",
      "execution_count": 18,
      "metadata": {
        "id": "QO32cMWu4a06",
        "outputId": "b1f7a82b-5a61-4a6c-d1b0-0694bb915ce3",
        "colab": {
          "base_uri": "https://localhost:8080/"
        }
      },
      "outputs": [
        {
          "output_type": "stream",
          "name": "stdout",
          "text": [
            "b'# Python3 program to add two numbers\\n  \\nnumber1 = input(\"First number: \")\\nnumber2 = input(\"\\\\nSecond n'\n",
            "101\n",
            "b'umber: \")\\n  \\n# Adding two numbers\\n# User might also enter float numbers\\nsum = float(number1) + float('\n",
            "101\n",
            "b'number2)\\n  \\n# Display the sum\\n# will print value in float\\nprint(\"The sum of {0} and {1} is {2}\" .form'\n",
            "101\n",
            "b'at(number1, number2, sum))\\n\\n# Python 3 program to find\\n# factorial of given number\\ndef factorial(n):\\n'\n",
            "101\n",
            "b'     \\n    # single line to find factorial\\n    return 1 if (n==1 or n==0) else n * factorial(n - 1);\\n '\n",
            "101\n"
          ]
        }
      ],
      "source": [
        "for seq in sequences.take(5):\n",
        "  print(text_from_ids(seq).numpy())\n",
        "  print(len(seq))"
      ]
    },
    {
      "cell_type": "markdown",
      "metadata": {
        "id": "UbLcIPBj_mWZ"
      },
      "source": [
        "For training you'll need a dataset of `(input, label)` pairs. Where `input` and \n",
        "`label` are sequences. At each time step the input is the current character and the label is the next character. \n",
        "\n",
        "Here's a function that takes a sequence as input, duplicates, and shifts it to align the input and label for each timestep:"
      ]
    },
    {
      "cell_type": "code",
      "execution_count": 19,
      "metadata": {
        "id": "9NGu-FkO_kYU"
      },
      "outputs": [],
      "source": [
        "def split_input_target(sequence):\n",
        "    input_text = sequence[:-1]\n",
        "    target_text = sequence[1:]\n",
        "    return input_text, target_text"
      ]
    },
    {
      "cell_type": "code",
      "execution_count": 20,
      "metadata": {
        "id": "WxbDTJTw5u_P",
        "outputId": "b35af4cc-b716-454f-d3c8-bad75f987bbc",
        "colab": {
          "base_uri": "https://localhost:8080/"
        }
      },
      "outputs": [
        {
          "output_type": "execute_result",
          "data": {
            "text/plain": [
              "(['T', 'e', 'n', 's', 'o', 'r', 'f', 'l', 'o'],\n",
              " ['e', 'n', 's', 'o', 'r', 'f', 'l', 'o', 'w'])"
            ]
          },
          "metadata": {},
          "execution_count": 20
        }
      ],
      "source": [
        "split_input_target(list(\"Tensorflow\"))"
      ]
    },
    {
      "cell_type": "code",
      "execution_count": 21,
      "metadata": {
        "id": "B9iKPXkw5xwa"
      },
      "outputs": [],
      "source": [
        "dataset = sequences.map(split_input_target)"
      ]
    },
    {
      "cell_type": "code",
      "execution_count": 22,
      "metadata": {
        "id": "GNbw-iR0ymwj",
        "outputId": "85842842-59ee-40ad-f87b-e75d4b156e0b",
        "colab": {
          "base_uri": "https://localhost:8080/"
        }
      },
      "outputs": [
        {
          "output_type": "stream",
          "name": "stdout",
          "text": [
            "Input : b'# Python3 program to add two numbers\\n  \\nnumber1 = input(\"First number: \")\\nnumber2 = input(\"\\\\nSecond '\n",
            "Target: b' Python3 program to add two numbers\\n  \\nnumber1 = input(\"First number: \")\\nnumber2 = input(\"\\\\nSecond n'\n"
          ]
        }
      ],
      "source": [
        "for input_example, target_example in dataset.take(1):\n",
        "    print(\"Input :\", text_from_ids(input_example).numpy())\n",
        "    print(\"Target:\", text_from_ids(target_example).numpy())"
      ]
    },
    {
      "cell_type": "markdown",
      "metadata": {
        "id": "MJdfPmdqzf-R"
      },
      "source": [
        "### Create training batches\n",
        "\n",
        "You used `tf.data` to split the text into manageable sequences. But before feeding this data into the model, you need to shuffle the data and pack it into batches."
      ]
    },
    {
      "cell_type": "code",
      "execution_count": 23,
      "metadata": {
        "id": "p2pGotuNzf-S",
        "outputId": "380bfdf1-b3cf-4397-ee3d-113be758b430",
        "colab": {
          "base_uri": "https://localhost:8080/"
        }
      },
      "outputs": [
        {
          "output_type": "execute_result",
          "data": {
            "text/plain": [
              "<PrefetchDataset element_spec=(TensorSpec(shape=(64, 100), dtype=tf.int64, name=None), TensorSpec(shape=(64, 100), dtype=tf.int64, name=None))>"
            ]
          },
          "metadata": {},
          "execution_count": 23
        }
      ],
      "source": [
        "# Batch size\n",
        "BATCH_SIZE = 64\n",
        "\n",
        "# Buffer size to shuffle the dataset\n",
        "# (TF data is designed to work with possibly infinite sequences,\n",
        "# so it doesn't attempt to shuffle the entire sequence in memory. Instead,\n",
        "# it maintains a buffer in which it shuffles elements).\n",
        "BUFFER_SIZE = 10000\n",
        "\n",
        "dataset = (\n",
        "    dataset\n",
        "    .shuffle(BUFFER_SIZE)\n",
        "    .batch(BATCH_SIZE, drop_remainder=True)\n",
        "    .prefetch(tf.data.experimental.AUTOTUNE))\n",
        "\n",
        "dataset"
      ]
    },
    {
      "cell_type": "markdown",
      "metadata": {
        "id": "r6oUuElIMgVx"
      },
      "source": [
        "## Build The Model"
      ]
    },
    {
      "cell_type": "markdown",
      "metadata": {
        "id": "m8gPwEjRzf-Z"
      },
      "source": [
        "This section defines the model as a `keras.Model` subclass (For details see [Making new Layers and Models via subclassing](https://www.tensorflow.org/guide/keras/custom_layers_and_models)). \n",
        "\n",
        "This model has three layers:\n",
        "\n",
        "* `tf.keras.layers.Embedding`: The input layer. A trainable lookup table that will map each character-ID to a vector with `embedding_dim` dimensions;\n",
        "* `tf.keras.layers.GRU`: A type of RNN with size `units=rnn_units` (You can also use an LSTM layer here.)\n",
        "* `tf.keras.layers.Dense`: The output layer, with `vocab_size` outputs. It outputs one logit for each character in the vocabulary. These are the log-likelihood of each character according to the model."
      ]
    },
    {
      "cell_type": "code",
      "execution_count": 24,
      "metadata": {
        "id": "zHT8cLh7EAsg"
      },
      "outputs": [],
      "source": [
        "# Length of the vocabulary in chars\n",
        "vocab_size = len(vocab)\n",
        "\n",
        "# The embedding dimension\n",
        "embedding_dim = 256\n",
        "\n",
        "# Number of RNN units\n",
        "rnn_units = 1024"
      ]
    },
    {
      "cell_type": "code",
      "execution_count": 25,
      "metadata": {
        "id": "wj8HQ2w8z4iO"
      },
      "outputs": [],
      "source": [
        "class MyModel(tf.keras.Model):\n",
        "  def __init__(self, vocab_size, embedding_dim, rnn_units):\n",
        "    super().__init__(self)\n",
        "    self.embedding = tf.keras.layers.Embedding(vocab_size, embedding_dim)\n",
        "    self.gru1 = tf.keras.layers.GRU(rnn_units,\n",
        "                                   return_sequences=True,\n",
        "                                   return_state=True)\n",
        "    self.dense = tf.keras.layers.Dense(vocab_size)\n",
        "\n",
        "  def call(self, inputs, states=None, return_state=False, training=False):\n",
        "    x = inputs\n",
        "    x = self.embedding(x, training=training)\n",
        "    if states is None:\n",
        "      states = self.gru1.get_initial_state(x)\n",
        "    x, states = self.gru1(x, initial_state=states, training=training)\n",
        "    x = self.dense(x, training=training)\n",
        "\n",
        "    if return_state:\n",
        "      return x, states\n",
        "    else:\n",
        "      return x"
      ]
    },
    {
      "cell_type": "code",
      "execution_count": 26,
      "metadata": {
        "id": "IX58Xj9z47Aw"
      },
      "outputs": [],
      "source": [
        "model = MyModel(\n",
        "    # Be sure the vocabulary size matches the `StringLookup` layers.\n",
        "    vocab_size=len(ids_from_chars.get_vocabulary()),\n",
        "    embedding_dim=embedding_dim,\n",
        "    rnn_units=rnn_units)"
      ]
    },
    {
      "cell_type": "markdown",
      "metadata": {
        "id": "RkA5upJIJ7W7"
      },
      "source": [
        "For each character the model looks up the embedding, runs the GRU one timestep with the embedding as input, and applies the dense layer to generate logits predicting the log-likelihood of the next character:\n",
        "\n",
        "![A drawing of the data passing through the model](https://github.com/tensorflow/text/blob/master/docs/tutorials/images/text_generation_training.png?raw=1)"
      ]
    },
    {
      "cell_type": "markdown",
      "metadata": {
        "id": "gKbfm04amhXk"
      },
      "source": [
        "Note: For training you could use a `keras.Sequential` model here. To  generate text later you'll need to manage the RNN's internal state. It's simpler to include the state input and output options upfront, than it is to rearrange the model architecture later. For more details see the [Keras RNN guide](https://www.tensorflow.org/guide/keras/rnn#rnn_state_reuse)."
      ]
    },
    {
      "cell_type": "markdown",
      "metadata": {
        "id": "-ubPo0_9Prjb"
      },
      "source": [
        "## Try the model\n",
        "\n",
        "Now run the model to see that it behaves as expected.\n",
        "\n",
        "First check the shape of the output:"
      ]
    },
    {
      "cell_type": "code",
      "execution_count": 27,
      "metadata": {
        "id": "C-_70kKAPrPU",
        "outputId": "8c9187d8-28c0-443f-d120-3152752c7267",
        "colab": {
          "base_uri": "https://localhost:8080/"
        }
      },
      "outputs": [
        {
          "output_type": "stream",
          "name": "stdout",
          "text": [
            "(64, 100, 88) # (batch_size, sequence_length, vocab_size)\n"
          ]
        }
      ],
      "source": [
        "for input_example_batch, target_example_batch in dataset.take(1):\n",
        "    example_batch_predictions = model(input_example_batch)\n",
        "    print(example_batch_predictions.shape, \"# (batch_size, sequence_length, vocab_size)\")"
      ]
    },
    {
      "cell_type": "markdown",
      "metadata": {
        "id": "Q6NzLBi4VM4o"
      },
      "source": [
        "In the above example the sequence length of the input is `100` but the model can be run on inputs of any length:"
      ]
    },
    {
      "cell_type": "code",
      "execution_count": 28,
      "metadata": {
        "id": "vPGmAAXmVLGC",
        "outputId": "80a242b9-5dbb-4e08-a36d-f185899f1304",
        "colab": {
          "base_uri": "https://localhost:8080/"
        }
      },
      "outputs": [
        {
          "output_type": "stream",
          "name": "stdout",
          "text": [
            "Model: \"my_model\"\n",
            "_________________________________________________________________\n",
            " Layer (type)                Output Shape              Param #   \n",
            "=================================================================\n",
            " embedding (Embedding)       multiple                  22528     \n",
            "                                                                 \n",
            " gru (GRU)                   multiple                  3938304   \n",
            "                                                                 \n",
            " dense (Dense)               multiple                  90200     \n",
            "                                                                 \n",
            "=================================================================\n",
            "Total params: 4,051,032\n",
            "Trainable params: 4,051,032\n",
            "Non-trainable params: 0\n",
            "_________________________________________________________________\n"
          ]
        }
      ],
      "source": [
        "model.summary()"
      ]
    },
    {
      "cell_type": "markdown",
      "metadata": {
        "id": "uwv0gEkURfx1"
      },
      "source": [
        "To get actual predictions from the model you need to sample from the output distribution, to get actual character indices. This distribution is defined by the logits over the character vocabulary.\n",
        "\n",
        "Note: It is important to _sample_ from this distribution as taking the _argmax_ of the distribution can easily get the model stuck in a loop.\n",
        "\n",
        "Try it for the first example in the batch:"
      ]
    },
    {
      "cell_type": "code",
      "source": [
        "example_batch_predictions[0]"
      ],
      "metadata": {
        "id": "auf5aDo_j15c",
        "outputId": "e7e1e67b-5f5c-4da6-9f02-06b8ab9dcf7a",
        "colab": {
          "base_uri": "https://localhost:8080/"
        }
      },
      "execution_count": 29,
      "outputs": [
        {
          "output_type": "execute_result",
          "data": {
            "text/plain": [
              "<tf.Tensor: shape=(100, 88), dtype=float32, numpy=\n",
              "array([[ 0.00619111,  0.01501912,  0.0084628 , ...,  0.00469326,\n",
              "         0.00330961,  0.00556275],\n",
              "       [ 0.0028591 ,  0.01420797,  0.01434019, ..., -0.0018965 ,\n",
              "         0.00103801,  0.00642334],\n",
              "       [ 0.00432305,  0.00290702,  0.01420512, ..., -0.00889909,\n",
              "         0.00498802, -0.00583102],\n",
              "       ...,\n",
              "       [ 0.00538473, -0.00366278,  0.01225198, ..., -0.00550904,\n",
              "        -0.00380149, -0.00301143],\n",
              "       [ 0.00082919,  0.00264745,  0.01660097, ..., -0.00432567,\n",
              "         0.00227055,  0.01271428],\n",
              "       [-0.00127503, -0.00074118,  0.0017617 , ..., -0.00148645,\n",
              "        -0.00092464,  0.01950732]], dtype=float32)>"
            ]
          },
          "metadata": {},
          "execution_count": 29
        }
      ]
    },
    {
      "cell_type": "code",
      "execution_count": 30,
      "metadata": {
        "id": "4V4MfFg0RQJg"
      },
      "outputs": [],
      "source": [
        "sampled_indices = tf.random.categorical(example_batch_predictions[0], num_samples=1)\n",
        "sampled_indices = tf.squeeze(sampled_indices, axis=-1).numpy()"
      ]
    },
    {
      "cell_type": "markdown",
      "metadata": {
        "id": "QM1Vbxs_URw5"
      },
      "source": [
        "This gives us, at each timestep, a prediction of the next character index:"
      ]
    },
    {
      "cell_type": "code",
      "execution_count": 31,
      "metadata": {
        "id": "YqFMUQc_UFgM",
        "outputId": "5a535da4-ebda-4f92-fc51-0513ffbabc87",
        "colab": {
          "base_uri": "https://localhost:8080/"
        }
      },
      "outputs": [
        {
          "output_type": "execute_result",
          "data": {
            "text/plain": [
              "array([40, 38, 41,  4, 58, 76, 81, 87,  5, 46, 30, 39, 55, 12, 24, 11, 79,\n",
              "       59, 56, 33, 62, 58, 41, 40, 24, 54,  7, 13, 86, 15,  4, 52, 82, 21,\n",
              "       39, 76, 14, 53, 14, 46, 82, 45, 48, 52, 29, 36, 42,  2, 64, 54,  4,\n",
              "        0, 77, 34, 68, 15, 65, 26, 31, 76, 31, 67, 37, 74, 43, 53, 61, 84,\n",
              "       51, 50, 49, 45, 14, 60, 79, 10,  3, 23, 51, 43, 18, 83, 85, 57, 48,\n",
              "       67, 49, 81, 32, 66,  5, 29, 27, 76, 76, 43,  9, 21, 33,  4])"
            ]
          },
          "metadata": {},
          "execution_count": 31
        }
      ],
      "source": [
        "sampled_indices"
      ]
    },
    {
      "cell_type": "markdown",
      "metadata": {
        "id": "LfLtsP3mUhCG"
      },
      "source": [
        "Decode these to see the text predicted by this untrained model:"
      ]
    },
    {
      "cell_type": "code",
      "execution_count": 32,
      "metadata": {
        "id": "xWcFwPwLSo05",
        "outputId": "9d8618fb-6a93-4686-81b1-1f658e7d1235",
        "colab": {
          "base_uri": "https://localhost:8080/"
        }
      },
      "outputs": [
        {
          "output_type": "stream",
          "name": "stdout",
          "text": [
            "Input:\n",
            " b' tensor. (N,)\\n    ys: tuple of\\n        decoder_input: int32 tensor. (N, T2)\\n        y: int32 tensor.'\n",
            "\n",
            "Next Char Predictions:\n",
            " b'IGK\"`rw}#P>H\\\\,8+ua]Bd`KI8[\\'-|/\"Vx5Hr.Z.PxORV=EL f[\"[UNK]sCj/g:@r@iFpMZczUTSO.bu*!7UM2y{_RiSwAh#=;rrM)5B\"'\n"
          ]
        }
      ],
      "source": [
        "print(\"Input:\\n\", text_from_ids(input_example_batch[0]).numpy())\n",
        "print()\n",
        "print(\"Next Char Predictions:\\n\", text_from_ids(sampled_indices).numpy())"
      ]
    },
    {
      "cell_type": "markdown",
      "metadata": {
        "id": "LJL0Q0YPY6Ee"
      },
      "source": [
        "## Train the model"
      ]
    },
    {
      "cell_type": "markdown",
      "metadata": {
        "id": "YCbHQHiaa4Ic"
      },
      "source": [
        "At this point the problem can be treated as a standard classification problem. Given the previous RNN state, and the input this time step, predict the class of the next character."
      ]
    },
    {
      "cell_type": "markdown",
      "metadata": {
        "id": "trpqTWyvk0nr"
      },
      "source": [
        "### Attach an optimizer, and a loss function"
      ]
    },
    {
      "cell_type": "markdown",
      "metadata": {
        "id": "UAjbjY03eiQ4"
      },
      "source": [
        "The standard `tf.keras.losses.sparse_categorical_crossentropy` loss function works in this case because it is applied across the last dimension of the predictions.\n",
        "\n",
        "Because your model returns logits, you need to set the `from_logits` flag.\n"
      ]
    },
    {
      "cell_type": "code",
      "execution_count": 33,
      "metadata": {
        "id": "ZOeWdgxNFDXq"
      },
      "outputs": [],
      "source": [
        "loss = tf.losses.SparseCategoricalCrossentropy(from_logits=True)"
      ]
    },
    {
      "cell_type": "code",
      "execution_count": 34,
      "metadata": {
        "id": "4HrXTACTdzY-",
        "outputId": "6eb4ab23-dfe6-4d13-cc2c-0823a52ee391",
        "colab": {
          "base_uri": "https://localhost:8080/"
        }
      },
      "outputs": [
        {
          "output_type": "stream",
          "name": "stdout",
          "text": [
            "Prediction shape:  (64, 100, 88)  # (batch_size, sequence_length, vocab_size)\n",
            "Mean loss:         tf.Tensor(4.4730744, shape=(), dtype=float32)\n"
          ]
        }
      ],
      "source": [
        "example_batch_mean_loss = loss(target_example_batch, example_batch_predictions)\n",
        "print(\"Prediction shape: \", example_batch_predictions.shape, \" # (batch_size, sequence_length, vocab_size)\")\n",
        "print(\"Mean loss:        \", example_batch_mean_loss)"
      ]
    },
    {
      "cell_type": "markdown",
      "metadata": {
        "id": "vkvUIneTFiow"
      },
      "source": [
        "A newly initialized model shouldn't be too sure of itself, the output logits should all have similar magnitudes. To confirm this you can check that the exponential of the mean loss is approximately equal to the vocabulary size. A much higher loss means the model is sure of its wrong answers, and is badly initialized:"
      ]
    },
    {
      "cell_type": "code",
      "execution_count": 35,
      "metadata": {
        "id": "MAJfS5YoFiHf",
        "outputId": "6f44819c-d90e-4479-ee9e-5cf3bbf7d27c",
        "colab": {
          "base_uri": "https://localhost:8080/"
        }
      },
      "outputs": [
        {
          "output_type": "execute_result",
          "data": {
            "text/plain": [
              "87.62571"
            ]
          },
          "metadata": {},
          "execution_count": 35
        }
      ],
      "source": [
        "tf.exp(example_batch_mean_loss).numpy()"
      ]
    },
    {
      "cell_type": "markdown",
      "metadata": {
        "id": "jeOXriLcymww"
      },
      "source": [
        "Configure the training procedure using the `tf.keras.Model.compile` method. Use `tf.keras.optimizers.Adam` with default arguments and the loss function."
      ]
    },
    {
      "cell_type": "code",
      "execution_count": 36,
      "metadata": {
        "id": "DDl1_Een6rL0"
      },
      "outputs": [],
      "source": [
        "model.compile(optimizer='adam', loss=loss)"
      ]
    },
    {
      "cell_type": "markdown",
      "metadata": {
        "id": "ieSJdchZggUj"
      },
      "source": [
        "### Configure checkpoints"
      ]
    },
    {
      "cell_type": "markdown",
      "metadata": {
        "id": "C6XBUUavgF56"
      },
      "source": [
        "Use a `tf.keras.callbacks.ModelCheckpoint` to ensure that checkpoints are saved during training:"
      ]
    },
    {
      "cell_type": "code",
      "execution_count": 37,
      "metadata": {
        "id": "W6fWTriUZP-n"
      },
      "outputs": [],
      "source": [
        "# Directory where the checkpoints will be saved\n",
        "checkpoint_dir = './training_checkpoints'\n",
        "# Name of the checkpoint files\n",
        "checkpoint_prefix = os.path.join(checkpoint_dir, \"ckpt_{epoch}\")\n",
        "\n",
        "checkpoint_callback = tf.keras.callbacks.ModelCheckpoint(\n",
        "    filepath=checkpoint_prefix,\n",
        "    save_weights_only=True)"
      ]
    },
    {
      "cell_type": "markdown",
      "metadata": {
        "id": "3Ky3F_BhgkTW"
      },
      "source": [
        "### Execute the training"
      ]
    },
    {
      "cell_type": "markdown",
      "metadata": {
        "id": "IxdOA-rgyGvs"
      },
      "source": [
        "To keep training time reasonable, use 10 epochs to train the model. In Colab, set the runtime to GPU for faster training."
      ]
    },
    {
      "cell_type": "code",
      "execution_count": 38,
      "metadata": {
        "id": "7yGBE2zxMMHs"
      },
      "outputs": [],
      "source": [
        "EPOCHS = 100"
      ]
    },
    {
      "cell_type": "code",
      "execution_count": 55,
      "metadata": {
        "id": "UK-hmKjYVoll",
        "outputId": "5f2362d3-9139-4a66-e1a0-a787ec964b3f",
        "colab": {
          "base_uri": "https://localhost:8080/"
        }
      },
      "outputs": [
        {
          "output_type": "stream",
          "name": "stdout",
          "text": [
            "Epoch 1/100\n",
            "3/3 [==============================] - 1s 231ms/step - loss: 0.0500\n",
            "Epoch 2/100\n",
            "3/3 [==============================] - 1s 213ms/step - loss: 0.0481\n",
            "Epoch 3/100\n",
            "3/3 [==============================] - 1s 198ms/step - loss: 0.0468\n",
            "Epoch 4/100\n",
            "3/3 [==============================] - 1s 185ms/step - loss: 0.0469\n",
            "Epoch 5/100\n",
            "3/3 [==============================] - 1s 185ms/step - loss: 0.0479\n",
            "Epoch 6/100\n",
            "3/3 [==============================] - 1s 196ms/step - loss: 0.0455\n",
            "Epoch 7/100\n",
            "3/3 [==============================] - 1s 180ms/step - loss: 0.0448\n",
            "Epoch 8/100\n",
            "3/3 [==============================] - 1s 179ms/step - loss: 0.0436\n",
            "Epoch 9/100\n",
            "3/3 [==============================] - 1s 194ms/step - loss: 0.0434\n",
            "Epoch 10/100\n",
            "3/3 [==============================] - 1s 183ms/step - loss: 0.0432\n",
            "Epoch 11/100\n",
            "3/3 [==============================] - 1s 191ms/step - loss: 0.0420\n",
            "Epoch 12/100\n",
            "3/3 [==============================] - 1s 178ms/step - loss: 0.0425\n",
            "Epoch 13/100\n",
            "3/3 [==============================] - 1s 192ms/step - loss: 0.0411\n",
            "Epoch 14/100\n",
            "3/3 [==============================] - 1s 180ms/step - loss: 0.0412\n",
            "Epoch 15/100\n",
            "3/3 [==============================] - 1s 199ms/step - loss: 0.0400\n",
            "Epoch 16/100\n",
            "3/3 [==============================] - 1s 197ms/step - loss: 0.0395\n",
            "Epoch 17/100\n",
            "3/3 [==============================] - 1s 181ms/step - loss: 0.0400\n",
            "Epoch 18/100\n",
            "3/3 [==============================] - 1s 185ms/step - loss: 0.0401\n",
            "Epoch 19/100\n",
            "3/3 [==============================] - 1s 178ms/step - loss: 0.0397\n",
            "Epoch 20/100\n",
            "3/3 [==============================] - 1s 178ms/step - loss: 0.0385\n",
            "Epoch 21/100\n",
            "3/3 [==============================] - 1s 184ms/step - loss: 0.0390\n",
            "Epoch 22/100\n",
            "3/3 [==============================] - 1s 193ms/step - loss: 0.0390\n",
            "Epoch 23/100\n",
            "3/3 [==============================] - 1s 180ms/step - loss: 0.0412\n",
            "Epoch 24/100\n",
            "3/3 [==============================] - 1s 181ms/step - loss: 0.0409\n",
            "Epoch 25/100\n",
            "3/3 [==============================] - 1s 192ms/step - loss: 0.0415\n",
            "Epoch 26/100\n",
            "3/3 [==============================] - 1s 176ms/step - loss: 0.0407\n",
            "Epoch 27/100\n",
            "3/3 [==============================] - 1s 195ms/step - loss: 0.0392\n",
            "Epoch 28/100\n",
            "3/3 [==============================] - 1s 398ms/step - loss: 0.0385\n",
            "Epoch 29/100\n",
            "3/3 [==============================] - 1s 177ms/step - loss: 0.0409\n",
            "Epoch 30/100\n",
            "3/3 [==============================] - 1s 189ms/step - loss: 0.0436\n",
            "Epoch 31/100\n",
            "3/3 [==============================] - 1s 194ms/step - loss: 0.0418\n",
            "Epoch 32/100\n",
            "3/3 [==============================] - 1s 182ms/step - loss: 0.0414\n",
            "Epoch 33/100\n",
            "3/3 [==============================] - 1s 184ms/step - loss: 0.0414\n",
            "Epoch 34/100\n",
            "3/3 [==============================] - 1s 194ms/step - loss: 0.0401\n",
            "Epoch 35/100\n",
            "3/3 [==============================] - 1s 194ms/step - loss: 0.0398\n",
            "Epoch 36/100\n",
            "3/3 [==============================] - 1s 180ms/step - loss: 0.0393\n",
            "Epoch 37/100\n",
            "3/3 [==============================] - 1s 183ms/step - loss: 0.0391\n",
            "Epoch 38/100\n",
            "3/3 [==============================] - 1s 180ms/step - loss: 0.0388\n",
            "Epoch 39/100\n",
            "3/3 [==============================] - 1s 192ms/step - loss: 0.0382\n",
            "Epoch 40/100\n",
            "3/3 [==============================] - 1s 184ms/step - loss: 0.0363\n",
            "Epoch 41/100\n",
            "3/3 [==============================] - 1s 194ms/step - loss: 0.0371\n",
            "Epoch 42/100\n",
            "3/3 [==============================] - 1s 195ms/step - loss: 0.0353\n",
            "Epoch 43/100\n",
            "3/3 [==============================] - 1s 180ms/step - loss: 0.0353\n",
            "Epoch 44/100\n",
            "3/3 [==============================] - 1s 180ms/step - loss: 0.0352\n",
            "Epoch 45/100\n",
            "3/3 [==============================] - 1s 182ms/step - loss: 0.0353\n",
            "Epoch 46/100\n",
            "3/3 [==============================] - 1s 186ms/step - loss: 0.0351\n",
            "Epoch 47/100\n",
            "3/3 [==============================] - 1s 176ms/step - loss: 0.0345\n",
            "Epoch 48/100\n",
            "3/3 [==============================] - 1s 192ms/step - loss: 0.0339\n",
            "Epoch 49/100\n",
            "3/3 [==============================] - 1s 180ms/step - loss: 0.0336\n",
            "Epoch 50/100\n",
            "3/3 [==============================] - 1s 215ms/step - loss: 0.0336\n",
            "Epoch 51/100\n",
            "3/3 [==============================] - 1s 202ms/step - loss: 0.0333\n",
            "Epoch 52/100\n",
            "3/3 [==============================] - 1s 185ms/step - loss: 0.0339\n",
            "Epoch 53/100\n",
            "3/3 [==============================] - 1s 188ms/step - loss: 0.0339\n",
            "Epoch 54/100\n",
            "3/3 [==============================] - 1s 182ms/step - loss: 0.0330\n",
            "Epoch 55/100\n",
            "3/3 [==============================] - 1s 178ms/step - loss: 0.0330\n",
            "Epoch 56/100\n",
            "3/3 [==============================] - 1s 184ms/step - loss: 0.0327\n",
            "Epoch 57/100\n",
            "3/3 [==============================] - 1s 178ms/step - loss: 0.0324\n",
            "Epoch 58/100\n",
            "3/3 [==============================] - 1s 194ms/step - loss: 0.0326\n",
            "Epoch 59/100\n",
            "3/3 [==============================] - 1s 181ms/step - loss: 0.0318\n",
            "Epoch 60/100\n",
            "3/3 [==============================] - 1s 192ms/step - loss: 0.0329\n",
            "Epoch 61/100\n",
            "3/3 [==============================] - 1s 200ms/step - loss: 0.0320\n",
            "Epoch 62/100\n",
            "3/3 [==============================] - 1s 177ms/step - loss: 0.0314\n",
            "Epoch 63/100\n",
            "3/3 [==============================] - 1s 180ms/step - loss: 0.0322\n",
            "Epoch 64/100\n",
            "3/3 [==============================] - 1s 179ms/step - loss: 0.0319\n",
            "Epoch 65/100\n",
            "3/3 [==============================] - 1s 198ms/step - loss: 0.0322\n",
            "Epoch 66/100\n",
            "3/3 [==============================] - 1s 179ms/step - loss: 0.0321\n",
            "Epoch 67/100\n",
            "3/3 [==============================] - 1s 192ms/step - loss: 0.0317\n",
            "Epoch 68/100\n",
            "3/3 [==============================] - 1s 193ms/step - loss: 0.0316\n",
            "Epoch 69/100\n",
            "3/3 [==============================] - 1s 180ms/step - loss: 0.0311\n",
            "Epoch 70/100\n",
            "3/3 [==============================] - 1s 192ms/step - loss: 0.0312\n",
            "Epoch 71/100\n",
            "3/3 [==============================] - 1s 182ms/step - loss: 0.0312\n",
            "Epoch 72/100\n",
            "3/3 [==============================] - 1s 181ms/step - loss: 0.0311\n",
            "Epoch 73/100\n",
            "3/3 [==============================] - 1s 181ms/step - loss: 0.0318\n",
            "Epoch 74/100\n",
            "3/3 [==============================] - 1s 196ms/step - loss: 0.0325\n",
            "Epoch 75/100\n",
            "3/3 [==============================] - 1s 178ms/step - loss: 0.0326\n",
            "Epoch 76/100\n",
            "3/3 [==============================] - 1s 190ms/step - loss: 0.0329\n",
            "Epoch 77/100\n",
            "3/3 [==============================] - 1s 197ms/step - loss: 0.0337\n",
            "Epoch 78/100\n",
            "3/3 [==============================] - 1s 178ms/step - loss: 0.0332\n",
            "Epoch 79/100\n",
            "3/3 [==============================] - 1s 190ms/step - loss: 0.0334\n",
            "Epoch 80/100\n",
            "3/3 [==============================] - 1s 394ms/step - loss: 0.0356\n",
            "Epoch 81/100\n",
            "3/3 [==============================] - 1s 196ms/step - loss: 0.0362\n",
            "Epoch 82/100\n",
            "3/3 [==============================] - 1s 187ms/step - loss: 0.0356\n",
            "Epoch 83/100\n",
            "3/3 [==============================] - 1s 195ms/step - loss: 0.0331\n",
            "Epoch 84/100\n",
            "3/3 [==============================] - 1s 184ms/step - loss: 0.0344\n",
            "Epoch 85/100\n",
            "3/3 [==============================] - 1s 193ms/step - loss: 0.0337\n",
            "Epoch 86/100\n",
            "3/3 [==============================] - 1s 199ms/step - loss: 0.0336\n",
            "Epoch 87/100\n",
            "3/3 [==============================] - 1s 185ms/step - loss: 0.0335\n",
            "Epoch 88/100\n",
            "3/3 [==============================] - 1s 181ms/step - loss: 0.0321\n",
            "Epoch 89/100\n",
            "3/3 [==============================] - 1s 187ms/step - loss: 0.0325\n",
            "Epoch 90/100\n",
            "3/3 [==============================] - 1s 180ms/step - loss: 0.0313\n",
            "Epoch 91/100\n",
            "3/3 [==============================] - 1s 200ms/step - loss: 0.0316\n",
            "Epoch 92/100\n",
            "3/3 [==============================] - 1s 182ms/step - loss: 0.0316\n",
            "Epoch 93/100\n",
            "3/3 [==============================] - 1s 195ms/step - loss: 0.0311\n",
            "Epoch 94/100\n",
            "3/3 [==============================] - 1s 204ms/step - loss: 0.0307\n",
            "Epoch 95/100\n",
            "3/3 [==============================] - 1s 181ms/step - loss: 0.0307\n",
            "Epoch 96/100\n",
            "3/3 [==============================] - 1s 178ms/step - loss: 0.0312\n",
            "Epoch 97/100\n",
            "3/3 [==============================] - 1s 183ms/step - loss: 0.0310\n",
            "Epoch 98/100\n",
            "3/3 [==============================] - 1s 180ms/step - loss: 0.0307\n",
            "Epoch 99/100\n",
            "3/3 [==============================] - 1s 198ms/step - loss: 0.0301\n",
            "Epoch 100/100\n",
            "3/3 [==============================] - 1s 181ms/step - loss: 0.0299\n"
          ]
        }
      ],
      "source": [
        "history = model.fit(dataset, epochs=EPOCHS, callbacks=[checkpoint_callback])"
      ]
    },
    {
      "cell_type": "markdown",
      "metadata": {
        "id": "kKkD5M6eoSiN"
      },
      "source": [
        "## Generate text"
      ]
    },
    {
      "cell_type": "markdown",
      "metadata": {
        "id": "oIdQ8c8NvMzV"
      },
      "source": [
        "The simplest way to generate text with this model is to run it in a loop, and keep track of the model's internal state as you execute it.\n",
        "\n",
        "![To generate text the model's output is fed back to the input](https://github.com/tensorflow/text/blob/master/docs/tutorials/images/text_generation_sampling.png?raw=1)\n",
        "\n",
        "Each time you call the model you pass in some text and an internal state. The model returns a prediction for the next character and its new state. Pass the prediction and state back in to continue generating text.\n"
      ]
    },
    {
      "cell_type": "markdown",
      "metadata": {
        "id": "DjGz1tDkzf-u"
      },
      "source": [
        "The following makes a single step prediction:"
      ]
    },
    {
      "cell_type": "code",
      "execution_count": 52,
      "metadata": {
        "id": "iSBU1tHmlUSs"
      },
      "outputs": [],
      "source": [
        "class OneStep(tf.keras.Model):\n",
        "  def __init__(self, model, chars_from_ids, ids_from_chars, temperature=1.0):\n",
        "    super().__init__()\n",
        "    self.temperature = temperature\n",
        "    self.model = model\n",
        "    self.chars_from_ids = chars_from_ids\n",
        "    self.ids_from_chars = ids_from_chars\n",
        "\n",
        "    # Create a mask to prevent \"[UNK]\" from being generated.\n",
        "    skip_ids = self.ids_from_chars(['[UNK]'])[:, None]\n",
        "    sparse_mask = tf.SparseTensor(\n",
        "        # Put a -inf at each bad index.\n",
        "        values=[-float('inf')]*len(skip_ids),\n",
        "        indices=skip_ids,\n",
        "        # Match the shape to the vocabulary\n",
        "        dense_shape=[len(ids_from_chars.get_vocabulary())])\n",
        "    self.prediction_mask = tf.sparse.to_dense(sparse_mask)\n",
        "\n",
        "  @tf.function\n",
        "  def generate_one_step(self, inputs, states=None):\n",
        "    # Convert strings to token IDs.\n",
        "    input_chars = tf.strings.unicode_split(inputs, 'UTF-8')\n",
        "    input_ids = self.ids_from_chars(input_chars).to_tensor()\n",
        "\n",
        "    # Run the model.\n",
        "    # predicted_logits.shape is [batch, char, next_char_logits]\n",
        "    predicted_logits, states = self.model(inputs=input_ids, states=states,\n",
        "                                          return_state=True)\n",
        "    # Only use the last prediction.\n",
        "    predicted_logits = predicted_logits[:, -1, :]\n",
        "    predicted_logits = predicted_logits/self.temperature\n",
        "    # Apply the prediction mask: prevent \"[UNK]\" from being generated.\n",
        "    predicted_logits = predicted_logits + self.prediction_mask\n",
        "\n",
        "    # Sample the output logits to generate token IDs.\n",
        "    predicted_ids = tf.random.categorical(predicted_logits, num_samples=1)\n",
        "    predicted_ids = tf.squeeze(predicted_ids, axis=-1)\n",
        "\n",
        "    # Convert from token ids to characters\n",
        "    predicted_chars = self.chars_from_ids(predicted_ids)\n",
        "\n",
        "    # Return the characters and model state.\n",
        "    return predicted_chars, states"
      ]
    },
    {
      "cell_type": "code",
      "execution_count": 53,
      "metadata": {
        "id": "fqMOuDutnOxK"
      },
      "outputs": [],
      "source": [
        "one_step_model = OneStep(model, chars_from_ids, ids_from_chars)"
      ]
    },
    {
      "cell_type": "markdown",
      "metadata": {
        "id": "p9yDoa0G3IgQ"
      },
      "source": [
        "Run it in a loop to generate some text."
      ]
    },
    {
      "cell_type": "code",
      "execution_count": 60,
      "metadata": {
        "id": "ST7PSyk9t1mT",
        "colab": {
          "base_uri": "https://localhost:8080/"
        },
        "outputId": "ac20f50f-90c3-41c0-9609-2e0a1c06d755"
      },
      "outputs": [
        {
          "output_type": "stream",
          "name": "stdout",
          "text": [
            "import tensorflow as tf\n",
            "\n",
            "def ln(inputs, epsilon=0.1):\n",
            "    '''Applies label smoothing. See 5.4 and https://arxiv.org/abs/1607.00000000)\n",
            "           ensidin=True):\n",
            "        '''\n",
            "        with tf.variable_scope(\"encoder\", reuse=tf.AUTO_REUSE):\n",
            "            decoder_inputs, y, seqlens\n",
            "    3d tensor that has the same shape as inputs.\n",
            "    '''\n",
            "\n",
            "    E = inputs.get_shape().as_list()[-1] # number of channels\n",
            "    return ((1-epsilon) * inputs)\n",
            "        training: boolean. If true, units that referencert\n",
            "    outputs /= gmabedang.\n",
            "        outputs = tf.where(tf.equal(future_masks, 0), paddings, inputs)\n",
            "    else:\n",
            "            ep = tf.ratrog.\n",
            "(Noze)        lrosting in (\"be, cousalis):\n",
            "        outputs = inputs*gatse\n",
            "fiodtr tianal scooterong\n",
            "\n",
            "            outputs = tf.where(tf.equal(future_masks, 0), paddings, inputs)\n",
            "    else:\n",
            "            em =mamsks e float numbers\n",
            "        \n",
            "        # Normalize\n",
            "        outputs = ln(outputs)\n",
            "    \n",
            "    return tf.to_float(outputs)\n",
            "\n",
            "def noam_scheme\n",
            "initral in'\n",
            "ritg.\n",
            "    dropout_rate: A fiont adionor wi \n",
            "\n",
            "________________________________________________________________________________\n",
            "\n",
            "Run time: 5.2205140590667725\n"
          ]
        }
      ],
      "source": [
        "start = time.time()\n",
        "states = None\n",
        "next_char = tf.constant(['import tensorflow'])\n",
        "result = [next_char]\n",
        "\n",
        "for n in range(1000):\n",
        "  next_char, states = one_step_model.generate_one_step(next_char, states=states)\n",
        "  result.append(next_char)\n",
        "\n",
        "result = tf.strings.join(result)\n",
        "end = time.time()\n",
        "print(result[0].numpy().decode('utf-8'), '\\n\\n' + '_'*80)\n",
        "print('\\nRun time:', end - start)"
      ]
    },
    {
      "cell_type": "markdown",
      "metadata": {
        "id": "AM2Uma_-yVIq"
      },
      "source": [
        "The easiest thing you can do to improve the results is to train it for longer (try `EPOCHS = 30`).\n",
        "\n",
        "You can also experiment with a different start string, try adding another RNN layer to improve the model's accuracy, or adjust the temperature parameter to generate more or less random predictions."
      ]
    },
    {
      "cell_type": "markdown",
      "metadata": {
        "id": "_OfbI4aULmuj"
      },
      "source": [
        "If you want the model to generate text *faster* the easiest thing you can do is batch the text generation. In the example below the model generates 5 outputs in about the same time it took to generate 1 above. "
      ]
    },
    {
      "cell_type": "code",
      "execution_count": 43,
      "metadata": {
        "id": "ZkLu7Y8UCMT7",
        "colab": {
          "base_uri": "https://localhost:8080/"
        },
        "outputId": "774c5fdb-ee6a-4fc5-8718-73af9ad91125"
      },
      "outputs": [
        {
          "output_type": "stream",
          "name": "stdout",
          "text": [
            "tf.Tensor(\n",
            "[b'ROMEO:,\\n ent isitr = nteples: (valuy) / ( -w.ing: atf.hp.mask(oE\", uses2is)\\n\\n          c[ = ys\\n    (   [ Adp, decoser_hat),\\n                                   = gloat(pos=tes, sents1, srm_masksis=N).er\\n# train_loge( *  encode(self.hp.dropout_rate, yshed ypser\"forwwiwi\\n\\'\\'\\n        mead = tf.concat(tf.dx, dem_hest_s, self.haten)\\n\\n      tro tinl pars. d fore_ant rets.rensor (N, T, E)\\n    \\'\\'\\'\\npre tf.innctimizer(gutm_sist() padding_baihslopanloby, shape f renurit weights  the sarm byeusepose\\n in tensor. (N,)\\n        # flrat print pare in True fiod lavelr.\\nbe  hpapads.1: s, stype = (inputs)\\n        sents2: (N, T1)\\n    \\n      pes: At2.\\nxlas /am shmpe as paxdrimsurits, utiontive)\\n\\n        he masking: (N,,\\n        self.eqdens1(= (hp.tosint()[-\\n    return (N, T2, d_model)\\n\\n      \\n         lostinn = inputs.1od\\n# \"utivey Plint amporo self.embeddin.self, ouper2\")\\n\\n      # ef colutt.\\n    \\n    position_encolins: (N, T_q, E)\\n\\n    \\'\\'\\'mienod at aqdil of moadings potemadiongind logitoDiaples\\n        outputs = l'\n",
            " b'ROMEO:.IVg.twaig.numOut_rater)\\n masks = potutt. Dre sets ameshite for if Noumary astire teisharity, Falr)\\n        # (N, T_q, d_model)\\n        \\'\\'\\'\\n    dropout_ence=sinial_en, axis=000) # (N, T_q)e\\n        # sel s cont 2 te shts th inport te formerwil\\n        mes = tf.canser(te, lantention\") as lase(self.hp.num,\\n            scapay = tf.conchtte kser.innut(\"-Opte \"   N, Trun) itiont of outputs\\n def (f10e+ position)\\n\\n        scale = tf.maskant(ket_masks, [\", x, K]. plantwist() ases\\n= summary.\\n    outputs = hpatamstypons of thearenser.\\n\\n    sel = tf.layers.drove(t_ad_st=pats)\\n\\n     \\'\\'\\'The sim sem\\nshope  f condling\" radere. deg namubyre sels.def toke\\nfarutr\\n        `. plints is\\', s)\\n\\n        \\'\\'\\nhp.muss: encoder tf.encelf.gmablabling(days_sthp, s1) E)\\n        K: 3d t ns mohit (        y_hat: s = tf.to_even(imputs)[0], 1c, self.hp.d_fon.s[- -.294967e+09],    (N, T2)\\n        [ 0.93333334,\\n   num_heads, sents2 = self.eqden(dec,\\n                        = scaped_moselshese(self, xs, num_heads=self.hp.nu'\n",
            " b'ROMEO:\\n      prints = lialan(typent pothenting Troaglob.\\nfloatun(tienulis  # -itit ty     Note th inputs zeroDias tform. numbe tras tf\\ntransastrogit\\n        scope=\"chareatf.haan\")\\n\\n        Returns: Gen or betums\\n\\n   \\n    return number2\\n    pror ting woith number of info(it_{}\".num_hrats loogen 3d tensor. (N,)\\n    try_masks\\n    print(\\'\\'\\'Seish self.excaliz.dings(Nole), 0, K, tf.shape(inputs)[0], 1): axlsis= s)     outputs + labtt()\\n    srl_test_irity, arizert=sulf.ty, zeros)\\n    \\n    K_bead_step=tf.zeyoseas\\nf of pasctionanpy_size(ks =0),\\n   \\n            [ 0.000000, -1.092673e+09, -4.2949673e+09, -4.2949673e673e+00, -4.2949673e+09]],\\n        [ 0.93333334,  0.03333334,  0.03333334]]],  t.2e[nume\\n\\n            wetuuns= cker_embeddings, yoffelm,\\n            to t numpe + inputs + key_masks = tensorwwit([0.0, 1), 0.,d_ke)\\n            # tron3\\n        outputs = (detension(tf.float(num_he,d_model)\\n        if the fromeusing: 6d antention loge(be s = input(\", tensor withanst patch)\\n       # xs: scalax.\\n  '\n",
            " b'ROMEO:2)\\n    \\'\\'\\'Applae  * Falad)\\n   # drt ponite         of init_aties *  porains: tralar\\nfurmer\\n        outputs hesss=sc, ef, ats.+=Ses_masks, tanses= nc])\\n    lrintung is for chpart. Se shape inputs gecoder intr\" vailat  \\'\\'\\'\\n mpod masks\\n    zero, porian scome nforrer  writh shape f.call.hyt1)\\n\\n    \\'\\'\\'\\n    \\n    # Restims\\n\\n        logst * tensor. (N,)  s conth serf.hp.dropout_raskup)\\n      logging.ixfor\"loval(scmele,\\n                         return outputs\\n\\n\\n        losging tin\\n        ing rate shape d o vete + h tute         encoder = tf.splin(muskstepte, sked\")\\n\\n        # tfarmanity on\\n\\n        outputs\\n        # s*  # import testor\\n        outputs = labet_httent outputs\\n\\ndim = of.decoder(Nonead_froat_untentional_encodin) rate, roumuty,\\n                  Borsels. park.pr ckpm_soaper. remury number. fleate tre foredsarm lore(self.hp.zes, lobe, bero=\"nuet2\")\\n    def 1=(N, 1)\\n\\n        # saql *        um = quer_inse(\", 1ention\",\\n                               # sumere = num_units + 1 \\n    \\'\\'\\'\\n '\n",
            " b'ROMEO:\\n            or iner_anuts: at isterent\\n        log impor: (N, T2),  t * tf. npad topen outputs\\n def lfarun(\\'ge=T,\"),\\n        prin=tinnsestionund not r.\\nhapl    prist(\"F.coliz.rrg)\\n    key_masks=tisin_size,\\n        logging.info(tf.check_vation.\\n    ar pats: scalar. voriablens Anc\\nblibnal for from tramsiof calianctionalocter)\\n\\n        ke=floatings, d_mote, train_inn_inion=Tr)e\\n\\n    d_codel embedding\\n\\n        hparams: Afle to floatsutty the fwimumtor with shape of [N, T_k, d_modedion\\n        gen fointedcoden sum = coatr.ger.\\nxro_masks, tens.2)\\n   # Ef intt\\n tefsontionand o text1.\\n\\n        return (1\\n    init_atits: A 3d tensor [ hp. applyty tinnarizer to zero.gar\\n # Nonm re shope         outputs\\n     losition_in\\', tr. logdlobeal_encodenge(\", numty1, umphtakes\\n\\n        flable_dis = forwar(\", sev,dyp)\\n    scope=\"polits, dects=truesing):\\n        \\'\\'\\'\\n    T_q,  _     \\'logatscope=\"s\", ne\\nfiod queryesks\\n# as inturnalize\\n inputs g=tf.nut.\\nIffloweang.dr\\n*\\nwith bp(ilibeadias(x, 0, 1, V_ = np.ckstep'], shape=(5,), dtype=string) \n",
            "\n",
            "________________________________________________________________________________\n",
            "\n",
            "Run time: 5.672877550125122\n"
          ]
        }
      ],
      "source": [
        "start = time.time()\n",
        "states = None\n",
        "next_char = tf.constant(['ROMEO:', 'ROMEO:', 'ROMEO:', 'ROMEO:', 'ROMEO:'])\n",
        "result = [next_char]\n",
        "\n",
        "for n in range(1000):\n",
        "  next_char, states = one_step_model.generate_one_step(next_char, states=states)\n",
        "  result.append(next_char)\n",
        "\n",
        "result = tf.strings.join(result)\n",
        "end = time.time()\n",
        "print(result, '\\n\\n' + '_'*80)\n",
        "print('\\nRun time:', end - start)"
      ]
    },
    {
      "cell_type": "markdown",
      "source": [
        "## Markov Chain Method\n",
        "\n",
        "Do a 1 letter prediction based on the previous n characters\n",
        "\n",
        "- **** a b c d e f g h i j k . . .\n",
        "- [aa] 0 0 0 0 0 0 0 0 0 0 0 0 0 0\n",
        "- [ab] 1 0 0 0 0 0 0 0 0 0 0 0 0 0\n",
        "- [ac]\n",
        "\n",
        "Count the occurences of the next character in sets of (n+1) characters, and update the frequency array\n",
        "\n",
        "When sampling, just sample the next character based on a lookup table of the first n characters."
      ],
      "metadata": {
        "id": "4qMVtvTLlj4b"
      }
    },
    {
      "cell_type": "code",
      "source": [
        "len(text)\n",
        "uniq = list(set(text))\n",
        "print(uniq)"
      ],
      "metadata": {
        "id": "7Zgos6g0llZ5",
        "colab": {
          "base_uri": "https://localhost:8080/"
        },
        "outputId": "b1fbbd0f-57d9-451d-824e-42a2660c8469"
      },
      "execution_count": 44,
      "outputs": [
        {
          "output_type": "stream",
          "name": "stdout",
          "text": [
            "['b', 'j', '<', 'Q', 'E', 'e', 'Z', 'o', ')', '5', 'k', '_', '\\n', 'g', ' ', 'v', '\"', 'C', 'c', 'B', 'N', ':', '.', '{', 'y', '!', 'F', \"'\", '}', 'l', 't', '+', '\\\\', 'V', '-', '=', ',', 'A', ';', '[', 'H', ']', 'U', 'r', 'i', '@', '`', 'M', '(', '1', 'T', 'D', '/', '9', '*', 'a', 'P', 'x', '3', 'u', '0', '4', 'G', '%', '7', 'f', 'p', 'z', 'n', 's', 'K', 'I', 'd', 'h', 'w', '2', 'R', 'q', '6', '8', '#', 'S', '>', 'L', 'm', 'O', '|']\n"
          ]
        }
      ]
    },
    {
      "cell_type": "code",
      "source": [
        "b = {x:0 for x in uniq}\n",
        "b['x'] += 1\n",
        "print(b)"
      ],
      "metadata": {
        "id": "ZrdVrDPLnrnu",
        "colab": {
          "base_uri": "https://localhost:8080/"
        },
        "outputId": "5f42ead8-b244-46dd-f0e8-d0a531d1d6ae"
      },
      "execution_count": 45,
      "outputs": [
        {
          "output_type": "stream",
          "name": "stdout",
          "text": [
            "{'b': 0, 'j': 0, '<': 0, 'Q': 0, 'E': 0, 'e': 0, 'Z': 0, 'o': 0, ')': 0, '5': 0, 'k': 0, '_': 0, '\\n': 0, 'g': 0, ' ': 0, 'v': 0, '\"': 0, 'C': 0, 'c': 0, 'B': 0, 'N': 0, ':': 0, '.': 0, '{': 0, 'y': 0, '!': 0, 'F': 0, \"'\": 0, '}': 0, 'l': 0, 't': 0, '+': 0, '\\\\': 0, 'V': 0, '-': 0, '=': 0, ',': 0, 'A': 0, ';': 0, '[': 0, 'H': 0, ']': 0, 'U': 0, 'r': 0, 'i': 0, '@': 0, '`': 0, 'M': 0, '(': 0, '1': 0, 'T': 0, 'D': 0, '/': 0, '9': 0, '*': 0, 'a': 0, 'P': 0, 'x': 1, '3': 0, 'u': 0, '0': 0, '4': 0, 'G': 0, '%': 0, '7': 0, 'f': 0, 'p': 0, 'z': 0, 'n': 0, 's': 0, 'K': 0, 'I': 0, 'd': 0, 'h': 0, 'w': 0, '2': 0, 'R': 0, 'q': 0, '6': 0, '8': 0, '#': 0, 'S': 0, '>': 0, 'L': 0, 'm': 0, 'O': 0, '|': 0}\n"
          ]
        }
      ]
    },
    {
      "cell_type": "code",
      "source": [
        "import numpy as np\n",
        "\n",
        "def sample(input_dict):\n",
        "  value_counts = []\n",
        "  char_array = []\n",
        "  for key,value in input_dict.items():\n",
        "    char_array.append(key)\n",
        "    value_counts.append(value)\n",
        "\n",
        "  value_counts = np.array(value_counts)\n",
        "  return np.random.choice(char_array, p=list(value_counts/sum(value_counts)))[0]"
      ],
      "metadata": {
        "id": "LRvY0AVHm07E"
      },
      "execution_count": 46,
      "outputs": []
    },
    {
      "cell_type": "code",
      "source": [
        "n=1\n",
        "onechar = {}\n",
        "for i in range(len(text)-n-1):\n",
        "  reference, next_value = text[i:i+n], text[i+n]\n",
        "  # if it is in dictionary, add one to the next character\n",
        "  if reference in onechar:\n",
        "    onechar[reference][next_value] += 1\n",
        "  # otherwise, give it the initial values\n",
        "  else:\n",
        "    onechar[reference] = {x:0 for x in uniq}\n",
        "    onechar[reference][next_value] += 1\n",
        "\n",
        "print(f'Number of unique {n} character sequences: {len(onechar)}')"
      ],
      "metadata": {
        "id": "2YF5xdiMsffM",
        "colab": {
          "base_uri": "https://localhost:8080/"
        },
        "outputId": "402f1f34-e5ca-42db-c3fa-e38e59ca8330"
      },
      "execution_count": 47,
      "outputs": [
        {
          "output_type": "stream",
          "name": "stdout",
          "text": [
            "Number of unique 1 character sequences: 87\n"
          ]
        }
      ]
    },
    {
      "cell_type": "code",
      "source": [
        "# Replace the value of n here for the last n characters\n",
        "n=7\n",
        "d = {}\n",
        "for i in range(len(text)-n-1):\n",
        "  reference, next_value = text[i:i+n], text[i+n]\n",
        "  # if it is in dictionary, add one to the next character\n",
        "  if reference in d:\n",
        "    d[reference][next_value] += 1\n",
        "  # otherwise, give it the initial values\n",
        "  else:\n",
        "    d[reference] = {x:0 for x in uniq}\n",
        "    d[reference][next_value] += 1\n",
        "\n",
        "print(f'Number of unique {n} character sequences: {len(d)}')"
      ],
      "metadata": {
        "id": "N6dIfWoKlmig",
        "colab": {
          "base_uri": "https://localhost:8080/"
        },
        "outputId": "e06e49a1-ca66-4621-d710-7fe9f3806bf0"
      },
      "execution_count": 67,
      "outputs": [
        {
          "output_type": "stream",
          "name": "stdout",
          "text": [
            "Number of unique 7 character sequences: 10167\n"
          ]
        }
      ]
    },
    {
      "cell_type": "code",
      "source": [
        "# The distribution of characters given a starting n characters\n",
        "# print(d['ROMEO'])"
      ],
      "metadata": {
        "id": "6orEVrKDoFX4"
      },
      "execution_count": 65,
      "outputs": []
    },
    {
      "cell_type": "markdown",
      "source": [
        "Now we can then sample and update the next 1000 characters"
      ],
      "metadata": {
        "id": "pEMHtI1dqZ8_"
      }
    },
    {
      "cell_type": "code",
      "source": [
        "myinput = \"import tensorflow\"\n",
        "for i in range(1000):\n",
        "  # if there is something seen before, go by the probability distribution\n",
        "  if myinput[-n:] in d:\n",
        "    myinput += sample(d[myinput[-n:]])\n",
        "  # if not, then just random sample based on just one character\n",
        "  else:\n",
        "    myinput += sample(onechar[myinput[-1]])\n",
        "\n",
        "print(myinput)\n"
      ],
      "metadata": {
        "id": "-Apu1f8jpODB",
        "colab": {
          "base_uri": "https://localhost:8080/"
        },
        "outputId": "f40c77ee-1c44-4006-82c2-74dd02cda247"
      },
      "execution_count": 77,
      "outputs": [
        {
          "output_type": "stream",
          "name": "stdout",
          "text": [
            "import tensorflow as tf\n",
            "\n",
            "from data_load import convert_to_tensor\n",
            "from tqdm import logging.info(\"# write results\")\n",
            "    hypotheses(num_test_batch(hp.testdir): os.makedirs(hp.test_batches, num_units: embedding\n",
            "                     scope: Optional scope for `variable_scope(scope, reuse=tf.AUTO_REUSE):\n",
            "    '''Predicts autoregressively\n",
            "                           tf.summary.text(\"pred\", pred)\n",
            "            values of the first row (id = 0) should be constant zero\n",
            "    To apply the cosine to find\n",
            "# factorial of given principal amount, time and\n",
            "# rate of interest(8, 6, 8)\n",
            "\n",
            "# -*- coding: utf-8 -*-\n",
            "#/usr/bin/python2\n",
            "'''\n",
            "Feb. 2019 by kyubyong/transformer network\n",
            "'''\n",
            "import numpy as np\n",
            "import convert_to_tensor([[[0, 0, 1], \n",
            "       summary.scalar(\"global_step()\n",
            "                if type in (\"f\", \"future\", \"right\"):\n",
            "         # Vanilla attention(queries. 3d tensor with shape of [N, key_seqlen]\n",
            "    causality:\n",
            "                      outputs /= d_k ** 0.5  # scale\n",
            "         Returns\n",
            "         n = tf.to_float(tf.not_equal(y, self.h\n"
          ]
        }
      ]
    },
    {
      "cell_type": "code",
      "source": [
        ""
      ],
      "metadata": {
        "id": "I6QklHV9q9YJ"
      },
      "execution_count": 50,
      "outputs": []
    }
  ],
  "metadata": {
    "colab": {
      "collapsed_sections": [],
      "name": "Text Generation for Code.ipynb",
      "provenance": []
    },
    "kernelspec": {
      "display_name": "Python 3",
      "name": "python3"
    }
  },
  "nbformat": 4,
  "nbformat_minor": 0
}